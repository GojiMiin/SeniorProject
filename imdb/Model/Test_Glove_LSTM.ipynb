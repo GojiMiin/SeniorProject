{
 "cells": [
  {
   "cell_type": "code",
   "execution_count": 1,
   "metadata": {},
   "outputs": [],
   "source": [
    "# Keras\n",
    "from tensorflow.keras.preprocessing.text import Tokenizer\n",
    "from tensorflow.keras.preprocessing.sequence import pad_sequences\n",
    "from tensorflow.keras.models import Sequential\n",
    "from tensorflow.keras.layers import Dense, Flatten, LSTM, Conv1D, MaxPooling1D, Dropout, Activation, Embedding\n",
    "\n",
    "# Other\n",
    "import re\n",
    "import string\n",
    "import numpy as np\n",
    "import pandas as pd\n",
    "\n",
    "from sklearn.model_selection import train_test_split"
   ]
  },
  {
   "cell_type": "code",
   "execution_count": 19,
   "metadata": {},
   "outputs": [],
   "source": [
    "def saveModel(model):\n",
    "    # serialize model to YAML\n",
    "    model_yaml = model.to_yaml()\n",
    "    with open(\"Summary.yaml\", \"w\") as yaml_file:\n",
    "        yaml_file.write(model_yaml)\n",
    "    # serialize weights to HDF5\n",
    "    model.save_weights(\"Weights.h5\")\n",
    "    print(\"Saved model to disk\")"
   ]
  },
  {
   "cell_type": "code",
   "execution_count": 2,
   "metadata": {},
   "outputs": [],
   "source": [
    "vocabulary_size = 10000"
   ]
  },
  {
   "cell_type": "code",
   "execution_count": 3,
   "metadata": {},
   "outputs": [
    {
     "data": {
      "text/plain": [
       "(10000, 2)"
      ]
     },
     "execution_count": 3,
     "metadata": {},
     "output_type": "execute_result"
    }
   ],
   "source": [
    "path = \"../Clean/lemma_allresult.csv\"\n",
    "dataset = pd.read_csv(path)\n",
    "\n",
    "dataset.shape"
   ]
  },
  {
   "cell_type": "code",
   "execution_count": 4,
   "metadata": {},
   "outputs": [],
   "source": [
    "tokenizer = Tokenizer(num_words= vocabulary_size)\n",
    "tokenizer.fit_on_texts(dataset['cleaned_review'])\n",
    "\n",
    "sequences = tokenizer.texts_to_sequences(dataset['cleaned_review'])\n",
    "feat = pad_sequences(sequences, maxlen=853)\n",
    "target = dataset['Label'].values"
   ]
  },
  {
   "cell_type": "code",
   "execution_count": 5,
   "metadata": {},
   "outputs": [],
   "source": [
    "X_train, X_test, Y_train, Y_test = train_test_split(feat,target, test_size = 0.2, train_size = 0.8, random_state = 42)"
   ]
  },
  {
   "cell_type": "code",
   "execution_count": 6,
   "metadata": {},
   "outputs": [
    {
     "data": {
      "text/plain": [
       "(8000,)"
      ]
     },
     "execution_count": 6,
     "metadata": {},
     "output_type": "execute_result"
    }
   ],
   "source": [
    "Y_train.shape"
   ]
  },
  {
   "cell_type": "code",
   "execution_count": 7,
   "metadata": {},
   "outputs": [
    {
     "name": "stdout",
     "output_type": "stream",
     "text": [
      "Loaded 400000 word vectors.\n"
     ]
    }
   ],
   "source": [
    "embeddings_index = dict()\n",
    "f = open('glove.6B/glove.6B.100d.txt',encoding='utf-8')\n",
    "for line in f:\n",
    "    values = line.split()\n",
    "    word = values[0]\n",
    "    coefs = np.asarray(values[1:], dtype='float32')\n",
    "    embeddings_index[word] = coefs\n",
    "f.close()\n",
    "print('Loaded %s word vectors.' % len(embeddings_index))"
   ]
  },
  {
   "cell_type": "code",
   "execution_count": 8,
   "metadata": {},
   "outputs": [],
   "source": [
    "# create a weight matrix for words in training docs\n",
    "embedding_matrix = np.zeros((vocabulary_size, 100))\n",
    "for word, index in tokenizer.word_index.items():\n",
    "    if index > vocabulary_size - 1:\n",
    "        break\n",
    "    else:\n",
    "        embedding_vector = embeddings_index.get(word)\n",
    "        if embedding_vector is not None:\n",
    "            embedding_matrix[index] = embedding_vector"
   ]
  },
  {
   "cell_type": "code",
   "execution_count": 9,
   "metadata": {},
   "outputs": [],
   "source": [
    "model_glove = Sequential()\n",
    "model_glove.add(Embedding(input_dim=vocabulary_size,output_dim=100,input_length=853, weights=[embedding_matrix], trainable=False))\n",
    "model_glove.add(Dropout(0.2))\n",
    "model_glove.add(Conv1D(64, 5, activation='relu'))\n",
    "model_glove.add(MaxPooling1D(pool_size=4))\n",
    "model_glove.add(LSTM(100))\n",
    "model_glove.add(Dense(1, activation='sigmoid'))\n",
    "model_glove.compile(loss='binary_crossentropy', optimizer='adam', metrics=['accuracy'])"
   ]
  },
  {
   "cell_type": "code",
   "execution_count": 10,
   "metadata": {},
   "outputs": [
    {
     "name": "stdout",
     "output_type": "stream",
     "text": [
      "Model: \"sequential\"\n",
      "_________________________________________________________________\n",
      "Layer (type)                 Output Shape              Param #   \n",
      "=================================================================\n",
      "embedding (Embedding)        (None, 853, 100)          1000000   \n",
      "_________________________________________________________________\n",
      "dropout (Dropout)            (None, 853, 100)          0         \n",
      "_________________________________________________________________\n",
      "conv1d (Conv1D)              (None, 849, 64)           32064     \n",
      "_________________________________________________________________\n",
      "max_pooling1d (MaxPooling1D) (None, 212, 64)           0         \n",
      "_________________________________________________________________\n",
      "lstm (LSTM)                  (None, 100)               66000     \n",
      "_________________________________________________________________\n",
      "dense (Dense)                (None, 1)                 101       \n",
      "=================================================================\n",
      "Total params: 1,098,165\n",
      "Trainable params: 98,165\n",
      "Non-trainable params: 1,000,000\n",
      "_________________________________________________________________\n"
     ]
    }
   ],
   "source": [
    "model_glove.summary()"
   ]
  },
  {
   "cell_type": "code",
   "execution_count": 11,
   "metadata": {},
   "outputs": [
    {
     "name": "stdout",
     "output_type": "stream",
     "text": [
      "Train on 4800 samples, validate on 3200 samples\n",
      "Epoch 1/10\n",
      "4800/4800 [==============================] - 34s 7ms/sample - loss: 0.5890 - accuracy: 0.6779 - val_loss: 0.4804 - val_accuracy: 0.7834\n",
      "Epoch 2/10\n",
      "4800/4800 [==============================] - 33s 7ms/sample - loss: 0.5053 - accuracy: 0.7565 - val_loss: 0.4676 - val_accuracy: 0.7906\n",
      "Epoch 3/10\n",
      "4800/4800 [==============================] - 33s 7ms/sample - loss: 0.4465 - accuracy: 0.7983 - val_loss: 0.4022 - val_accuracy: 0.8194\n",
      "Epoch 4/10\n",
      "4800/4800 [==============================] - 34s 7ms/sample - loss: 0.3987 - accuracy: 0.8196 - val_loss: 0.4062 - val_accuracy: 0.8181\n",
      "Epoch 5/10\n",
      "4800/4800 [==============================] - 36s 8ms/sample - loss: 0.3486 - accuracy: 0.8485 - val_loss: 0.3760 - val_accuracy: 0.8300\n",
      "Epoch 6/10\n",
      "4800/4800 [==============================] - 33s 7ms/sample - loss: 0.3173 - accuracy: 0.8600 - val_loss: 0.3767 - val_accuracy: 0.8325\n",
      "Epoch 7/10\n",
      "4800/4800 [==============================] - 32s 7ms/sample - loss: 0.2647 - accuracy: 0.8885 - val_loss: 0.3936 - val_accuracy: 0.8306\n",
      "Epoch 8/10\n",
      "4800/4800 [==============================] - 33s 7ms/sample - loss: 0.2118 - accuracy: 0.9158 - val_loss: 0.4025 - val_accuracy: 0.8353\n",
      "Epoch 9/10\n",
      "4800/4800 [==============================] - 33s 7ms/sample - loss: 0.1779 - accuracy: 0.9298 - val_loss: 0.4491 - val_accuracy: 0.8072\n",
      "Epoch 10/10\n",
      "4800/4800 [==============================] - 33s 7ms/sample - loss: 0.1569 - accuracy: 0.9400 - val_loss: 0.4634 - val_accuracy: 0.8197\n"
     ]
    },
    {
     "data": {
      "text/plain": [
       "<tensorflow.python.keras.callbacks.History at 0x2717b3eef88>"
      ]
     },
     "execution_count": 11,
     "metadata": {},
     "output_type": "execute_result"
    }
   ],
   "source": [
    "model_glove.fit(X_train,\n",
    "                Y_train,\n",
    "                validation_split=0.4, \n",
    "                epochs = 10,\n",
    "                verbose=1,\n",
    "                batch_size=32)"
   ]
  },
  {
   "cell_type": "code",
   "execution_count": 12,
   "metadata": {},
   "outputs": [
    {
     "name": "stdout",
     "output_type": "stream",
     "text": [
      "2000/2000 [==============================] - 4s 2ms/sample - loss: 0.5185 - accuracy: 0.8030\n"
     ]
    }
   ],
   "source": [
    "score,acc = model_glove.evaluate(X_test, Y_test, verbose = 1, batch_size = 32)"
   ]
  },
  {
   "cell_type": "code",
   "execution_count": 13,
   "metadata": {},
   "outputs": [],
   "source": [
    "test_path = \"../Clean/lemma10000_master_result.csv\"\n",
    "\n",
    "test_dataset = pd.read_csv(test_path)"
   ]
  },
  {
   "cell_type": "code",
   "execution_count": 14,
   "metadata": {},
   "outputs": [],
   "source": [
    "#tokenizer.fit_on_texts(test_dataset['cleaned_review'])\n",
    "\n",
    "test_sequences = tokenizer.texts_to_sequences(test_dataset['cleaned_review'])\n",
    "test_feat = pad_sequences(test_sequences, maxlen=853)\n",
    "test_target = test_dataset['Label'].values"
   ]
  },
  {
   "cell_type": "code",
   "execution_count": 17,
   "metadata": {},
   "outputs": [],
   "source": [
    "result = model_glove.predict(test_feat)"
   ]
  },
  {
   "cell_type": "code",
   "execution_count": 18,
   "metadata": {},
   "outputs": [
    {
     "data": {
      "text/plain": [
       "array([[3849, 1151],\n",
       "       [ 577, 4423]], dtype=int64)"
      ]
     },
     "execution_count": 18,
     "metadata": {},
     "output_type": "execute_result"
    }
   ],
   "source": [
    "from sklearn.metrics import confusion_matrix\n",
    "cm = confusion_matrix(y_true=test_target , y_pred=result>0.5)\n",
    "\n",
    "cm"
   ]
  },
  {
   "cell_type": "code",
   "execution_count": 20,
   "metadata": {},
   "outputs": [
    {
     "name": "stdout",
     "output_type": "stream",
     "text": [
      "Saved model to disk\n"
     ]
    }
   ],
   "source": [
    "saveModel(model_glove)"
   ]
  },
  {
   "cell_type": "code",
   "execution_count": null,
   "metadata": {},
   "outputs": [],
   "source": []
  }
 ],
 "metadata": {
  "kernelspec": {
   "display_name": "Python 3.7 (tensorflow)",
   "language": "python",
   "name": "tensorflow"
  },
  "language_info": {
   "codemirror_mode": {
    "name": "ipython",
    "version": 3
   },
   "file_extension": ".py",
   "mimetype": "text/x-python",
   "name": "python",
   "nbconvert_exporter": "python",
   "pygments_lexer": "ipython3",
   "version": "3.7.9"
  }
 },
 "nbformat": 4,
 "nbformat_minor": 4
}
