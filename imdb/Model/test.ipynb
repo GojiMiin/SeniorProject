{
 "cells": [
  {
   "cell_type": "code",
   "execution_count": 1,
   "metadata": {},
   "outputs": [],
   "source": [
    "import pandas as pd"
   ]
  },
  {
   "cell_type": "code",
   "execution_count": 2,
   "metadata": {},
   "outputs": [],
   "source": [
    "lemma_result = pd.read_csv(\"../Clean/lemma_result.csv\") #Dataset"
   ]
  },
  {
   "cell_type": "code",
   "execution_count": 3,
   "metadata": {},
   "outputs": [
    {
     "name": "stdout",
     "output_type": "stream",
     "text": [
      "                                      cleaned_review  Label\n",
      "0  one reviewers mention watch 1 oz episode hook ...      1\n",
      "1  wonderful little production film technique una...      1\n",
      "2  think wonderful way spend time hot summer week...      1\n",
      "3  basically family little boy jake think zombie ...      0\n",
      "4  petter mattei love time money visually stun fi...      1\n"
     ]
    }
   ],
   "source": [
    "print(lemma_result.head())"
   ]
  },
  {
   "cell_type": "code",
   "execution_count": 4,
   "metadata": {},
   "outputs": [
    {
     "name": "stdout",
     "output_type": "stream",
     "text": [
      "(1000, 2)\n"
     ]
    }
   ],
   "source": [
    "print(lemma_result.shape)"
   ]
  },
  {
   "cell_type": "code",
   "execution_count": 5,
   "metadata": {},
   "outputs": [],
   "source": [
    "from sklearn.feature_extraction.text import CountVectorizer\n",
    "from tensorflow.keras.preprocessing.text import Tokenizer\n",
    "from tensorflow.keras.preprocessing.sequence import pad_sequences\n",
    "from tensorflow.keras.models import Sequential\n",
    "from tensorflow.keras.layers import Dense, Embedding, LSTM, Dropout\n",
    "from sklearn.model_selection import train_test_split\n",
    "import random\n",
    "import re"
   ]
  },
  {
   "cell_type": "code",
   "execution_count": 6,
   "metadata": {},
   "outputs": [],
   "source": [
    "max_fatures = 7000 #จำนวนคำที่ใช้ใน model\n",
    "tokenizer = Tokenizer(num_words=max_fatures, split=' ') \n",
    "tokenizer.fit_on_texts(lemma_result['cleaned_review'].values)\n",
    "X1 = tokenizer.texts_to_sequences(lemma_result['cleaned_review'].values)\n",
    "X1 = pad_sequences(X1)"
   ]
  },
  {
   "cell_type": "code",
   "execution_count": 7,
   "metadata": {},
   "outputs": [
    {
     "name": "stdout",
     "output_type": "stream",
     "text": [
      "(750, 580) (750, 2)\n",
      "(250, 580) (250, 2)\n"
     ]
    }
   ],
   "source": [
    "Y1 = pd.get_dummies(lemma_result['Label']).values\n",
    "X1_train, X1_test, Y1_train, Y1_test = train_test_split(X1,Y1, random_state = 42)\n",
    "print(X1_train.shape,Y1_train.shape)\n",
    "print(X1_test.shape,Y1_test.shape)"
   ]
  },
  {
   "cell_type": "code",
   "execution_count": 8,
   "metadata": {},
   "outputs": [
    {
     "name": "stdout",
     "output_type": "stream",
     "text": [
      "Model: \"sequential\"\n",
      "_________________________________________________________________\n",
      "Layer (type)                 Output Shape              Param #   \n",
      "=================================================================\n",
      "embedding (Embedding)        (None, 580, 150)          1050000   \n",
      "_________________________________________________________________\n",
      "lstm (LSTM)                  (None, 200)               280800    \n",
      "_________________________________________________________________\n",
      "dropout (Dropout)            (None, 200)               0         \n",
      "_________________________________________________________________\n",
      "dense (Dense)                (None, 1)                 201       \n",
      "=================================================================\n",
      "Total params: 1,331,001\n",
      "Trainable params: 1,331,001\n",
      "Non-trainable params: 0\n",
      "_________________________________________________________________\n",
      "None\n"
     ]
    }
   ],
   "source": [
    "embed_dim = 150\n",
    "lstm_out = 200\n",
    "\n",
    "model = Sequential()\n",
    "model.add(Embedding(max_fatures, embed_dim,input_length = X1.shape[1]))\n",
    "#model.add(Dropout(0.2))\n",
    "model.add(LSTM(lstm_out, dropout=0.2, recurrent_dropout=0.2))\n",
    "model.add(Dropout(0.2))\n",
    "model.add(Dense(1,activation='sigmoid'))\n",
    "model.compile(loss = 'binary_crossentropy', optimizer='adam',metrics = ['accuracy'])\n",
    "print(model.summary())"
   ]
  },
  {
   "cell_type": "code",
   "execution_count": 9,
   "metadata": {},
   "outputs": [
    {
     "data": {
      "text/plain": [
       "array([1, 1, 0, 0, 1, 0, 1, 1, 1, 0, 1, 0, 1, 1, 1, 1, 1, 1, 0, 0, 1, 1,\n",
       "       0, 1, 1, 0, 1, 1, 1, 1, 1, 0, 1, 0, 1, 1, 1, 1, 0, 0, 0, 0, 0, 1,\n",
       "       0, 1, 0, 1, 1, 1, 1, 1, 1, 1, 0, 0, 0, 1, 1, 0, 0, 1, 1, 0, 1, 0,\n",
       "       0, 1, 0, 1, 0, 1, 0, 0, 1, 1, 1, 1, 0, 1, 0, 1, 0, 0, 0, 0, 0, 0,\n",
       "       0, 0, 1, 0, 0, 1, 0, 1, 0, 1, 0, 0, 1, 1, 0, 1, 0, 0, 1, 1, 0, 1,\n",
       "       0, 0, 1, 0, 0, 1, 0, 0, 0, 0, 1, 1, 1, 0, 0, 0, 1, 0, 0, 0, 0, 0,\n",
       "       0, 0, 1, 0, 1, 1, 1, 1, 1, 0, 0, 0, 1, 1, 1, 1, 1, 1, 1, 0, 0, 0,\n",
       "       0, 0, 1, 1, 0, 0, 1, 0, 0, 1, 0, 0, 0, 0, 0, 0, 0, 1, 0, 0, 0, 1,\n",
       "       1, 1, 0, 0, 1, 0, 1, 1, 1, 1, 1, 0, 1, 1, 1, 0, 1, 0, 1, 0, 0, 0,\n",
       "       1, 1, 0, 0, 0, 1, 0, 0, 1, 0, 1, 1, 1, 0, 0, 0, 0, 1, 0, 0, 1, 0,\n",
       "       0, 0, 0, 1, 0, 0, 1, 1, 0, 0, 0, 1, 1, 1, 0, 1, 1, 0, 1, 1, 0, 0,\n",
       "       1, 0, 0, 0, 1, 1, 1, 1, 0, 1, 1, 0, 0, 0, 1, 1, 1, 1, 1, 1, 1, 1,\n",
       "       1, 1, 0, 1, 1, 0, 0, 0, 1, 1, 1, 1, 1, 0, 1, 0, 0, 1, 0, 0, 0, 1,\n",
       "       0, 0, 0, 1, 0, 0, 0, 0, 1, 0, 1, 0, 1, 1, 0, 1, 0, 1, 0, 1, 0, 1,\n",
       "       1, 1, 1, 1, 1, 1, 1, 1, 1, 0, 0, 1, 1, 0, 0, 0, 0, 1, 1, 1, 0, 1,\n",
       "       0, 1, 1, 0, 0, 0, 1, 0, 0, 1, 0, 1, 0, 1, 0, 1, 0, 0, 1, 0, 1, 1,\n",
       "       1, 1, 0, 0, 0, 0, 0, 0, 0, 1, 0, 0, 0, 1, 0, 0, 0, 0, 0, 0, 1, 1,\n",
       "       0, 1, 0, 1, 1, 0, 0, 1, 1, 1, 1, 1, 0, 0, 0, 0, 0, 0, 1, 1, 0, 0,\n",
       "       0, 0, 0, 1, 1, 1, 0, 1, 1, 1, 0, 0, 1, 0, 1, 0, 1, 0, 1, 0, 1, 0,\n",
       "       1, 1, 0, 0, 0, 1, 1, 0, 1, 0, 1, 1, 0, 1, 0, 1, 0, 1, 1, 1, 1, 0,\n",
       "       0, 0, 1, 0, 0, 1, 1, 0, 1, 0, 1, 1, 0, 1, 1, 0, 0, 0, 1, 0, 0, 1,\n",
       "       1, 1, 0, 0, 1, 0, 0, 0, 1, 1, 0, 0, 0, 0, 1, 1, 0, 0, 1, 1, 1, 1,\n",
       "       0, 0, 0, 0, 1, 1, 1, 1, 0, 1, 1, 0, 0, 1, 0, 0, 0, 0, 0, 1, 0, 0,\n",
       "       1, 1, 0, 1, 1, 1, 0, 0, 0, 1, 0, 1, 0, 0, 1, 0, 0, 0, 1, 1, 1, 1,\n",
       "       0, 1, 1, 0, 1, 0, 1, 0, 0, 0, 1, 0, 0, 0, 0, 0, 1, 1, 0, 0, 0, 0,\n",
       "       0, 0, 1, 0, 1, 1, 0, 0, 1, 1, 0, 1, 1, 0, 1, 1, 0, 0, 0, 1, 1, 1,\n",
       "       1, 0, 0, 1, 0, 1, 0, 1, 0, 1, 1, 1, 0, 1, 1, 0, 1, 1, 1, 1, 0, 1,\n",
       "       0, 0, 1, 0, 0, 1, 1, 1, 0, 1, 1, 1, 1, 1, 1, 0, 0, 0, 1, 1, 1, 0,\n",
       "       1, 0, 0, 1, 0, 0, 1, 1, 0, 0, 1, 0, 0, 1, 1, 0, 1, 1, 1, 0, 1, 0,\n",
       "       1, 0, 1, 1, 0, 1, 0, 1, 0, 0, 0, 1, 1, 1, 0, 0, 1, 1, 1, 1, 1, 0,\n",
       "       0, 1, 0, 1, 0, 0, 1, 1, 1, 0, 0, 1, 0, 1, 0, 0, 1, 1, 1, 0, 0, 1,\n",
       "       1, 0, 1, 1, 0, 0, 0, 0, 0, 0, 1, 0, 0, 1, 0, 0, 0, 0, 1, 1, 0, 1,\n",
       "       0, 1, 0, 1, 1, 0, 0, 1, 0, 0, 1, 1, 1, 1, 0, 1, 0, 0, 1, 1, 1, 0,\n",
       "       0, 1, 1, 0, 0, 0, 0, 0, 1, 1, 1, 1, 1, 0, 0, 0, 0, 1, 1, 0, 1, 0,\n",
       "       0, 0], dtype=uint8)"
      ]
     },
     "execution_count": 9,
     "metadata": {},
     "output_type": "execute_result"
    }
   ],
   "source": [
    "Y1_train[:,0]"
   ]
  },
  {
   "cell_type": "code",
   "execution_count": 10,
   "metadata": {
    "scrolled": true
   },
   "outputs": [
    {
     "name": "stdout",
     "output_type": "stream",
     "text": [
      "Train on 600 samples, validate on 150 samples\n",
      "Epoch 1/50\n",
      "600/600 - 28s - loss: 0.6927 - accuracy: 0.4833 - val_loss: 0.6891 - val_accuracy: 0.5133\n",
      "Epoch 2/50\n",
      "600/600 - 22s - loss: 0.6211 - accuracy: 0.7900 - val_loss: 0.6131 - val_accuracy: 0.6733\n",
      "Epoch 3/50\n",
      "600/600 - 22s - loss: 0.3556 - accuracy: 0.9333 - val_loss: 0.5153 - val_accuracy: 0.7400\n",
      "Epoch 4/50\n",
      "600/600 - 24s - loss: 0.1235 - accuracy: 0.9750 - val_loss: 0.5872 - val_accuracy: 0.7067\n",
      "Epoch 5/50\n",
      "600/600 - 24s - loss: 0.0518 - accuracy: 0.9933 - val_loss: 0.8464 - val_accuracy: 0.7267\n",
      "Epoch 6/50\n",
      "600/600 - 24s - loss: 0.0812 - accuracy: 0.9850 - val_loss: 0.5940 - val_accuracy: 0.7400\n",
      "Epoch 7/50\n",
      "600/600 - 24s - loss: 0.0394 - accuracy: 0.9933 - val_loss: 0.6095 - val_accuracy: 0.7133\n",
      "Epoch 8/50\n",
      "600/600 - 21s - loss: 0.0476 - accuracy: 0.9967 - val_loss: 0.6461 - val_accuracy: 0.7867\n",
      "Epoch 9/50\n",
      "600/600 - 22s - loss: 0.0071 - accuracy: 0.9983 - val_loss: 0.9141 - val_accuracy: 0.7333\n",
      "Epoch 10/50\n",
      "600/600 - 19s - loss: 0.0064 - accuracy: 0.9983 - val_loss: 0.6771 - val_accuracy: 0.7800\n",
      "Epoch 11/50\n",
      "600/600 - 19s - loss: 0.0040 - accuracy: 1.0000 - val_loss: 0.7213 - val_accuracy: 0.7867\n",
      "Epoch 12/50\n",
      "600/600 - 19s - loss: 0.0025 - accuracy: 1.0000 - val_loss: 0.7813 - val_accuracy: 0.7800\n",
      "Epoch 13/50\n",
      "600/600 - 19s - loss: 0.0017 - accuracy: 1.0000 - val_loss: 0.7765 - val_accuracy: 0.7933\n",
      "Epoch 14/50\n",
      "600/600 - 19s - loss: 0.0015 - accuracy: 1.0000 - val_loss: 0.8032 - val_accuracy: 0.7733\n",
      "Epoch 15/50\n",
      "600/600 - 19s - loss: 0.0010 - accuracy: 1.0000 - val_loss: 0.8467 - val_accuracy: 0.7800\n",
      "Epoch 16/50\n",
      "600/600 - 19s - loss: 0.0014 - accuracy: 1.0000 - val_loss: 0.9160 - val_accuracy: 0.7533\n",
      "Epoch 17/50\n",
      "600/600 - 19s - loss: 8.4805e-04 - accuracy: 1.0000 - val_loss: 0.9761 - val_accuracy: 0.7467\n",
      "Epoch 18/50\n",
      "600/600 - 19s - loss: 0.0093 - accuracy: 0.9983 - val_loss: 0.7931 - val_accuracy: 0.7400\n",
      "Epoch 19/50\n",
      "600/600 - 19s - loss: 0.0028 - accuracy: 1.0000 - val_loss: 0.8903 - val_accuracy: 0.7467\n",
      "Epoch 20/50\n",
      "600/600 - 19s - loss: 7.3957e-04 - accuracy: 1.0000 - val_loss: 0.9690 - val_accuracy: 0.7200\n",
      "Epoch 21/50\n",
      "600/600 - 19s - loss: 4.9081e-04 - accuracy: 1.0000 - val_loss: 1.0176 - val_accuracy: 0.7267\n",
      "Epoch 22/50\n",
      "600/600 - 19s - loss: 4.0529e-04 - accuracy: 1.0000 - val_loss: 1.0579 - val_accuracy: 0.7467\n",
      "Epoch 23/50\n",
      "600/600 - 19s - loss: 2.9835e-04 - accuracy: 1.0000 - val_loss: 1.0642 - val_accuracy: 0.7533\n",
      "Epoch 24/50\n",
      "600/600 - 19s - loss: 0.0022 - accuracy: 1.0000 - val_loss: 0.8555 - val_accuracy: 0.7467\n",
      "Epoch 25/50\n",
      "600/600 - 19s - loss: 0.0042 - accuracy: 1.0000 - val_loss: 0.8746 - val_accuracy: 0.7467\n",
      "Epoch 26/50\n",
      "600/600 - 19s - loss: 0.0012 - accuracy: 1.0000 - val_loss: 0.9171 - val_accuracy: 0.7467\n",
      "Epoch 27/50\n",
      "600/600 - 19s - loss: 5.6077e-04 - accuracy: 1.0000 - val_loss: 0.9633 - val_accuracy: 0.7467\n",
      "Epoch 28/50\n",
      "600/600 - 19s - loss: 3.6153e-04 - accuracy: 1.0000 - val_loss: 0.9999 - val_accuracy: 0.7467\n",
      "Epoch 29/50\n",
      "600/600 - 19s - loss: 0.0072 - accuracy: 0.9983 - val_loss: 0.9638 - val_accuracy: 0.7267\n",
      "Epoch 30/50\n",
      "600/600 - 19s - loss: 0.0035 - accuracy: 1.0000 - val_loss: 0.9400 - val_accuracy: 0.7467\n",
      "Epoch 31/50\n",
      "600/600 - 19s - loss: 5.8219e-04 - accuracy: 1.0000 - val_loss: 0.9414 - val_accuracy: 0.7600\n",
      "Epoch 32/50\n",
      "600/600 - 19s - loss: 3.5674e-04 - accuracy: 1.0000 - val_loss: 0.9699 - val_accuracy: 0.7600\n",
      "Epoch 33/50\n",
      "600/600 - 19s - loss: 2.3726e-04 - accuracy: 1.0000 - val_loss: 0.9994 - val_accuracy: 0.7467\n",
      "Epoch 34/50\n",
      "600/600 - 19s - loss: 2.1498e-04 - accuracy: 1.0000 - val_loss: 1.0254 - val_accuracy: 0.7600\n",
      "Epoch 35/50\n",
      "600/600 - 19s - loss: 2.2178e-04 - accuracy: 1.0000 - val_loss: 1.0527 - val_accuracy: 0.7467\n",
      "Epoch 36/50\n",
      "600/600 - 19s - loss: 2.7443e-04 - accuracy: 1.0000 - val_loss: 1.1382 - val_accuracy: 0.7400\n",
      "Epoch 37/50\n",
      "600/600 - 19s - loss: 4.9454e-04 - accuracy: 1.0000 - val_loss: 0.8673 - val_accuracy: 0.7600\n",
      "Epoch 38/50\n",
      "600/600 - 19s - loss: 0.0014 - accuracy: 1.0000 - val_loss: 0.8534 - val_accuracy: 0.7400\n",
      "Epoch 39/50\n",
      "600/600 - 19s - loss: 0.0010 - accuracy: 1.0000 - val_loss: 0.8965 - val_accuracy: 0.7667\n",
      "Epoch 40/50\n",
      "600/600 - 19s - loss: 3.7161e-04 - accuracy: 1.0000 - val_loss: 0.9402 - val_accuracy: 0.7600\n",
      "Epoch 41/50\n",
      "600/600 - 19s - loss: 0.0016 - accuracy: 1.0000 - val_loss: 1.1595 - val_accuracy: 0.7067\n",
      "Epoch 42/50\n",
      "600/600 - 19s - loss: 0.0034 - accuracy: 1.0000 - val_loss: 1.2312 - val_accuracy: 0.7000\n",
      "Epoch 43/50\n",
      "600/600 - 19s - loss: 6.4875e-04 - accuracy: 1.0000 - val_loss: 1.2834 - val_accuracy: 0.7133\n",
      "Epoch 44/50\n",
      "600/600 - 19s - loss: 3.2668e-04 - accuracy: 1.0000 - val_loss: 1.3089 - val_accuracy: 0.7133\n",
      "Epoch 45/50\n",
      "600/600 - 19s - loss: 2.4158e-04 - accuracy: 1.0000 - val_loss: 1.3197 - val_accuracy: 0.7267\n",
      "Epoch 46/50\n",
      "600/600 - 19s - loss: 1.9754e-04 - accuracy: 1.0000 - val_loss: 1.3241 - val_accuracy: 0.7267\n",
      "Epoch 47/50\n",
      "600/600 - 19s - loss: 1.8289e-04 - accuracy: 1.0000 - val_loss: 1.3330 - val_accuracy: 0.7133\n",
      "Epoch 48/50\n",
      "600/600 - 19s - loss: 1.6276e-04 - accuracy: 1.0000 - val_loss: 1.3369 - val_accuracy: 0.7200\n",
      "Epoch 49/50\n",
      "600/600 - 19s - loss: 1.3372e-04 - accuracy: 1.0000 - val_loss: 1.3423 - val_accuracy: 0.7133\n",
      "Epoch 50/50\n",
      "600/600 - 19s - loss: 1.0880e-04 - accuracy: 1.0000 - val_loss: 1.3449 - val_accuracy: 0.7133\n"
     ]
    }
   ],
   "source": [
    "batch_size = 32\n",
    "random.seed(10)\n",
    "history = model.fit(X1_train, Y1_train[:,0],validation_split=0.2, epochs = 50, batch_size=batch_size, verbose = 2)"
   ]
  },
  {
   "cell_type": "code",
   "execution_count": 11,
   "metadata": {},
   "outputs": [
    {
     "name": "stdout",
     "output_type": "stream",
     "text": [
      "250/250 - 1s - loss: 1.1090 - accuracy: 0.7600\n",
      "score: 1.11\n",
      "acc: 0.76\n"
     ]
    }
   ],
   "source": [
    "score,acc = model.evaluate(X1_test, Y1_test[:,0], verbose = 2, batch_size = batch_size)\n",
    "print(\"score: %.2f\" % (score))\n",
    "print(\"acc: %.2f\" % (acc))"
   ]
  },
  {
   "cell_type": "code",
   "execution_count": 12,
   "metadata": {},
   "outputs": [
    {
     "data": {
      "text/plain": [
       "array([[1.31124616e-01],\n",
       "       [9.71493244e-01],\n",
       "       [9.88988459e-01],\n",
       "       [9.99956608e-01],\n",
       "       [9.02622414e-04],\n",
       "       [2.86261402e-05],\n",
       "       [6.35275990e-02],\n",
       "       [9.98986781e-01],\n",
       "       [9.96480405e-01],\n",
       "       [2.60960072e-01],\n",
       "       [4.51727479e-04],\n",
       "       [6.12706244e-01],\n",
       "       [9.99462068e-01],\n",
       "       [2.06139013e-02],\n",
       "       [9.94938612e-01],\n",
       "       [9.93957043e-01],\n",
       "       [1.61923053e-05],\n",
       "       [6.41091645e-01],\n",
       "       [4.00579542e-01],\n",
       "       [2.06065553e-04],\n",
       "       [1.08403729e-05],\n",
       "       [9.97206151e-01],\n",
       "       [9.99894619e-01],\n",
       "       [2.00586044e-03],\n",
       "       [9.99979496e-01],\n",
       "       [9.59381580e-01],\n",
       "       [9.92388427e-01],\n",
       "       [2.29679481e-05],\n",
       "       [2.09311515e-01],\n",
       "       [7.93596730e-03],\n",
       "       [9.99835849e-01],\n",
       "       [9.99719083e-01],\n",
       "       [2.54704431e-02],\n",
       "       [1.69910002e-03],\n",
       "       [9.99425173e-01],\n",
       "       [1.12655351e-03],\n",
       "       [1.30943224e-01],\n",
       "       [4.08798410e-03],\n",
       "       [9.97288465e-01],\n",
       "       [1.68719143e-05],\n",
       "       [2.31836587e-01],\n",
       "       [9.91473317e-01],\n",
       "       [9.97165501e-01],\n",
       "       [9.99094725e-01],\n",
       "       [7.59943505e-05],\n",
       "       [4.83448603e-05],\n",
       "       [7.13530779e-01],\n",
       "       [1.33368492e-04],\n",
       "       [4.51957315e-01],\n",
       "       [7.51503176e-05],\n",
       "       [2.41531860e-02],\n",
       "       [9.99959588e-01],\n",
       "       [2.27592573e-01],\n",
       "       [9.99936581e-01],\n",
       "       [9.98016477e-01],\n",
       "       [2.35597443e-04],\n",
       "       [9.99972224e-01],\n",
       "       [2.47965101e-02],\n",
       "       [9.60976064e-01],\n",
       "       [1.62690859e-02],\n",
       "       [9.86948133e-01],\n",
       "       [2.19203022e-04],\n",
       "       [9.78692591e-01],\n",
       "       [3.71029577e-03],\n",
       "       [9.99072075e-01],\n",
       "       [7.33057320e-01],\n",
       "       [3.71267088e-03],\n",
       "       [9.56993492e-04],\n",
       "       [8.02582264e-01],\n",
       "       [9.99816000e-01],\n",
       "       [9.99830604e-01],\n",
       "       [1.21183934e-04],\n",
       "       [3.93184484e-04],\n",
       "       [9.99758184e-01],\n",
       "       [1.43656670e-03],\n",
       "       [1.01743020e-01],\n",
       "       [9.99513507e-01],\n",
       "       [9.98751521e-01],\n",
       "       [9.99903679e-01],\n",
       "       [4.44460213e-01],\n",
       "       [1.36937037e-01],\n",
       "       [8.71835463e-03],\n",
       "       [8.29592347e-01],\n",
       "       [3.85322392e-01],\n",
       "       [2.95457721e-06],\n",
       "       [1.17949361e-03],\n",
       "       [9.99800384e-01],\n",
       "       [8.37496118e-05],\n",
       "       [1.14240404e-02],\n",
       "       [9.99294877e-01],\n",
       "       [1.33431901e-03],\n",
       "       [4.74395725e-04],\n",
       "       [9.76044312e-02],\n",
       "       [1.10418524e-03],\n",
       "       [1.01682520e-03],\n",
       "       [8.37408543e-01],\n",
       "       [9.70784068e-01],\n",
       "       [9.99155521e-01],\n",
       "       [9.99893188e-01],\n",
       "       [2.86121690e-03],\n",
       "       [8.42022955e-01],\n",
       "       [4.02486548e-05],\n",
       "       [9.98970747e-01],\n",
       "       [9.99406934e-01],\n",
       "       [9.96113658e-01],\n",
       "       [9.97401118e-01],\n",
       "       [7.72567391e-01],\n",
       "       [9.99740779e-01],\n",
       "       [9.99928951e-01],\n",
       "       [1.61056239e-02],\n",
       "       [2.17326320e-04],\n",
       "       [2.80631866e-05],\n",
       "       [2.64075398e-01],\n",
       "       [8.16168264e-03],\n",
       "       [8.79100990e-03],\n",
       "       [6.97403448e-03],\n",
       "       [1.48520604e-01],\n",
       "       [3.74367373e-05],\n",
       "       [8.80979717e-01],\n",
       "       [1.33511261e-04],\n",
       "       [2.02378305e-05],\n",
       "       [9.53991548e-04],\n",
       "       [1.22227250e-02],\n",
       "       [9.72451985e-01],\n",
       "       [9.82716441e-01],\n",
       "       [9.86762226e-01],\n",
       "       [9.95260060e-01],\n",
       "       [9.99146700e-01],\n",
       "       [3.10088724e-01],\n",
       "       [8.37066352e-01],\n",
       "       [9.99137640e-01],\n",
       "       [7.00702076e-05],\n",
       "       [1.04370214e-01],\n",
       "       [1.37863439e-02],\n",
       "       [9.55179632e-01],\n",
       "       [9.91315842e-01],\n",
       "       [5.14990497e-05],\n",
       "       [6.78820215e-05],\n",
       "       [1.78121263e-03],\n",
       "       [9.19093847e-01],\n",
       "       [5.91142707e-05],\n",
       "       [9.96780276e-01],\n",
       "       [9.99595821e-01],\n",
       "       [9.89926100e-01],\n",
       "       [1.78396003e-03],\n",
       "       [7.82669961e-01],\n",
       "       [1.80875845e-02],\n",
       "       [9.51566219e-01],\n",
       "       [6.70275913e-05],\n",
       "       [1.59307710e-05],\n",
       "       [6.54117903e-05],\n",
       "       [9.95192409e-01],\n",
       "       [9.71188307e-01],\n",
       "       [2.65039108e-03],\n",
       "       [4.70371753e-01],\n",
       "       [4.90086228e-01],\n",
       "       [2.68826913e-03],\n",
       "       [2.45352654e-04],\n",
       "       [9.84212577e-01],\n",
       "       [6.37415657e-03],\n",
       "       [6.02163114e-02],\n",
       "       [1.64576201e-03],\n",
       "       [6.38367049e-03],\n",
       "       [1.31994413e-04],\n",
       "       [9.99752104e-01],\n",
       "       [9.96838808e-01],\n",
       "       [9.51870501e-01],\n",
       "       [3.05859372e-04],\n",
       "       [9.97340381e-01],\n",
       "       [6.64283152e-06],\n",
       "       [9.99996305e-01],\n",
       "       [6.53560609e-02],\n",
       "       [9.73997951e-01],\n",
       "       [9.99976039e-01],\n",
       "       [8.12809393e-02],\n",
       "       [4.65645397e-04],\n",
       "       [8.60505458e-03],\n",
       "       [9.97923195e-01],\n",
       "       [9.91589248e-01],\n",
       "       [6.68458641e-04],\n",
       "       [1.96951281e-04],\n",
       "       [7.97801495e-01],\n",
       "       [1.59880205e-03],\n",
       "       [9.99698400e-01],\n",
       "       [5.22693200e-03],\n",
       "       [9.97577608e-01],\n",
       "       [3.93019319e-02],\n",
       "       [4.44508551e-05],\n",
       "       [4.84634757e-01],\n",
       "       [3.71123868e-04],\n",
       "       [1.23834990e-01],\n",
       "       [5.27143538e-01],\n",
       "       [4.88786817e-01],\n",
       "       [4.54077236e-02],\n",
       "       [2.50141462e-03],\n",
       "       [9.99917269e-01],\n",
       "       [3.27151595e-03],\n",
       "       [1.09092612e-02],\n",
       "       [9.99966741e-01],\n",
       "       [9.93952334e-01],\n",
       "       [3.15523321e-05],\n",
       "       [5.21506906e-01],\n",
       "       [9.99648690e-01],\n",
       "       [7.84203827e-01],\n",
       "       [8.01449921e-03],\n",
       "       [9.98969078e-01],\n",
       "       [9.31079268e-01],\n",
       "       [9.99538779e-01],\n",
       "       [9.99715388e-01],\n",
       "       [9.99990106e-01],\n",
       "       [3.48653574e-03],\n",
       "       [9.82210398e-01],\n",
       "       [1.39161840e-01],\n",
       "       [9.99767959e-01],\n",
       "       [9.99795496e-01],\n",
       "       [5.30085266e-01],\n",
       "       [4.56992798e-02],\n",
       "       [9.99675512e-01],\n",
       "       [2.02694863e-01],\n",
       "       [9.99940991e-01],\n",
       "       [1.03106610e-01],\n",
       "       [8.99870429e-05],\n",
       "       [9.90303099e-01],\n",
       "       [7.59199262e-01],\n",
       "       [3.70293967e-02],\n",
       "       [4.50840889e-05],\n",
       "       [9.70276177e-01],\n",
       "       [6.50859030e-04],\n",
       "       [9.99505043e-01],\n",
       "       [9.99511361e-01],\n",
       "       [1.21807461e-04],\n",
       "       [1.14853997e-02],\n",
       "       [6.87503139e-04],\n",
       "       [3.92608196e-02],\n",
       "       [2.76049177e-05],\n",
       "       [4.50849242e-04],\n",
       "       [6.71880727e-04],\n",
       "       [1.87515790e-04],\n",
       "       [7.43595436e-02],\n",
       "       [1.53994060e-05],\n",
       "       [9.95791435e-01],\n",
       "       [9.99417782e-01],\n",
       "       [9.97242689e-01],\n",
       "       [6.13979949e-03],\n",
       "       [9.54257412e-05],\n",
       "       [1.32788103e-02],\n",
       "       [9.84387875e-01],\n",
       "       [9.98010337e-01],\n",
       "       [9.98013616e-01],\n",
       "       [9.97663021e-01]], dtype=float32)"
      ]
     },
     "execution_count": 12,
     "metadata": {},
     "output_type": "execute_result"
    }
   ],
   "source": [
    "lstm_output= model.predict(X1_test)\n",
    "\n",
    "lstm_output"
   ]
  },
  {
   "cell_type": "code",
   "execution_count": 13,
   "metadata": {
    "scrolled": true
   },
   "outputs": [
    {
     "name": "stdout",
     "output_type": "stream",
     "text": [
      "[[   0    0    0 ...  278  287 2640]\n",
      " [   0    0    0 ...  525  436  116]\n",
      " [   0    0    0 ... 5459 4154   35]\n",
      " ...\n",
      " [   0    0    0 ... 5990 1056 2752]\n",
      " [   0    0    0 ...  163 1379  333]\n",
      " [   0    0    0 ...   21  438  505]]\n"
     ]
    }
   ],
   "source": [
    "print(X1_test)"
   ]
  },
  {
   "cell_type": "code",
   "execution_count": 14,
   "metadata": {},
   "outputs": [
    {
     "data": {
      "text/plain": [
       "<tf.Tensor: shape=(2, 2), dtype=int32, numpy=\n",
       "array([[98, 23],\n",
       "       [37, 92]])>"
      ]
     },
     "execution_count": 14,
     "metadata": {},
     "output_type": "execute_result"
    }
   ],
   "source": [
    "import tensorflow as tf\n",
    "confusion = tf.math.confusion_matrix(labels=Y1_test[:,0], predictions=lstm_output>0.5)\n",
    "\n",
    "confusion"
   ]
  },
  {
   "cell_type": "code",
   "execution_count": 1,
   "metadata": {},
   "outputs": [
    {
     "ename": "NameError",
     "evalue": "name 'Y1_test' is not defined",
     "output_type": "error",
     "traceback": [
      "\u001b[1;31m---------------------------------------------------------------------------\u001b[0m",
      "\u001b[1;31mNameError\u001b[0m                                 Traceback (most recent call last)",
      "\u001b[1;32m<ipython-input-1-122e8279f7b3>\u001b[0m in \u001b[0;36m<module>\u001b[1;34m\u001b[0m\n\u001b[0;32m      2\u001b[0m \u001b[1;32mimport\u001b[0m \u001b[0mpylab\u001b[0m \u001b[1;32mas\u001b[0m \u001b[0mplt\u001b[0m\u001b[1;33m\u001b[0m\u001b[1;33m\u001b[0m\u001b[0m\n\u001b[0;32m      3\u001b[0m \u001b[0mlabels\u001b[0m \u001b[1;33m=\u001b[0m \u001b[1;33m[\u001b[0m\u001b[1;34m'positive'\u001b[0m\u001b[1;33m,\u001b[0m\u001b[1;34m'negative'\u001b[0m\u001b[1;33m]\u001b[0m\u001b[1;33m\u001b[0m\u001b[1;33m\u001b[0m\u001b[0m\n\u001b[1;32m----> 4\u001b[1;33m \u001b[0mcm\u001b[0m \u001b[1;33m=\u001b[0m \u001b[0mconfusion_matrix\u001b[0m\u001b[1;33m(\u001b[0m\u001b[0mY1_test\u001b[0m\u001b[1;33m[\u001b[0m\u001b[1;33m:\u001b[0m\u001b[1;33m,\u001b[0m\u001b[1;36m0\u001b[0m\u001b[1;33m]\u001b[0m\u001b[1;33m,\u001b[0m \u001b[0mlstm_output\u001b[0m\u001b[1;33m>\u001b[0m\u001b[1;36m0.5\u001b[0m\u001b[1;33m)\u001b[0m\u001b[1;33m\u001b[0m\u001b[1;33m\u001b[0m\u001b[0m\n\u001b[0m\u001b[0;32m      5\u001b[0m \u001b[0mfig\u001b[0m \u001b[1;33m=\u001b[0m \u001b[0mplt\u001b[0m\u001b[1;33m.\u001b[0m\u001b[0mfigure\u001b[0m\u001b[1;33m(\u001b[0m\u001b[1;33m)\u001b[0m\u001b[1;33m\u001b[0m\u001b[1;33m\u001b[0m\u001b[0m\n\u001b[0;32m      6\u001b[0m \u001b[0max\u001b[0m \u001b[1;33m=\u001b[0m \u001b[0mfig\u001b[0m\u001b[1;33m.\u001b[0m\u001b[0madd_subplot\u001b[0m\u001b[1;33m(\u001b[0m\u001b[1;36m111\u001b[0m\u001b[1;33m)\u001b[0m\u001b[1;33m\u001b[0m\u001b[1;33m\u001b[0m\u001b[0m\n",
      "\u001b[1;31mNameError\u001b[0m: name 'Y1_test' is not defined"
     ]
    }
   ],
   "source": [
    "from sklearn.metrics import confusion_matrix\n",
    "import pylab as plt\n",
    "labels = ['positive','negative']\n",
    "cm = confusion_matrix(Y1_test[:,0], lstm_output>0.5)\n",
    "fig = plt.figure()\n",
    "ax = fig.add_subplot(111)\n",
    "cax = ax.matshow(cm)\n",
    "plt.title('Confusion matrix of LSTM classifier (1 dropout)')\n",
    "fig.colorbar(cax)\n",
    "ax.set_xticklabels(['']+labels)\n",
    "ax.set_yticklabels(['']+labels)\n",
    "plt.xlabel('Predicted')\n",
    "plt.ylabel('True')\n",
    "plt.show()"
   ]
  },
  {
   "cell_type": "code",
   "execution_count": 2,
   "metadata": {
    "scrolled": true
   },
   "outputs": [
    {
     "ename": "NameError",
     "evalue": "name 'tokenizer' is not defined",
     "output_type": "error",
     "traceback": [
      "\u001b[1;31m---------------------------------------------------------------------------\u001b[0m",
      "\u001b[1;31mNameError\u001b[0m                                 Traceback (most recent call last)",
      "\u001b[1;32m<ipython-input-2-60d8ec2a1b7f>\u001b[0m in \u001b[0;36m<module>\u001b[1;34m\u001b[0m\n\u001b[1;32m----> 1\u001b[1;33m \u001b[0mtest\u001b[0m \u001b[1;33m=\u001b[0m \u001b[0mtokenizer\u001b[0m\u001b[1;33m.\u001b[0m\u001b[0mtexts_to_sequences\u001b[0m\u001b[1;33m(\u001b[0m\u001b[0mlemma_result\u001b[0m\u001b[1;33m[\u001b[0m\u001b[1;34m'cleaned_review'\u001b[0m\u001b[1;33m]\u001b[0m\u001b[1;33m.\u001b[0m\u001b[0mvalues\u001b[0m\u001b[1;33m)\u001b[0m\u001b[1;33m\u001b[0m\u001b[1;33m\u001b[0m\u001b[0m\n\u001b[0m\u001b[0;32m      2\u001b[0m \u001b[0mreverse_word_map\u001b[0m \u001b[1;33m=\u001b[0m \u001b[0mdict\u001b[0m\u001b[1;33m(\u001b[0m\u001b[0mmap\u001b[0m\u001b[1;33m(\u001b[0m\u001b[0mreversed\u001b[0m\u001b[1;33m,\u001b[0m \u001b[0mtokenizer\u001b[0m\u001b[1;33m.\u001b[0m\u001b[0mword_index\u001b[0m\u001b[1;33m.\u001b[0m\u001b[0mitems\u001b[0m\u001b[1;33m(\u001b[0m\u001b[1;33m)\u001b[0m\u001b[1;33m)\u001b[0m\u001b[1;33m)\u001b[0m \u001b[1;31m# map id to all word in dic\u001b[0m\u001b[1;33m\u001b[0m\u001b[1;33m\u001b[0m\u001b[0m\n\u001b[0;32m      3\u001b[0m \u001b[1;32mdef\u001b[0m \u001b[0msequence_to_text\u001b[0m\u001b[1;33m(\u001b[0m\u001b[0mlist_of_indices\u001b[0m\u001b[1;33m)\u001b[0m\u001b[1;33m:\u001b[0m\u001b[1;33m\u001b[0m\u001b[1;33m\u001b[0m\u001b[0m\n\u001b[0;32m      4\u001b[0m     \u001b[1;31m# Looking up words in dictionary\u001b[0m\u001b[1;33m\u001b[0m\u001b[1;33m\u001b[0m\u001b[1;33m\u001b[0m\u001b[0m\n\u001b[0;32m      5\u001b[0m     \u001b[0mwords\u001b[0m \u001b[1;33m=\u001b[0m \u001b[1;33m[\u001b[0m\u001b[0mreverse_word_map\u001b[0m\u001b[1;33m.\u001b[0m\u001b[0mget\u001b[0m\u001b[1;33m(\u001b[0m\u001b[0mletter\u001b[0m\u001b[1;33m)\u001b[0m \u001b[1;32mfor\u001b[0m \u001b[0mletter\u001b[0m \u001b[1;32min\u001b[0m \u001b[0mlist_of_indices\u001b[0m\u001b[1;33m]\u001b[0m\u001b[1;33m\u001b[0m\u001b[1;33m\u001b[0m\u001b[0m\n",
      "\u001b[1;31mNameError\u001b[0m: name 'tokenizer' is not defined"
     ]
    }
   ],
   "source": [
    "test = tokenizer.texts_to_sequences(lemma_result['cleaned_review'].values)\n",
    "reverse_word_map = dict(map(reversed, tokenizer.word_index.items())) # map id to all word in dic\n",
    "def sequence_to_text(list_of_indices):\n",
    "    # Looking up words in dictionary\n",
    "    words = [reverse_word_map.get(letter) for letter in list_of_indices]\n",
    "    return(words)\n",
    "\n",
    "my_texts = list(map(sequence_to_text, X1_test))\n",
    "my_texts[13]\n",
    "\n",
    "print(reverse_word_map)"
   ]
  },
  {
   "cell_type": "code",
   "execution_count": null,
   "metadata": {},
   "outputs": [],
   "source": []
  }
 ],
 "metadata": {
  "kernelspec": {
   "display_name": "Python 3.6(tensorflow)",
   "language": "python",
   "name": "tensorflow"
  },
  "language_info": {
   "codemirror_mode": {
    "name": "ipython",
    "version": 3
   },
   "file_extension": ".py",
   "mimetype": "text/x-python",
   "name": "python",
   "nbconvert_exporter": "python",
   "pygments_lexer": "ipython3",
   "version": "3.7.7"
  }
 },
 "nbformat": 4,
 "nbformat_minor": 4
}
