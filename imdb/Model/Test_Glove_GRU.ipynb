{
 "cells": [
  {
   "cell_type": "code",
   "execution_count": 1,
   "metadata": {},
   "outputs": [],
   "source": [
    "# Keras\n",
    "from tensorflow.keras.preprocessing.text import Tokenizer\n",
    "from tensorflow.keras.preprocessing.sequence import pad_sequences\n",
    "from tensorflow.keras.models import Sequential\n",
    "from tensorflow.keras.layers import Dense, Flatten, LSTM, Conv1D, MaxPooling1D, Dropout, Activation, Embedding, GRU\n",
    "\n",
    "# Other\n",
    "import re\n",
    "import string\n",
    "import numpy as np\n",
    "import pandas as pd\n",
    "\n",
    "from sklearn.model_selection import train_test_split"
   ]
  },
  {
   "cell_type": "code",
   "execution_count": 26,
   "metadata": {},
   "outputs": [],
   "source": [
    "def saveModel(model):\n",
    "    # serialize model to YAML\n",
    "    model_yaml = model.to_yaml()\n",
    "    with open(\"Summary.yaml\", \"w\") as yaml_file:\n",
    "        yaml_file.write(model_yaml)\n",
    "    # serialize weights to HDF5\n",
    "    model.save_weights(\"Weights.h5\")\n",
    "    print(\"Saved model to disk\")"
   ]
  },
  {
   "cell_type": "code",
   "execution_count": 2,
   "metadata": {},
   "outputs": [],
   "source": [
    "vocabulary_size = 10000"
   ]
  },
  {
   "cell_type": "code",
   "execution_count": 3,
   "metadata": {},
   "outputs": [
    {
     "data": {
      "text/plain": [
       "(10000, 2)"
      ]
     },
     "execution_count": 3,
     "metadata": {},
     "output_type": "execute_result"
    }
   ],
   "source": [
    "path = \"../Clean/lemma_allresult.csv\"\n",
    "dataset = pd.read_csv(path)\n",
    "\n",
    "dataset.shape"
   ]
  },
  {
   "cell_type": "code",
   "execution_count": 4,
   "metadata": {},
   "outputs": [],
   "source": [
    "tokenizer = Tokenizer(num_words= vocabulary_size)\n",
    "tokenizer.fit_on_texts(dataset['cleaned_review'])\n",
    "\n",
    "sequences = tokenizer.texts_to_sequences(dataset['cleaned_review'])\n",
    "feat = pad_sequences(sequences, maxlen=853)\n",
    "target = dataset['Label'].values"
   ]
  },
  {
   "cell_type": "code",
   "execution_count": 5,
   "metadata": {},
   "outputs": [],
   "source": [
    "X_train, X_test, Y_train, Y_test = train_test_split(feat,target, test_size = 0.2, train_size = 0.8, random_state = 42)"
   ]
  },
  {
   "cell_type": "code",
   "execution_count": 8,
   "metadata": {},
   "outputs": [
    {
     "data": {
      "text/plain": [
       "(8000,)"
      ]
     },
     "execution_count": 8,
     "metadata": {},
     "output_type": "execute_result"
    }
   ],
   "source": [
    "Y_train.shape"
   ]
  },
  {
   "cell_type": "code",
   "execution_count": 9,
   "metadata": {},
   "outputs": [
    {
     "name": "stdout",
     "output_type": "stream",
     "text": [
      "Loaded 400000 word vectors.\n"
     ]
    }
   ],
   "source": [
    "embeddings_index = dict()\n",
    "f = open('glove.6B/glove.6B.100d.txt',encoding='utf-8')\n",
    "for line in f:\n",
    "    values = line.split()\n",
    "    word = values[0]\n",
    "    coefs = np.asarray(values[1:], dtype='float32')\n",
    "    embeddings_index[word] = coefs\n",
    "f.close()\n",
    "print('Loaded %s word vectors.' % len(embeddings_index))"
   ]
  },
  {
   "cell_type": "code",
   "execution_count": 10,
   "metadata": {},
   "outputs": [],
   "source": [
    "# create a weight matrix for words in training docs\n",
    "embedding_matrix = np.zeros((vocabulary_size, 100))\n",
    "for word, index in tokenizer.word_index.items():\n",
    "    if index > vocabulary_size - 1:\n",
    "        break\n",
    "    else:\n",
    "        embedding_vector = embeddings_index.get(word)\n",
    "        if embedding_vector is not None:\n",
    "            embedding_matrix[index] = embedding_vector"
   ]
  },
  {
   "cell_type": "code",
   "execution_count": 11,
   "metadata": {},
   "outputs": [],
   "source": [
    "model_glove = Sequential()\n",
    "model_glove.add(Embedding(input_dim=vocabulary_size,output_dim=100,input_length=853, weights=[embedding_matrix], trainable=False))\n",
    "model_glove.add(Dropout(0.2))\n",
    "model_glove.add(Conv1D(64, 5, activation='relu'))\n",
    "model_glove.add(MaxPooling1D(pool_size=4))\n",
    "model_glove.add(GRU(100))\n",
    "model_glove.add(Dense(1, activation='sigmoid'))\n",
    "model_glove.compile(loss='binary_crossentropy', optimizer='adam', metrics=['accuracy'])"
   ]
  },
  {
   "cell_type": "code",
   "execution_count": 12,
   "metadata": {},
   "outputs": [
    {
     "name": "stdout",
     "output_type": "stream",
     "text": [
      "Model: \"sequential\"\n",
      "_________________________________________________________________\n",
      "Layer (type)                 Output Shape              Param #   \n",
      "=================================================================\n",
      "embedding (Embedding)        (None, 853, 100)          1000000   \n",
      "_________________________________________________________________\n",
      "dropout (Dropout)            (None, 853, 100)          0         \n",
      "_________________________________________________________________\n",
      "conv1d (Conv1D)              (None, 849, 64)           32064     \n",
      "_________________________________________________________________\n",
      "max_pooling1d (MaxPooling1D) (None, 212, 64)           0         \n",
      "_________________________________________________________________\n",
      "gru (GRU)                    (None, 100)               49800     \n",
      "_________________________________________________________________\n",
      "dense (Dense)                (None, 1)                 101       \n",
      "=================================================================\n",
      "Total params: 1,081,965\n",
      "Trainable params: 81,965\n",
      "Non-trainable params: 1,000,000\n",
      "_________________________________________________________________\n"
     ]
    }
   ],
   "source": [
    "model_glove.summary()"
   ]
  },
  {
   "cell_type": "code",
   "execution_count": 13,
   "metadata": {},
   "outputs": [
    {
     "name": "stdout",
     "output_type": "stream",
     "text": [
      "Train on 4800 samples, validate on 3200 samples\n",
      "Epoch 1/10\n",
      "4800/4800 [==============================] - 32s 7ms/sample - loss: 0.6048 - accuracy: 0.6571 - val_loss: 0.4605 - val_accuracy: 0.7884\n",
      "Epoch 2/10\n",
      "4800/4800 [==============================] - 31s 7ms/sample - loss: 0.4741 - accuracy: 0.7748 - val_loss: 0.4163 - val_accuracy: 0.8087\n",
      "Epoch 3/10\n",
      "4800/4800 [==============================] - 30s 6ms/sample - loss: 0.4354 - accuracy: 0.7942 - val_loss: 0.4043 - val_accuracy: 0.8163\n",
      "Epoch 4/10\n",
      "4800/4800 [==============================] - 30s 6ms/sample - loss: 0.3616 - accuracy: 0.8373 - val_loss: 0.4207 - val_accuracy: 0.8081\n",
      "Epoch 5/10\n",
      "4800/4800 [==============================] - 30s 6ms/sample - loss: 0.3049 - accuracy: 0.8675 - val_loss: 0.4092 - val_accuracy: 0.8256\n",
      "Epoch 6/10\n",
      "4800/4800 [==============================] - 31s 6ms/sample - loss: 0.2596 - accuracy: 0.8888 - val_loss: 0.4091 - val_accuracy: 0.8263\n",
      "Epoch 7/10\n",
      "4800/4800 [==============================] - 31s 6ms/sample - loss: 0.2039 - accuracy: 0.9177 - val_loss: 0.5086 - val_accuracy: 0.8084\n",
      "Epoch 8/10\n",
      "4800/4800 [==============================] - 30s 6ms/sample - loss: 0.1615 - accuracy: 0.9344 - val_loss: 0.5072 - val_accuracy: 0.8116\n",
      "Epoch 9/10\n",
      "4800/4800 [==============================] - 28s 6ms/sample - loss: 0.1426 - accuracy: 0.9435 - val_loss: 0.4936 - val_accuracy: 0.8322\n",
      "Epoch 10/10\n",
      "4800/4800 [==============================] - 28s 6ms/sample - loss: 0.1082 - accuracy: 0.9556 - val_loss: 0.5681 - val_accuracy: 0.8156\n"
     ]
    },
    {
     "data": {
      "text/plain": [
       "<tensorflow.python.keras.callbacks.History at 0x225ac077a48>"
      ]
     },
     "execution_count": 13,
     "metadata": {},
     "output_type": "execute_result"
    }
   ],
   "source": [
    "model_glove.fit(X_train,\n",
    "                Y_train,\n",
    "                validation_split=0.4, \n",
    "                epochs = 10,\n",
    "                verbose=1,\n",
    "                batch_size=32)"
   ]
  },
  {
   "cell_type": "code",
   "execution_count": 14,
   "metadata": {},
   "outputs": [
    {
     "name": "stdout",
     "output_type": "stream",
     "text": [
      "2000/2000 [==============================] - 4s 2ms/sample - loss: 0.6288 - accuracy: 0.7965\n"
     ]
    }
   ],
   "source": [
    "score,acc = model_glove.evaluate(X_test, Y_test, verbose = 1, batch_size = 32)"
   ]
  },
  {
   "cell_type": "code",
   "execution_count": 15,
   "metadata": {},
   "outputs": [],
   "source": [
    "test_path = \"../Clean/lemma10000_master_result.csv\"\n",
    "\n",
    "test_dataset = pd.read_csv(test_path)"
   ]
  },
  {
   "cell_type": "code",
   "execution_count": 16,
   "metadata": {},
   "outputs": [],
   "source": [
    "#tokenizer.fit_on_texts(test_dataset['cleaned_review'])\n",
    "\n",
    "test_sequences = tokenizer.texts_to_sequences(test_dataset['cleaned_review'])\n",
    "test_feat = pad_sequences(test_sequences, maxlen=853)\n",
    "test_target = test_dataset['Label'].values"
   ]
  },
  {
   "cell_type": "code",
   "execution_count": 17,
   "metadata": {},
   "outputs": [],
   "source": [
    "result = model_glove.predict(test_feat)"
   ]
  },
  {
   "cell_type": "code",
   "execution_count": 18,
   "metadata": {},
   "outputs": [
    {
     "data": {
      "text/plain": [
       "array([[3653, 1347],\n",
       "       [ 478, 4522]], dtype=int64)"
      ]
     },
     "execution_count": 18,
     "metadata": {},
     "output_type": "execute_result"
    }
   ],
   "source": [
    "from sklearn.metrics import confusion_matrix\n",
    "cm = confusion_matrix(y_true=test_target , y_pred=result>0.5)\n",
    "\n",
    "cm"
   ]
  },
  {
   "cell_type": "code",
   "execution_count": 27,
   "metadata": {},
   "outputs": [
    {
     "name": "stdout",
     "output_type": "stream",
     "text": [
      "Saved model to disk\n"
     ]
    }
   ],
   "source": [
    "saveModel(model_glove)"
   ]
  },
  {
   "cell_type": "code",
   "execution_count": null,
   "metadata": {},
   "outputs": [],
   "source": []
  }
 ],
 "metadata": {
  "kernelspec": {
   "display_name": "Python 3.7 (tensorflow)",
   "language": "python",
   "name": "tensorflow"
  },
  "language_info": {
   "codemirror_mode": {
    "name": "ipython",
    "version": 3
   },
   "file_extension": ".py",
   "mimetype": "text/x-python",
   "name": "python",
   "nbconvert_exporter": "python",
   "pygments_lexer": "ipython3",
   "version": "3.7.9"
  }
 },
 "nbformat": 4,
 "nbformat_minor": 4
}
