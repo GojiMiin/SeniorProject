{
 "cells": [
  {
   "cell_type": "code",
   "execution_count": 1,
   "metadata": {},
   "outputs": [],
   "source": [
    "import pandas as pd\n",
    "import yaml\n",
    "import random\n",
    "import re\n",
    "import matplotlib.pyplot as plt\n",
    "import numpy as np\n",
    "from sklearn.feature_extraction.text import CountVectorizer\n",
    "from tensorflow.keras.layers import LayerNormalization,BatchNormalization\n",
    "from tensorflow.keras.preprocessing.text import Tokenizer\n",
    "from tensorflow.keras.preprocessing.sequence import pad_sequences\n",
    "from tensorflow.keras.models import Sequential\n",
    "from tensorflow.keras.layers import Dense, Embedding, LSTM, GRU, Dropout\n",
    "from tensorflow.keras.models import model_from_yaml\n",
    "from sklearn.model_selection import train_test_split\n",
    "from sklearn.metrics import confusion_matrix\n",
    "\n",
    "np.set_printoptions(suppress=True)"
   ]
  },
  {
   "cell_type": "code",
   "execution_count": 2,
   "metadata": {},
   "outputs": [],
   "source": [
    "def readFile(filePath):\n",
    "    lemma_result = pd.read_csv(filePath)\n",
    "    print(lemma_result.shape)\n",
    "    return lemma_result"
   ]
  },
  {
   "cell_type": "code",
   "execution_count": 3,
   "metadata": {},
   "outputs": [],
   "source": [
    "def checkLength(max_feat, file):\n",
    "    leng = 0\n",
    "    sentence = []\n",
    "    allData = file['cleaned_review']\n",
    "\n",
    "    max_fatures = max_feat\n",
    "    tokenizer = Tokenizer(num_words=max_fatures, split=' ') \n",
    "    tokenizer.fit_on_texts(allData.values)\n",
    "    X1 = tokenizer.texts_to_sequences(allData.values)\n",
    "    \n",
    "    for i in X1:\n",
    "        if len(i)>leng:\n",
    "            leng = len(i)\n",
    "            sentence = i\n",
    "    print(leng)\n",
    "    print(sentence)\n",
    "    return leng"
   ]
  },
  {
   "cell_type": "code",
   "execution_count": 4,
   "metadata": {},
   "outputs": [],
   "source": [
    "def beforeCreateModel(max_feat,dataset,max_length):\n",
    "    max_fatures = max_feat #จำนวนคำที่ใช้ใน model\n",
    "    tokenizer = Tokenizer(num_words=max_fatures, split=' ') \n",
    "    tokenizer.fit_on_texts(dataset['cleaned_review'].values)\n",
    "    X1 = tokenizer.texts_to_sequences(dataset['cleaned_review'].values)\n",
    "    print(len(tokenizer.word_index))\n",
    "    feat = pad_sequences(X1, padding='pre',maxlen=max_length) # 505 = max_length in sentence\n",
    "    target = dataset['Label'].values\n",
    "\n",
    "    return feat,target,tokenizer"
   ]
  },
  {
   "cell_type": "code",
   "execution_count": 5,
   "metadata": {},
   "outputs": [],
   "source": [
    "def createModelLSTM(embed_dim,lstm_out,max_feat,input_length): #(MAX_FEAT=5000)\n",
    "    embed_dim = embed_dim\n",
    "    lstm_out = lstm_out\n",
    "    model = Sequential() #Create Model\n",
    "    model.add(Embedding(input_dim = max_feat ,output_dim = embed_dim ,input_length = input_length)) #Input Layer\n",
    "    model.add(Dropout(0.2))\n",
    "    model.add(LSTM(lstm_out, dropout=0.2, recurrent_dropout=0.2)) #1st Hidden Layer\n",
    "    model.add(Dropout(0.2))\n",
    "    model.add(Dense(4, activation='relu')) #2nd Hidden Layer\n",
    "    model.add(Dropout(0.2))\n",
    "    model.add(Dense(2, activation='relu')) #3rd Hidden Layer\n",
    "    model.add(Dropout(0.2))\n",
    "    model.add(Dense(1,activation='sigmoid')) # Output Layer\n",
    "    model.compile(loss = 'binary_crossentropy', optimizer='adam',metrics = ['accuracy'])\n",
    "    print(model.summary())\n",
    "    return model"
   ]
  },
  {
   "cell_type": "code",
   "execution_count": 6,
   "metadata": {},
   "outputs": [],
   "source": [
    "def createModelGRU(embed_dim,gru_out,max_feat,input_length):\n",
    "    embed_dim = embed_dim\n",
    "    gru_out = gru_out\n",
    "    model = Sequential()\n",
    "    model.add(Embedding(max_feat, embed_dim,input_length = input_length)) \n",
    "    model.add(Dropout(0.2))\n",
    "    model.add(GRU(gru_out, dropout=0.2, recurrent_dropout=0.2))\n",
    "    model.add(Dropout(0.2))\n",
    "    model.add(Dense(1,activation='sigmoid'))\n",
    "    model.compile(loss = 'binary_crossentropy', optimizer='adam',metrics = ['accuracy'])\n",
    "    print(model.summary())\n",
    "    return model"
   ]
  },
  {
   "cell_type": "code",
   "execution_count": 7,
   "metadata": {},
   "outputs": [],
   "source": [
    "def trainModel(model,feat,target,validation_split,epochs,batch_size):\n",
    "    random.seed(10)\n",
    "    history = model.fit(feat, target,validation_split=validation_split, epochs = epochs, batch_size=batch_size)\n",
    "    return history"
   ]
  },
  {
   "cell_type": "code",
   "execution_count": 8,
   "metadata": {},
   "outputs": [],
   "source": [
    "def evaluateModel(model,feat,target,batch_size):\n",
    "    score,acc = model.evaluate(feat, target, verbose = 2, batch_size = batch_size)\n",
    "    print(\"score: %.2f\" % (score))\n",
    "    print(\"acc: %.2f\" % (acc))"
   ]
  },
  {
   "cell_type": "code",
   "execution_count": 28,
   "metadata": {},
   "outputs": [],
   "source": [
    "def plotLoss(history):\n",
    "    loss_values = history.history['loss']\n",
    "    val_loss_values = history.history['val_loss']\n",
    "    epochs = range(1, len(loss_values)+1)\n",
    "\n",
    "    plt.plot(epochs, loss_values, label='Training Loss')\n",
    "    plt.plot(epochs, val_loss_values, label='Validation Loss')\n",
    "    plt.xlabel('Epochs')\n",
    "    plt.ylabel('Loss')\n",
    "    plt.legend()\n",
    "    plt.show()"
   ]
  },
  {
   "cell_type": "code",
   "execution_count": 10,
   "metadata": {},
   "outputs": [],
   "source": [
    "def saveModel(model):\n",
    "    # serialize model to YAML\n",
    "    model_yaml = model.to_yaml()\n",
    "    with open(\"addTestTrainSize.yaml\", \"w\") as yaml_file:\n",
    "        yaml_file.write(model_yaml)\n",
    "    # serialize weights to HDF5\n",
    "    model.save_weights(\"addTestTrainSize.h5\")\n",
    "    print(\"Saved model to disk\")"
   ]
  },
  {
   "cell_type": "code",
   "execution_count": 11,
   "metadata": {},
   "outputs": [],
   "source": [
    "def loadModel(yamlPathName, h5PathName):\n",
    "    with open(yamlPathName+'.yaml', 'r') as yaml_file:\n",
    "        print(yamlPathName)\n",
    "        loaded_model_yaml = yaml_file.read()\n",
    "        loaded_model = model_from_yaml(loaded_model_yaml)\n",
    "        loaded_model.load_weights(h5PathName+'.h5')\n",
    "    loaded_model.compile(loss = 'binary_crossentropy', optimizer='adam',metrics = ['accuracy'])\n",
    "    return loaded_model"
   ]
  },
  {
   "cell_type": "code",
   "execution_count": 12,
   "metadata": {},
   "outputs": [],
   "source": [
    "def filterAndShow(filter1, filter2, modelOutput, labelTest):\n",
    "    print(modelOutput)\n",
    "    test = []\n",
    "    test_y = []\n",
    "\n",
    "    for i in range(len(modelOutput)):\n",
    "        if(modelOutput[i] <filter1 or modelOutput[i]>filter2):\n",
    "            test.append(modelOutput[i])\n",
    "            test_y.append(labelTest[i])\n",
    "\n",
    "    test1 = np.array(test)\n",
    "    testy1 = np.array(test_y)\n",
    "    print(testy1)\n",
    "    print(test1.shape)\n",
    "    print(testy1.shape)\n",
    "    showConfusionMatrix(testy1, test1)"
   ]
  },
  {
   "cell_type": "code",
   "execution_count": 13,
   "metadata": {},
   "outputs": [],
   "source": [
    "def showConfusionMatrix(trueLabel,resultToShow):\n",
    "    labels = ['positive','negative']\n",
    "    cm = confusion_matrix(y_true=trueLabel , y_pred=resultToShow>0.5)\n",
    "    print(cm)"
   ]
  },
  {
   "cell_type": "code",
   "execution_count": 14,
   "metadata": {},
   "outputs": [],
   "source": [
    "def showWordWithCode(dataToMap, tokenizer): #dataToMap = list of sentiment\n",
    "    reverse_word_map = dict(map(reversed, tokenizer.word_index.items())) # map id to all word in dic\n",
    "    \n",
    "    def sequence_to_text(list_of_indices):\n",
    "        # Looking up words in dictionary\n",
    "        words = [reverse_word_map.get(letter) for letter in list_of_indices]\n",
    "        return(words)\n",
    "    \n",
    "    my_texts = list(map(sequence_to_text, dataToMap))\n",
    "    my_texts\n",
    "    return my_texts"
   ]
  },
  {
   "cell_type": "code",
   "execution_count": 15,
   "metadata": {},
   "outputs": [],
   "source": [
    "def saveSentimentAndResult(sentenceToSave, resultToSave):\n",
    "    sen_temp = \"\"\n",
    "    SentimentSave = []\n",
    "    for one_sentence in sentenceToSave:\n",
    "        for word in one_sentence:\n",
    "            if isinstance(word, str):\n",
    "                sen_temp = sen_temp + \" \" + word\n",
    "            \n",
    "        SentimentSave.append(sen_temp)\n",
    "        sen_temp = \"\"\n",
    "            \n",
    "    #make 1 Dim predict result\n",
    "    resultSave = []\n",
    "    for arr_result in resultToSave:\n",
    "        for result in arr_result:\n",
    "            #print(result)\n",
    "            resultSave.append(result)\n",
    "            \n",
    "    data = {'lemma_review': SentimentSave, 'predict score': resultSave}\n",
    "    toFile = pd.DataFrame(data)\n",
    "    toFile.to_csv(\"./for_compare.csv\", index=False)"
   ]
  },
  {
   "cell_type": "markdown",
   "metadata": {},
   "source": [
    "Test"
   ]
  },
  {
   "cell_type": "code",
   "execution_count": 16,
   "metadata": {},
   "outputs": [],
   "source": [
    "MAX_FEATURE = 5000"
   ]
  },
  {
   "cell_type": "code",
   "execution_count": 17,
   "metadata": {},
   "outputs": [
    {
     "name": "stdout",
     "output_type": "stream",
     "text": [
      "(1000, 2)\n"
     ]
    }
   ],
   "source": [
    "path = \"../Clean/lemma_result.csv\"\n",
    "x = readFile(path)"
   ]
  },
  {
   "cell_type": "code",
   "execution_count": 18,
   "metadata": {},
   "outputs": [
    {
     "name": "stdout",
     "output_type": "stream",
     "text": [
      "565\n",
      "[14, 1939, 656, 49, 156, 68, 128, 36, 37, 183, 1939, 424, 4164, 4722, 1929, 42, 1145, 46, 6, 1939, 49, 3410, 38, 751, 183, 797, 193, 30, 396, 2, 1547, 6, 2007, 873, 55, 66, 29, 14, 780, 327, 12, 1939, 158, 4436, 232, 59, 19, 751, 2344, 889, 2, 29, 46, 6, 120, 183, 267, 133, 24, 1939, 1, 44, 730, 2887, 3476, 133, 556, 1733, 1, 118, 221, 42, 779, 133, 3127, 226, 302, 4370, 4371, 226, 968, 300, 3083, 2334, 916, 1940, 3626, 2722, 15, 6, 133, 155, 178, 89, 222, 26, 328, 4370, 4371, 226, 699, 41, 226, 41, 226, 7, 330, 99, 4370, 4371, 4, 1478, 3591, 2512, 4, 1557, 11, 1, 68, 128, 99, 4, 140, 13, 223, 1546, 2, 10, 391, 37, 4370, 4371, 140, 746, 1939, 1233, 11, 226, 164, 19, 14, 4088, 42, 99, 6, 3127, 226, 173, 1018, 2, 521, 5, 226, 277, 4, 2, 631, 12, 81, 420, 843, 631, 2, 20, 902, 12, 81, 113, 27, 81, 226, 2, 15, 740, 1784, 1172, 1079, 91, 1300, 89, 24, 6, 3127, 268, 18, 1503, 2180, 3626, 2722, 873, 4973, 4078, 64, 364, 42, 424, 64, 364, 49, 1929, 4973, 4078, 268, 776, 3127, 91, 133, 155, 13, 577, 24, 37, 858, 3083, 1940, 933, 966, 349, 155, 3, 26, 3083, 1610, 1010, 196, 158, 113, 9, 2, 3607, 42, 2749, 3083, 57, 2334, 1940, 200, 57, 196, 1364, 1882, 158, 113, 4271, 48, 364, 15, 320, 57, 1882, 2306, 78, 1050, 1241, 1940, 517, 1462, 1882, 4271, 76, 260, 6, 3083, 684, 1940, 3407, 3003, 916, 2638, 14, 1940, 2334, 3047, 68, 128, 4372, 916, 2638, 18, 469, 3083, 31, 4150, 196, 15, 31, 2961, 53, 58, 1279, 2007, 873, 55, 64, 364, 398, 54, 417, 2018, 3180, 1867, 106, 6, 472, 1940, 178, 4372, 282, 171, 1244, 205, 109, 309, 1940, 97, 27, 1495, 107, 2007, 873, 55, 684, 19, 581, 158, 44, 4707, 2927, 224, 1244, 1940, 155, 560, 684, 4225, 387, 1244, 761, 276, 4372, 1212, 1867, 106, 872, 178, 3180, 1438, 50, 4220, 268, 68, 145, 133, 328, 1472, 291, 730, 349, 455, 8, 24, 6, 3626, 2722, 528, 18, 42, 701, 483, 60, 38, 2, 1438, 50, 37, 653, 3626, 2722, 201, 2361, 15, 262, 2, 30, 100, 1438, 7, 5, 201, 207, 4, 381, 2361, 1958, 3626, 2722, 3878, 2886, 392, 310, 3623, 12, 336, 2361, 2864, 3623, 89, 2361, 226, 326, 310, 130, 3623, 53, 139, 15, 121, 53, 1438, 201, 15, 121, 41, 5, 414, 230, 226, 3623, 91, 435, 14, 3843, 629, 24, 574, 97, 474, 13, 56, 36, 91, 133, 1939, 7, 42, 447, 43, 10, 1, 168, 109, 50, 10, 1, 1601, 18, 127, 56, 474, 146, 20, 173, 177, 5, 28, 10, 241, 168, 3503, 14, 656, 1676, 1, 12, 17, 173, 2205, 36, 376, 42, 865, 1390, 1003, 379, 68, 128, 2, 86, 473, 3, 336, 34, 64, 364, 379, 1939, 155, 526, 2116, 92, 3486, 1064, 102, 459, 4971, 49, 1929, 2, 3, 156, 114, 2849, 370, 159, 547, 2603, 53, 277, 3323, 802, 183, 498, 797, 326, 684, 1438, 201, 1939, 56, 3, 2007, 873, 55, 137, 265, 364, 24, 10, 5, 2476, 241, 168, 99, 105, 22, 3476, 539, 5, 91, 574, 1133, 2, 2, 2104, 1438, 1, 98, 91, 1396, 2, 590, 6, 1939, 718, 423]\n"
     ]
    }
   ],
   "source": [
    "max_length = checkLength(MAX_FEATURE,x)"
   ]
  },
  {
   "cell_type": "code",
   "execution_count": 19,
   "metadata": {
    "scrolled": false
   },
   "outputs": [
    {
     "name": "stdout",
     "output_type": "stream",
     "text": [
      "14771\n"
     ]
    },
    {
     "data": {
      "text/plain": [
       "(array([[   0,    0,    0, ...,  406, 3108,  310],\n",
       "        [   0,    0,    0, ..., 2704,   18,  121],\n",
       "        [   0,    0,    0, ...,   10,    5,  332],\n",
       "        ...,\n",
       "        [   0,    0,    0, ...,    4,  645,  771],\n",
       "        [   0,    0,    0, ...,  964,  606,    1],\n",
       "        [   0,    0,    0, ...,   57,  101, 1004]]),\n",
       " array([1, 1, 1, 0, 1, 1, 1, 0, 0, 1, 0, 0, 0, 0, 1, 0, 1, 0, 1, 0, 1, 0,\n",
       "        1, 0, 0, 1, 1, 0, 0, 1, 1, 1, 0, 1, 0, 0, 0, 0, 1, 0, 0, 1, 0, 0,\n",
       "        1, 1, 0, 0, 1, 0, 1, 1, 1, 1, 0, 0, 0, 0, 1, 1, 0, 0, 1, 0, 0, 1,\n",
       "        0, 0, 0, 0, 0, 0, 1, 1, 0, 1, 1, 0, 0, 1, 1, 0, 0, 0, 0, 0, 0, 0,\n",
       "        0, 0, 1, 0, 1, 1, 0, 1, 0, 0, 0, 1, 1, 0, 1, 1, 0, 1, 1, 0, 1, 1,\n",
       "        0, 0, 0, 1, 1, 1, 1, 0, 0, 0, 1, 1, 0, 0, 1, 0, 0, 0, 1, 1, 1, 1,\n",
       "        0, 0, 0, 0, 1, 0, 1, 0, 0, 0, 0, 1, 0, 1, 1, 1, 0, 0, 1, 0, 0, 1,\n",
       "        0, 0, 0, 1, 0, 1, 1, 0, 0, 0, 1, 0, 1, 0, 0, 0, 0, 0, 1, 1, 0, 0,\n",
       "        1, 0, 1, 0, 1, 0, 0, 0, 0, 0, 1, 0, 1, 0, 1, 1, 1, 1, 0, 0, 0, 0,\n",
       "        1, 0, 0, 1, 1, 1, 0, 1, 0, 0, 1, 1, 0, 0, 0, 1, 0, 1, 1, 0, 1, 0,\n",
       "        0, 1, 1, 0, 1, 0, 1, 1, 1, 1, 0, 1, 1, 1, 1, 1, 1, 0, 1, 0, 0, 1,\n",
       "        0, 1, 0, 1, 0, 0, 1, 0, 0, 0, 0, 0, 1, 0, 0, 0, 1, 1, 1, 0, 0, 0,\n",
       "        0, 1, 0, 0, 0, 1, 0, 1, 1, 1, 0, 1, 0, 1, 0, 1, 1, 0, 0, 0, 1, 0,\n",
       "        1, 1, 1, 1, 1, 1, 1, 1, 1, 0, 0, 1, 1, 1, 0, 0, 1, 1, 1, 1, 1, 0,\n",
       "        0, 0, 1, 0, 0, 0, 0, 0, 1, 1, 1, 0, 1, 1, 0, 1, 0, 1, 1, 0, 1, 1,\n",
       "        0, 1, 1, 1, 1, 0, 1, 1, 0, 0, 0, 1, 0, 1, 0, 0, 0, 1, 0, 0, 1, 0,\n",
       "        0, 1, 0, 0, 1, 0, 0, 0, 1, 0, 1, 1, 1, 0, 0, 0, 1, 1, 1, 1, 0, 1,\n",
       "        1, 0, 1, 0, 1, 0, 0, 1, 1, 0, 0, 0, 0, 1, 1, 1, 1, 0, 1, 1, 1, 0,\n",
       "        0, 1, 0, 1, 1, 0, 0, 1, 1, 0, 1, 1, 0, 1, 0, 1, 0, 0, 0, 0, 0, 1,\n",
       "        0, 0, 0, 0, 0, 1, 0, 1, 1, 1, 0, 1, 0, 0, 0, 1, 0, 1, 1, 1, 1, 1,\n",
       "        0, 1, 0, 0, 0, 0, 0, 1, 0, 0, 1, 1, 0, 1, 1, 1, 0, 1, 0, 0, 1, 1,\n",
       "        0, 0, 0, 1, 1, 1, 0, 1, 0, 0, 0, 0, 1, 1, 1, 0, 0, 1, 0, 1, 0, 1,\n",
       "        1, 0, 0, 1, 1, 0, 0, 1, 1, 1, 1, 0, 0, 0, 0, 1, 0, 1, 1, 0, 1, 1,\n",
       "        0, 1, 0, 1, 0, 0, 0, 0, 0, 1, 0, 1, 1, 0, 0, 1, 1, 0, 0, 0, 1, 0,\n",
       "        1, 0, 0, 1, 1, 1, 1, 0, 0, 0, 0, 1, 1, 0, 0, 0, 0, 0, 0, 1, 0, 1,\n",
       "        0, 0, 1, 0, 0, 0, 1, 1, 1, 0, 0, 0, 0, 0, 1, 0, 1, 1, 1, 0, 1, 1,\n",
       "        1, 0, 0, 0, 0, 0, 0, 1, 1, 0, 1, 0, 1, 1, 1, 0, 0, 0, 1, 0, 1, 1,\n",
       "        1, 1, 0, 1, 1, 0, 1, 1, 1, 0, 0, 1, 1, 1, 1, 1, 0, 1, 0, 0, 1, 0,\n",
       "        1, 0, 1, 0, 1, 1, 1, 0, 1, 0, 1, 0, 1, 1, 0, 1, 1, 1, 1, 0, 0, 0,\n",
       "        1, 1, 0, 1, 0, 1, 0, 1, 0, 1, 1, 0, 1, 0, 0, 1, 0, 0, 1, 1, 1, 0,\n",
       "        0, 1, 1, 1, 1, 0, 1, 1, 0, 1, 1, 0, 0, 0, 0, 0, 1, 1, 0, 0, 1, 0,\n",
       "        1, 1, 0, 0, 1, 0, 0, 1, 1, 0, 0, 1, 1, 0, 1, 1, 1, 0, 0, 1, 0, 1,\n",
       "        1, 0, 1, 1, 0, 0, 1, 1, 1, 1, 1, 0, 0, 0, 0, 0, 0, 0, 1, 1, 1, 0,\n",
       "        1, 1, 1, 0, 1, 0, 1, 1, 1, 1, 0, 1, 0, 1, 0, 1, 0, 1, 0, 1, 1, 1,\n",
       "        0, 1, 1, 0, 0, 0, 0, 1, 0, 0, 0, 1, 1, 0, 1, 0, 1, 0, 0, 0, 0, 0,\n",
       "        0, 0, 1, 1, 0, 1, 0, 0, 1, 0, 1, 1, 1, 0, 0, 0, 1, 1, 0, 1, 1, 0,\n",
       "        1, 1, 0, 1, 1, 1, 0, 1, 1, 1, 1, 1, 1, 0, 1, 1, 1, 0, 0, 1, 1, 1,\n",
       "        1, 0, 1, 1, 1, 0, 1, 1, 1, 1, 0, 1, 1, 0, 0, 0, 0, 1, 1, 0, 0, 1,\n",
       "        0, 1, 1, 1, 1, 0, 1, 0, 1, 0, 1, 0, 0, 1, 1, 0, 1, 1, 0, 1, 1, 0,\n",
       "        1, 0, 1, 0, 0, 1, 1, 0, 1, 1, 0, 1, 0, 1, 1, 1, 1, 0, 1, 0, 0, 0,\n",
       "        0, 0, 0, 0, 1, 0, 0, 1, 1, 1, 1, 1, 1, 0, 1, 1, 1, 1, 0, 0, 1, 0,\n",
       "        0, 0, 0, 0, 1, 1, 1, 1, 1, 1, 0, 0, 0, 1, 0, 1, 1, 1, 1, 0, 0, 1,\n",
       "        0, 1, 0, 0, 1, 1, 1, 1, 0, 0, 0, 1, 0, 0, 0, 1, 0, 1, 0, 1, 1, 0,\n",
       "        1, 1, 1, 1, 1, 1, 1, 1, 1, 1, 0, 1, 0, 0, 1, 1, 1, 1, 1, 0, 0, 1,\n",
       "        1, 0, 0, 0, 1, 0, 0, 0, 0, 0, 0, 1, 0, 0, 0, 0, 1, 1, 1, 1, 1, 0,\n",
       "        0, 0, 1, 0, 1, 1, 0, 0, 0, 0], dtype=int64))"
      ]
     },
     "execution_count": 19,
     "metadata": {},
     "output_type": "execute_result"
    }
   ],
   "source": [
    "feat,target,tokenizer = beforeCreateModel(max_feat=MAX_FEATURE,dataset=x,max_length=max_length)\n",
    "\n",
    "feat,target"
   ]
  },
  {
   "cell_type": "code",
   "execution_count": 21,
   "metadata": {},
   "outputs": [],
   "source": [
    "X_train, X_test, Y_train, Y_test = train_test_split(feat,target, test_size = 0.2, train_size = 0.8, random_state = 42)"
   ]
  },
  {
   "cell_type": "markdown",
   "metadata": {},
   "source": [
    "LSTM"
   ]
  },
  {
   "cell_type": "code",
   "execution_count": 22,
   "metadata": {
    "scrolled": false
   },
   "outputs": [
    {
     "name": "stdout",
     "output_type": "stream",
     "text": [
      "Model: \"sequential\"\n",
      "_________________________________________________________________\n",
      "Layer (type)                 Output Shape              Param #   \n",
      "=================================================================\n",
      "embedding (Embedding)        (None, 565, 16)           80000     \n",
      "_________________________________________________________________\n",
      "dropout (Dropout)            (None, 565, 16)           0         \n",
      "_________________________________________________________________\n",
      "lstm (LSTM)                  (None, 16)                2112      \n",
      "_________________________________________________________________\n",
      "dropout_1 (Dropout)          (None, 16)                0         \n",
      "_________________________________________________________________\n",
      "dense (Dense)                (None, 4)                 68        \n",
      "_________________________________________________________________\n",
      "dropout_2 (Dropout)          (None, 4)                 0         \n",
      "_________________________________________________________________\n",
      "dense_1 (Dense)              (None, 2)                 10        \n",
      "_________________________________________________________________\n",
      "dropout_3 (Dropout)          (None, 2)                 0         \n",
      "_________________________________________________________________\n",
      "dense_2 (Dense)              (None, 1)                 3         \n",
      "=================================================================\n",
      "Total params: 82,193\n",
      "Trainable params: 82,193\n",
      "Non-trainable params: 0\n",
      "_________________________________________________________________\n",
      "None\n",
      "Input Shape is 565\n"
     ]
    }
   ],
   "source": [
    "model = createModelLSTM(embed_dim=16,lstm_out=16,max_feat=MAX_FEATURE,input_length=feat.shape[1])\n",
    "print(\"Input Shape is \" + str(feat.shape[1]))"
   ]
  },
  {
   "cell_type": "code",
   "execution_count": 23,
   "metadata": {
    "scrolled": false
   },
   "outputs": [
    {
     "name": "stdout",
     "output_type": "stream",
     "text": [
      "Train on 640 samples, validate on 160 samples\n",
      "Epoch 1/15\n",
      "640/640 [==============================] - 22s 34ms/sample - loss: 0.6932 - accuracy: 0.5016 - val_loss: 0.6932 - val_accuracy: 0.4938\n",
      "Epoch 2/15\n",
      "640/640 [==============================] - 19s 29ms/sample - loss: 0.6929 - accuracy: 0.5094 - val_loss: 0.6930 - val_accuracy: 0.4938\n",
      "Epoch 3/15\n",
      "640/640 [==============================] - 20s 32ms/sample - loss: 0.6920 - accuracy: 0.5094 - val_loss: 0.6928 - val_accuracy: 0.4938\n",
      "Epoch 4/15\n",
      "640/640 [==============================] - 25s 39ms/sample - loss: 0.6906 - accuracy: 0.5094 - val_loss: 0.6913 - val_accuracy: 0.4938\n",
      "Epoch 5/15\n",
      "640/640 [==============================] - 20s 31ms/sample - loss: 0.6850 - accuracy: 0.5094 - val_loss: 0.6881 - val_accuracy: 0.4938\n",
      "Epoch 6/15\n",
      "640/640 [==============================] - 21s 32ms/sample - loss: 0.6678 - accuracy: 0.5094 - val_loss: 0.6713 - val_accuracy: 0.4938\n",
      "Epoch 7/15\n",
      "640/640 [==============================] - 20s 31ms/sample - loss: 0.6190 - accuracy: 0.5859 - val_loss: 0.6464 - val_accuracy: 0.6875\n",
      "Epoch 8/15\n",
      "640/640 [==============================] - 20s 31ms/sample - loss: 0.6109 - accuracy: 0.7875 - val_loss: 0.6515 - val_accuracy: 0.7188\n",
      "Epoch 9/15\n",
      "640/640 [==============================] - 23s 37ms/sample - loss: 0.5945 - accuracy: 0.7719 - val_loss: 0.7044 - val_accuracy: 0.6687\n",
      "Epoch 10/15\n",
      "640/640 [==============================] - 21s 32ms/sample - loss: 0.5920 - accuracy: 0.7766 - val_loss: 0.6370 - val_accuracy: 0.7625\n",
      "Epoch 11/15\n",
      "640/640 [==============================] - 20s 31ms/sample - loss: 0.5748 - accuracy: 0.7937 - val_loss: 0.6613 - val_accuracy: 0.6812\n",
      "Epoch 12/15\n",
      "640/640 [==============================] - 20s 31ms/sample - loss: 0.5661 - accuracy: 0.7984 - val_loss: 0.6280 - val_accuracy: 0.7188\n",
      "Epoch 13/15\n",
      "640/640 [==============================] - 20s 31ms/sample - loss: 0.5467 - accuracy: 0.7641 - val_loss: 0.6156 - val_accuracy: 0.7500\n",
      "Epoch 14/15\n",
      "640/640 [==============================] - 20s 31ms/sample - loss: 0.5147 - accuracy: 0.7828 - val_loss: 0.6583 - val_accuracy: 0.6938\n",
      "Epoch 15/15\n",
      "640/640 [==============================] - 20s 31ms/sample - loss: 0.5263 - accuracy: 0.7750 - val_loss: 0.6215 - val_accuracy: 0.7000\n"
     ]
    }
   ],
   "source": [
    "history = trainModel(model,feat=X_train,target=Y_train,validation_split=0.2,epochs=15,batch_size=32)"
   ]
  },
  {
   "cell_type": "code",
   "execution_count": 24,
   "metadata": {
    "scrolled": true
   },
   "outputs": [
    {
     "name": "stdout",
     "output_type": "stream",
     "text": [
      "200/200 - 1s - loss: 0.5833 - accuracy: 0.7450\n",
      "score: 0.58\n",
      "acc: 0.75\n"
     ]
    }
   ],
   "source": [
    "evaluateModel(model,feat=X_test,target=Y_test,batch_size=32)"
   ]
  },
  {
   "cell_type": "code",
   "execution_count": 29,
   "metadata": {},
   "outputs": [
    {
     "data": {
      "image/png": "[encoded data removed]",
      "text/plain": [
       "<Figure size 432x288 with 1 Axes>"
      ]
     },
     "metadata": {
      "needs_background": "light"
     },
     "output_type": "display_data"
    }
   ],
   "source": [
    "plotLoss(history=history)"
   ]
  },
  {
   "cell_type": "code",
   "execution_count": null,
   "metadata": {},
   "outputs": [],
   "source": [
    "saveModel(model)"
   ]
  },
  {
   "cell_type": "code",
   "execution_count": null,
   "metadata": {
    "scrolled": true
   },
   "outputs": [],
   "source": [
    "test = loadModel('./11_Save_model_10000_data_LSTM/addTestTrainSize','./11_Save_model_10000_data_LSTM/addTestTrainSize')"
   ]
  },
  {
   "cell_type": "code",
   "execution_count": 30,
   "metadata": {},
   "outputs": [],
   "source": [
    "test = model"
   ]
  },
  {
   "cell_type": "code",
   "execution_count": 31,
   "metadata": {},
   "outputs": [],
   "source": [
    "result = test.predict(X_test)"
   ]
  },
  {
   "cell_type": "code",
   "execution_count": 32,
   "metadata": {
    "scrolled": false
   },
   "outputs": [
    {
     "name": "stdout",
     "output_type": "stream",
     "text": [
      "[[0.5083181 ]\n",
      " [0.49038   ]\n",
      " [0.46402824]\n",
      " [0.46402824]\n",
      " [0.81438494]\n",
      " [0.87039334]\n",
      " [0.8349694 ]\n",
      " [0.6501633 ]\n",
      " [0.5169188 ]\n",
      " [0.46402824]\n",
      " [0.8556646 ]\n",
      " [0.7464039 ]\n",
      " [0.46402824]\n",
      " [0.7340115 ]\n",
      " [0.46402824]\n",
      " [0.48281658]\n",
      " [0.8665713 ]\n",
      " [0.570228  ]\n",
      " [0.6149864 ]\n",
      " [0.87296146]\n",
      " [0.8822025 ]\n",
      " [0.46402824]\n",
      " [0.5584957 ]\n",
      " [0.57480985]\n",
      " [0.46402824]\n",
      " [0.59751695]\n",
      " [0.46402824]\n",
      " [0.831289  ]\n",
      " [0.67663884]\n",
      " [0.67609423]\n",
      " [0.46402824]\n",
      " [0.46402824]\n",
      " [0.7070981 ]\n",
      " [0.86207855]\n",
      " [0.7301507 ]\n",
      " [0.8314441 ]\n",
      " [0.48840642]\n",
      " [0.7274402 ]\n",
      " [0.46402824]\n",
      " [0.8672262 ]\n",
      " [0.69629866]\n",
      " [0.46402824]\n",
      " [0.46402824]\n",
      " [0.46402824]\n",
      " [0.8465408 ]\n",
      " [0.83901054]\n",
      " [0.51993775]\n",
      " [0.73319   ]\n",
      " [0.7998896 ]\n",
      " [0.80771035]\n",
      " [0.73782   ]\n",
      " [0.46402824]\n",
      " [0.5167941 ]\n",
      " [0.46402824]\n",
      " [0.5367362 ]\n",
      " [0.82357645]\n",
      " [0.46402824]\n",
      " [0.48512772]\n",
      " [0.7804726 ]\n",
      " [0.7632955 ]\n",
      " [0.46402824]\n",
      " [0.63915133]\n",
      " [0.46402824]\n",
      " [0.61031306]\n",
      " [0.46402824]\n",
      " [0.49948865]\n",
      " [0.8448893 ]\n",
      " [0.8594726 ]\n",
      " [0.70690703]\n",
      " [0.46402824]\n",
      " [0.46402824]\n",
      " [0.87922144]\n",
      " [0.8319606 ]\n",
      " [0.62848985]\n",
      " [0.8182249 ]\n",
      " [0.6448954 ]\n",
      " [0.46402824]\n",
      " [0.50586337]\n",
      " [0.46402824]\n",
      " [0.561999  ]\n",
      " [0.57800376]\n",
      " [0.8162524 ]\n",
      " [0.6228353 ]\n",
      " [0.5934144 ]\n",
      " [0.8877777 ]\n",
      " [0.73475146]\n",
      " [0.46402824]\n",
      " [0.87644255]\n",
      " [0.601657  ]\n",
      " [0.46402824]\n",
      " [0.67223626]\n",
      " [0.6559333 ]\n",
      " [0.7435119 ]\n",
      " [0.80384636]\n",
      " [0.84094834]\n",
      " [0.81398875]\n",
      " [0.7440866 ]\n",
      " [0.46402824]\n",
      " [0.46402824]\n",
      " [0.7431111 ]\n",
      " [0.46402824]\n",
      " [0.75405985]\n",
      " [0.46402824]\n",
      " [0.46402824]\n",
      " [0.46402824]\n",
      " [0.46402824]\n",
      " [0.46402824]\n",
      " [0.46402824]\n",
      " [0.46402824]\n",
      " [0.60031515]\n",
      " [0.85320044]\n",
      " [0.8673863 ]\n",
      " [0.6424187 ]\n",
      " [0.784742  ]\n",
      " [0.79933214]\n",
      " [0.687031  ]\n",
      " [0.46402824]\n",
      " [0.82585335]\n",
      " [0.6528937 ]\n",
      " [0.8332249 ]\n",
      " [0.8320898 ]\n",
      " [0.80717707]\n",
      " [0.5992917 ]\n",
      " [0.8043655 ]\n",
      " [0.46402824]\n",
      " [0.53480464]\n",
      " [0.626455  ]\n",
      " [0.46402824]\n",
      " [0.78705555]\n",
      " [0.79320264]\n",
      " [0.7236959 ]\n",
      " [0.85396886]\n",
      " [0.49331683]\n",
      " [0.7113319 ]\n",
      " [0.524662  ]\n",
      " [0.46402824]\n",
      " [0.8411218 ]\n",
      " [0.7509006 ]\n",
      " [0.8398247 ]\n",
      " [0.46402824]\n",
      " [0.77546614]\n",
      " [0.46899396]\n",
      " [0.49545056]\n",
      " [0.5286584 ]\n",
      " [0.80114025]\n",
      " [0.7860905 ]\n",
      " [0.51787966]\n",
      " [0.7190775 ]\n",
      " [0.7448631 ]\n",
      " [0.7682362 ]\n",
      " [0.8537072 ]\n",
      " [0.57779145]\n",
      " [0.46402824]\n",
      " [0.84068054]\n",
      " [0.59374577]\n",
      " [0.46402824]\n",
      " [0.6741031 ]\n",
      " [0.76065964]\n",
      " [0.46402824]\n",
      " [0.82463443]\n",
      " [0.60917765]\n",
      " [0.480287  ]\n",
      " [0.8213082 ]\n",
      " [0.8712584 ]\n",
      " [0.46402824]\n",
      " [0.46842006]\n",
      " [0.8209162 ]\n",
      " [0.8304262 ]\n",
      " [0.7124851 ]\n",
      " [0.8870874 ]\n",
      " [0.46402824]\n",
      " [0.7866902 ]\n",
      " [0.46402824]\n",
      " [0.46402824]\n",
      " [0.4747331 ]\n",
      " [0.8429708 ]\n",
      " [0.8239277 ]\n",
      " [0.81213945]\n",
      " [0.8169932 ]\n",
      " [0.7837218 ]\n",
      " [0.8624689 ]\n",
      " [0.54924107]\n",
      " [0.52281815]\n",
      " [0.46402824]\n",
      " [0.7703082 ]\n",
      " [0.69418114]\n",
      " [0.46402824]\n",
      " [0.8410971 ]\n",
      " [0.5149203 ]\n",
      " [0.8327824 ]\n",
      " [0.64369035]\n",
      " [0.7108349 ]\n",
      " [0.8163689 ]\n",
      " [0.50301373]\n",
      " [0.63952446]\n",
      " [0.46402824]\n",
      " [0.85184747]\n",
      " [0.8076449 ]\n",
      " [0.46402824]\n",
      " [0.5858889 ]]\n",
      "[1 0 1 0 1 1 0 1 0 0 1 1 0 1 1 1 1 1 1 1 1 1 1 1 1 1 1 1 1 1 0 1 1 1 0 1 1\n",
      " 1 1 1 0 1 1 0 1 0 1 1 1 1 1 1 1 1 0 1 1 1 1 1 0 0 0 1 1 1 1 1 0 1 1 0 1 1\n",
      " 1 1 1 1 0 0 0 1 1 1 1 0 1 1 1 0 1 1 1 0 1 1 1 1 1 1 1 1 0 0 0 1 1 0 1 1 1\n",
      " 1]\n",
      "(112, 1)\n",
      "(112,)\n",
      "[[ 0 27]\n",
      " [ 0 85]]\n"
     ]
    }
   ],
   "source": [
    "filterAndShow(filter1=0.4, filter2=0.6, modelOutput=result, labelTest=Y_test) #LSTM with filter"
   ]
  },
  {
   "cell_type": "code",
   "execution_count": 33,
   "metadata": {},
   "outputs": [
    {
     "name": "stdout",
     "output_type": "stream",
     "text": [
      "[[58 46]\n",
      " [ 5 91]]\n"
     ]
    }
   ],
   "source": [
    "showConfusionMatrix(trueLabel=Y_test,resultToShow=result) #LSTM no filter"
   ]
  },
  {
   "cell_type": "code",
   "execution_count": null,
   "metadata": {},
   "outputs": [],
   "source": [
    "confusion_matrix(y_true=Y_test, y_pred=result>0.5)"
   ]
  },
  {
   "cell_type": "code",
   "execution_count": null,
   "metadata": {},
   "outputs": [],
   "source": [
    "hi=showWordWithCode(dataToMap=X_test, tokenizer=tokenizer)"
   ]
  },
  {
   "cell_type": "code",
   "execution_count": null,
   "metadata": {},
   "outputs": [],
   "source": [
    "result"
   ]
  },
  {
   "cell_type": "code",
   "execution_count": null,
   "metadata": {},
   "outputs": [],
   "source": [
    "hi"
   ]
  },
  {
   "cell_type": "code",
   "execution_count": null,
   "metadata": {},
   "outputs": [],
   "source": [
    "saveSentimentAndResult(hi,result)"
   ]
  },
  {
   "cell_type": "markdown",
   "metadata": {},
   "source": [
    "GRU"
   ]
  },
  {
   "cell_type": "code",
   "execution_count": null,
   "metadata": {},
   "outputs": [],
   "source": [
    "model = createModelGRU(embed_dim=150,gru_out=200,max_feat=7000,input_length=feat.shape[1])"
   ]
  },
  {
   "cell_type": "code",
   "execution_count": null,
   "metadata": {},
   "outputs": [],
   "source": [
    "trainModel(model,feat=X_train,target=Y_train,validation_split=0.2,epochs=50,batch_size=32)"
   ]
  },
  {
   "cell_type": "code",
   "execution_count": null,
   "metadata": {},
   "outputs": [],
   "source": [
    "evaluateModel(model,feat=X_test,target=Y_test,batch_size=32)"
   ]
  },
  {
   "cell_type": "code",
   "execution_count": null,
   "metadata": {},
   "outputs": [],
   "source": [
    "resultGRU = model.predict(X_test)"
   ]
  },
  {
   "cell_type": "code",
   "execution_count": null,
   "metadata": {},
   "outputs": [],
   "source": [
    "filterAndShow(filter1=0.4, filter2=0.6, modelOutput=resultGRU, labelTest=Y_test) #GRU with filter"
   ]
  },
  {
   "cell_type": "code",
   "execution_count": null,
   "metadata": {},
   "outputs": [],
   "source": [
    "showConfusionMatrix(trueLabel=Y_test,resultToShow=result) #GRU no filter"
   ]
  },
  {
   "cell_type": "code",
   "execution_count": null,
   "metadata": {},
   "outputs": [],
   "source": [
    "saveModel(model)"
   ]
  },
  {
   "cell_type": "markdown",
   "metadata": {},
   "source": [
    "Web Read"
   ]
  },
  {
   "cell_type": "code",
   "execution_count": 34,
   "metadata": {
    "scrolled": true
   },
   "outputs": [
    {
     "name": "stdout",
     "output_type": "stream",
     "text": [
      "(50, 2)\n"
     ]
    },
    {
     "data": {
      "text/html": [
       "<div>\n",
       "<style scoped>\n",
       "    .dataframe tbody tr th:only-of-type {\n",
       "        vertical-align: middle;\n",
       "    }\n",
       "\n",
       "    .dataframe tbody tr th {\n",
       "        vertical-align: top;\n",
       "    }\n",
       "\n",
       "    .dataframe thead th {\n",
       "        text-align: right;\n",
       "    }\n",
       "</style>\n",
       "<table border=\"1\" class=\"dataframe\">\n",
       "  <thead>\n",
       "    <tr style=\"text-align: right;\">\n",
       "      <th></th>\n",
       "      <th>cleaned_review</th>\n",
       "      <th>Label</th>\n",
       "    </tr>\n",
       "  </thead>\n",
       "  <tbody>\n",
       "    <tr>\n",
       "      <th>0</th>\n",
       "      <td>mr costner drag movie far longer necessary asi...</td>\n",
       "      <td>0</td>\n",
       "    </tr>\n",
       "    <tr>\n",
       "      <th>1</th>\n",
       "      <td>example majority action film generic bore real...</td>\n",
       "      <td>0</td>\n",
       "    </tr>\n",
       "    <tr>\n",
       "      <th>2</th>\n",
       "      <td>first hate moronic rappers could nt act gun pr...</td>\n",
       "      <td>0</td>\n",
       "    </tr>\n",
       "    <tr>\n",
       "      <th>3</th>\n",
       "      <td>even beatles could write songs everyone like a...</td>\n",
       "      <td>0</td>\n",
       "    </tr>\n",
       "    <tr>\n",
       "      <th>4</th>\n",
       "      <td>brass picture movies fit word really somewhat ...</td>\n",
       "      <td>0</td>\n",
       "    </tr>\n",
       "    <tr>\n",
       "      <th>5</th>\n",
       "      <td>funny thing happen watch mosquito one hand her...</td>\n",
       "      <td>0</td>\n",
       "    </tr>\n",
       "    <tr>\n",
       "      <th>6</th>\n",
       "      <td>german horror film one weirdest see aware conn...</td>\n",
       "      <td>0</td>\n",
       "    </tr>\n",
       "    <tr>\n",
       "      <th>7</th>\n",
       "      <td>long time fan japanese film expect really both...</td>\n",
       "      <td>0</td>\n",
       "    </tr>\n",
       "    <tr>\n",
       "      <th>8</th>\n",
       "      <td>tokyo eye tell 17 year old japanese girl fall ...</td>\n",
       "      <td>0</td>\n",
       "    </tr>\n",
       "    <tr>\n",
       "      <th>9</th>\n",
       "      <td>wealthy horse ranchers buenos air long stand t...</td>\n",
       "      <td>0</td>\n",
       "    </tr>\n",
       "    <tr>\n",
       "      <th>10</th>\n",
       "      <td>cage play drink get high critically praise eli...</td>\n",
       "      <td>0</td>\n",
       "    </tr>\n",
       "    <tr>\n",
       "      <th>11</th>\n",
       "      <td>first would like say fan actors appear film ti...</td>\n",
       "      <td>0</td>\n",
       "    </tr>\n",
       "    <tr>\n",
       "      <th>12</th>\n",
       "      <td>tell serious boozer drink budweiser many suici...</td>\n",
       "      <td>0</td>\n",
       "    </tr>\n",
       "    <tr>\n",
       "      <th>13</th>\n",
       "      <td>big disappointment tout incredible film incred...</td>\n",
       "      <td>0</td>\n",
       "    </tr>\n",
       "    <tr>\n",
       "      <th>14</th>\n",
       "      <td>film absolutely appal awful low budget budget ...</td>\n",
       "      <td>0</td>\n",
       "    </tr>\n",
       "    <tr>\n",
       "      <th>15</th>\n",
       "      <td>decidedly average italian post apocalyptic tak...</td>\n",
       "      <td>0</td>\n",
       "    </tr>\n",
       "    <tr>\n",
       "      <th>16</th>\n",
       "      <td>bottom end apocalypse movie scale piece pish c...</td>\n",
       "      <td>0</td>\n",
       "    </tr>\n",
       "    <tr>\n",
       "      <th>17</th>\n",
       "      <td>earth destroy nuclear holocaust well part eart...</td>\n",
       "      <td>0</td>\n",
       "    </tr>\n",
       "    <tr>\n",
       "      <th>18</th>\n",
       "      <td>many people stand front house n women cry men ...</td>\n",
       "      <td>0</td>\n",
       "    </tr>\n",
       "    <tr>\n",
       "      <th>19</th>\n",
       "      <td>new york family last neighborhood get televisi...</td>\n",
       "      <td>0</td>\n",
       "    </tr>\n",
       "    <tr>\n",
       "      <th>20</th>\n",
       "      <td>best thing prey tag line human get axe movie p...</td>\n",
       "      <td>0</td>\n",
       "    </tr>\n",
       "    <tr>\n",
       "      <th>21</th>\n",
       "      <td>truly without exaggerate one worst slasher mov...</td>\n",
       "      <td>0</td>\n",
       "    </tr>\n",
       "    <tr>\n",
       "      <th>22</th>\n",
       "      <td>huge fan emily watson break wave tom wilkinson...</td>\n",
       "      <td>0</td>\n",
       "    </tr>\n",
       "    <tr>\n",
       "      <th>23</th>\n",
       "      <td>sure slasher film 1980 worth thecelluloid film...</td>\n",
       "      <td>0</td>\n",
       "    </tr>\n",
       "    <tr>\n",
       "      <th>24</th>\n",
       "      <td>think would appropriate title film since pad h...</td>\n",
       "      <td>0</td>\n",
       "    </tr>\n",
       "    <tr>\n",
       "      <th>25</th>\n",
       "      <td>1980 certainly year bad backwoods slasher movi...</td>\n",
       "      <td>0</td>\n",
       "    </tr>\n",
       "    <tr>\n",
       "      <th>26</th>\n",
       "      <td>everything everyone say already pretty much ri...</td>\n",
       "      <td>0</td>\n",
       "    </tr>\n",
       "    <tr>\n",
       "      <th>27</th>\n",
       "      <td>uhhh even writers maybe picky like little dial...</td>\n",
       "      <td>0</td>\n",
       "    </tr>\n",
       "    <tr>\n",
       "      <th>28</th>\n",
       "      <td>oh yeah one definitely strong contender win qu...</td>\n",
       "      <td>0</td>\n",
       "    </tr>\n",
       "    <tr>\n",
       "      <th>29</th>\n",
       "      <td>supercraptastic slasher fare feel overly long ...</td>\n",
       "      <td>0</td>\n",
       "    </tr>\n",
       "    <tr>\n",
       "      <th>30</th>\n",
       "      <td>even lower standards 80s slasher movies one st...</td>\n",
       "      <td>0</td>\n",
       "    </tr>\n",
       "    <tr>\n",
       "      <th>31</th>\n",
       "      <td>foolish hikers go camp utah mountains run murd...</td>\n",
       "      <td>0</td>\n",
       "    </tr>\n",
       "    <tr>\n",
       "      <th>32</th>\n",
       "      <td>rent 3 bad movies watch friends dorm room lepr...</td>\n",
       "      <td>0</td>\n",
       "    </tr>\n",
       "    <tr>\n",
       "      <th>33</th>\n",
       "      <td>pull movie early much surprise intend watch wi...</td>\n",
       "      <td>0</td>\n",
       "    </tr>\n",
       "    <tr>\n",
       "      <th>34</th>\n",
       "      <td>prey interest history unless remember ads news...</td>\n",
       "      <td>0</td>\n",
       "    </tr>\n",
       "    <tr>\n",
       "      <th>35</th>\n",
       "      <td>criticisms movie quite valid pretty bore fill ...</td>\n",
       "      <td>0</td>\n",
       "    </tr>\n",
       "    <tr>\n",
       "      <th>36</th>\n",
       "      <td>walk book store brentwood tennessee go say nam...</td>\n",
       "      <td>0</td>\n",
       "    </tr>\n",
       "    <tr>\n",
       "      <th>37</th>\n",
       "      <td>thank god buy movie borrow friend buy sheer cu...</td>\n",
       "      <td>0</td>\n",
       "    </tr>\n",
       "    <tr>\n",
       "      <th>38</th>\n",
       "      <td>saw movie girlfriend total disaster really see...</td>\n",
       "      <td>0</td>\n",
       "    </tr>\n",
       "    <tr>\n",
       "      <th>39</th>\n",
       "      <td>anyone tell picture terrific probably somethin...</td>\n",
       "      <td>0</td>\n",
       "    </tr>\n",
       "    <tr>\n",
       "      <th>40</th>\n",
       "      <td>kid quite possibly worst amateur movie ever se...</td>\n",
       "      <td>0</td>\n",
       "    </tr>\n",
       "    <tr>\n",
       "      <th>41</th>\n",
       "      <td>addition fact abysmally make film imagine give...</td>\n",
       "      <td>0</td>\n",
       "    </tr>\n",
       "    <tr>\n",
       "      <th>42</th>\n",
       "      <td>want like movie really really excite saw previ...</td>\n",
       "      <td>0</td>\n",
       "    </tr>\n",
       "    <tr>\n",
       "      <th>43</th>\n",
       "      <td>understand people praise movie like watch seve...</td>\n",
       "      <td>0</td>\n",
       "    </tr>\n",
       "    <tr>\n",
       "      <th>44</th>\n",
       "      <td>tale upper class get come uppance wallow high ...</td>\n",
       "      <td>0</td>\n",
       "    </tr>\n",
       "    <tr>\n",
       "      <th>45</th>\n",
       "      <td>filmmaker stay true accurate account story pub...</td>\n",
       "      <td>0</td>\n",
       "    </tr>\n",
       "    <tr>\n",
       "      <th>46</th>\n",
       "      <td>bell witch haunt aka haunt american horror mov...</td>\n",
       "      <td>0</td>\n",
       "    </tr>\n",
       "    <tr>\n",
       "      <th>47</th>\n",
       "      <td>love ghost stories sit movie til end even real...</td>\n",
       "      <td>0</td>\n",
       "    </tr>\n",
       "    <tr>\n",
       "      <th>48</th>\n",
       "      <td>premise film sound unique intrigue watch first...</td>\n",
       "      <td>0</td>\n",
       "    </tr>\n",
       "    <tr>\n",
       "      <th>49</th>\n",
       "      <td>take stock elements shrek movie grumpy ogre an...</td>\n",
       "      <td>0</td>\n",
       "    </tr>\n",
       "  </tbody>\n",
       "</table>\n",
       "</div>"
      ],
      "text/plain": [
       "                                       cleaned_review  Label\n",
       "0   mr costner drag movie far longer necessary asi...      0\n",
       "1   example majority action film generic bore real...      0\n",
       "2   first hate moronic rappers could nt act gun pr...      0\n",
       "3   even beatles could write songs everyone like a...      0\n",
       "4   brass picture movies fit word really somewhat ...      0\n",
       "5   funny thing happen watch mosquito one hand her...      0\n",
       "6   german horror film one weirdest see aware conn...      0\n",
       "7   long time fan japanese film expect really both...      0\n",
       "8   tokyo eye tell 17 year old japanese girl fall ...      0\n",
       "9   wealthy horse ranchers buenos air long stand t...      0\n",
       "10  cage play drink get high critically praise eli...      0\n",
       "11  first would like say fan actors appear film ti...      0\n",
       "12  tell serious boozer drink budweiser many suici...      0\n",
       "13  big disappointment tout incredible film incred...      0\n",
       "14  film absolutely appal awful low budget budget ...      0\n",
       "15  decidedly average italian post apocalyptic tak...      0\n",
       "16  bottom end apocalypse movie scale piece pish c...      0\n",
       "17  earth destroy nuclear holocaust well part eart...      0\n",
       "18  many people stand front house n women cry men ...      0\n",
       "19  new york family last neighborhood get televisi...      0\n",
       "20  best thing prey tag line human get axe movie p...      0\n",
       "21  truly without exaggerate one worst slasher mov...      0\n",
       "22  huge fan emily watson break wave tom wilkinson...      0\n",
       "23  sure slasher film 1980 worth thecelluloid film...      0\n",
       "24  think would appropriate title film since pad h...      0\n",
       "25  1980 certainly year bad backwoods slasher movi...      0\n",
       "26  everything everyone say already pretty much ri...      0\n",
       "27  uhhh even writers maybe picky like little dial...      0\n",
       "28  oh yeah one definitely strong contender win qu...      0\n",
       "29  supercraptastic slasher fare feel overly long ...      0\n",
       "30  even lower standards 80s slasher movies one st...      0\n",
       "31  foolish hikers go camp utah mountains run murd...      0\n",
       "32  rent 3 bad movies watch friends dorm room lepr...      0\n",
       "33  pull movie early much surprise intend watch wi...      0\n",
       "34  prey interest history unless remember ads news...      0\n",
       "35  criticisms movie quite valid pretty bore fill ...      0\n",
       "36  walk book store brentwood tennessee go say nam...      0\n",
       "37  thank god buy movie borrow friend buy sheer cu...      0\n",
       "38  saw movie girlfriend total disaster really see...      0\n",
       "39  anyone tell picture terrific probably somethin...      0\n",
       "40  kid quite possibly worst amateur movie ever se...      0\n",
       "41  addition fact abysmally make film imagine give...      0\n",
       "42  want like movie really really excite saw previ...      0\n",
       "43  understand people praise movie like watch seve...      0\n",
       "44  tale upper class get come uppance wallow high ...      0\n",
       "45  filmmaker stay true accurate account story pub...      0\n",
       "46  bell witch haunt aka haunt american horror mov...      0\n",
       "47  love ghost stories sit movie til end even real...      0\n",
       "48  premise film sound unique intrigue watch first...      0\n",
       "49  take stock elements shrek movie grumpy ogre an...      0"
      ]
     },
     "execution_count": 34,
     "metadata": {},
     "output_type": "execute_result"
    }
   ],
   "source": [
    "path = \"../Clean/lemma_master_result.csv\"\n",
    "x = readFile(path)\n",
    "\n",
    "x"
   ]
  },
  {
   "cell_type": "code",
   "execution_count": null,
   "metadata": {
    "scrolled": true
   },
   "outputs": [],
   "source": [
    "testWR = loadModel('./11_Save_model_10000_data_LSTM/addTestTrainSize','./11_Save_model_10000_data_LSTM/addTestTrainSize')"
   ]
  },
  {
   "cell_type": "code",
   "execution_count": 35,
   "metadata": {},
   "outputs": [],
   "source": [
    "testWR = model"
   ]
  },
  {
   "cell_type": "code",
   "execution_count": 36,
   "metadata": {
    "scrolled": true
   },
   "outputs": [
    {
     "name": "stdout",
     "output_type": "stream",
     "text": [
      "2334\n"
     ]
    },
    {
     "data": {
      "text/plain": [
       "(array([[   0,    0,    0, ...,  572,   81,  422],\n",
       "        [   0,    0,    0, ...,   96,  250,  251],\n",
       "        [   0,    0,    0, ...,   54,   97,  151],\n",
       "        ...,\n",
       "        [   0,    0,    0, ..., 2278,  130,    7],\n",
       "        [   0,    0,    0, ...,  170, 2305, 2306],\n",
       "        [   0,    0,    0, ..., 2333,  923, 2334]]),\n",
       " array([0, 0, 0, 0, 0, 0, 0, 0, 0, 0, 0, 0, 0, 0, 0, 0, 0, 0, 0, 0, 0, 0,\n",
       "        0, 0, 0, 0, 0, 0, 0, 0, 0, 0, 0, 0, 0, 0, 0, 0, 0, 0, 0, 0, 0, 0,\n",
       "        0, 0, 0, 0, 0, 0], dtype=int64))"
      ]
     },
     "execution_count": 36,
     "metadata": {},
     "output_type": "execute_result"
    }
   ],
   "source": [
    "#x_cut = x[1001:1101]\n",
    "featWR,targetWR,tokenizerr = beforeCreateModel(max_feat=MAX_FEATURE,dataset=x,max_length=max_length) #fulldic max_feat = 14000\n",
    "\n",
    "featWR,targetWR"
   ]
  },
  {
   "cell_type": "code",
   "execution_count": null,
   "metadata": {},
   "outputs": [],
   "source": [
    "featWR.shape[1]"
   ]
  },
  {
   "cell_type": "code",
   "execution_count": 37,
   "metadata": {
    "scrolled": false
   },
   "outputs": [
    {
     "data": {
      "text/plain": [
       "array([[0.7685063 ],\n",
       "       [0.8304322 ],\n",
       "       [0.8428893 ],\n",
       "       [0.81368685],\n",
       "       [0.83447164],\n",
       "       [0.7088296 ],\n",
       "       [0.5955077 ],\n",
       "       [0.56339294],\n",
       "       [0.84090984],\n",
       "       [0.46402824],\n",
       "       [0.46402824],\n",
       "       [0.8377493 ],\n",
       "       [0.81211114],\n",
       "       [0.46402824],\n",
       "       [0.5129277 ],\n",
       "       [0.8244826 ],\n",
       "       [0.8275987 ],\n",
       "       [0.814948  ],\n",
       "       [0.8254225 ],\n",
       "       [0.74971926],\n",
       "       [0.53957766],\n",
       "       [0.58596873],\n",
       "       [0.86203736],\n",
       "       [0.82516587],\n",
       "       [0.8083075 ],\n",
       "       [0.7218778 ],\n",
       "       [0.8441299 ],\n",
       "       [0.84368426],\n",
       "       [0.8347589 ],\n",
       "       [0.72843236],\n",
       "       [0.82708555],\n",
       "       [0.701409  ],\n",
       "       [0.5910873 ],\n",
       "       [0.53382784],\n",
       "       [0.69760424],\n",
       "       [0.8411495 ],\n",
       "       [0.80341053],\n",
       "       [0.46402824],\n",
       "       [0.76934993],\n",
       "       [0.7982026 ],\n",
       "       [0.6348549 ],\n",
       "       [0.78219706],\n",
       "       [0.63651806],\n",
       "       [0.6664623 ],\n",
       "       [0.81860006],\n",
       "       [0.46402824],\n",
       "       [0.772253  ],\n",
       "       [0.46402824],\n",
       "       [0.79146916],\n",
       "       [0.729877  ]], dtype=float32)"
      ]
     },
     "execution_count": 37,
     "metadata": {},
     "output_type": "execute_result"
    }
   ],
   "source": [
    "resultWR = testWR.predict(featWR)\n",
    "\n",
    "resultWR"
   ]
  },
  {
   "cell_type": "code",
   "execution_count": 38,
   "metadata": {
    "scrolled": true
   },
   "outputs": [
    {
     "name": "stdout",
     "output_type": "stream",
     "text": [
      "[[ 6 44]\n",
      " [ 0  0]]\n"
     ]
    }
   ],
   "source": [
    "showConfusionMatrix(trueLabel=targetWR,resultToShow=resultWR)\n",
    "#confusion_matrix(target[:,1] , result>0.5)"
   ]
  },
  {
   "cell_type": "code",
   "execution_count": null,
   "metadata": {},
   "outputs": [],
   "source": [
    "showWordWithCode(dataToMap=featWR , tokenizer=tokenizerr)"
   ]
  },
  {
   "cell_type": "code",
   "execution_count": null,
   "metadata": {},
   "outputs": [],
   "source": [
    "evaluateModel(testWR,feat=X_test,target=Y_test,batch_size=32)"
   ]
  },
  {
   "cell_type": "code",
   "execution_count": null,
   "metadata": {},
   "outputs": [],
   "source": [
    "testWR.summary()"
   ]
  },
  {
   "cell_type": "code",
   "execution_count": null,
   "metadata": {},
   "outputs": [],
   "source": []
  }
 ],
 "metadata": {
  "kernelspec": {
   "display_name": "Python 3.6(tensorflow)",
   "language": "python",
   "name": "tensorflow"
  },
  "language_info": {
   "codemirror_mode": {
    "name": "ipython",
    "version": 3
   },
   "file_extension": ".py",
   "mimetype": "text/x-python",
   "name": "python",
   "nbconvert_exporter": "python",
   "pygments_lexer": "ipython3",
   "version": "3.7.7"
  }
 },
 "nbformat": 4,
 "nbformat_minor": 4
}
