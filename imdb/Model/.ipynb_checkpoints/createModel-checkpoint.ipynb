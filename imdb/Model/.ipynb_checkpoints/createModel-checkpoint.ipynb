{
 "cells": [
  {
   "cell_type": "code",
   "execution_count": 15,
   "metadata": {
    "scrolled": true
   },
   "outputs": [
    {
     "name": "stderr",
     "output_type": "stream",
     "text": [
      "[nltk_data] Downloading package wordnet to\n",
      "[nltk_data]     C:\\Users\\gotj\\AppData\\Roaming\\nltk_data...\n",
      "[nltk_data]   Package wordnet is already up-to-date!\n"
     ]
    },
    {
     "name": "stdout",
     "output_type": "stream",
     "text": [
      "1000\n"
     ]
    }
   ],
   "source": [
    "import itertools\n",
    "import pandas as pd\n",
    "import re\n",
    "from nltk.tokenize import RegexpTokenizer\n",
    "from nltk import word_tokenize\n",
    "from nltk.corpus import stopwords\n",
    "from nltk.stem import WordNetLemmatizer\n",
    "from sklearn.preprocessing import LabelEncoder\n",
    "import nltk\n",
    "nltk.download('wordnet')\n",
    "wordnet_lemmatizer = WordNetLemmatizer()\n",
    "reSentence = []\n",
    "allLabel = []\n",
    "\n",
    "# bring in sentence from file\n",
    "readIn = pd.read_csv(\"../Clean/IMDB Dataset.csv\")\n",
    "sample = readIn.head(1000)\n",
    "InFilter = sample['review'].astype('string')\n",
    "Label = sample['sentiment'].astype('string')\n",
    "InFilter.drop(InFilter.head(0))\n",
    "\n",
    "for label in Label:\n",
    "    allLabel.append(label)\n",
    "\n",
    "#Encode Label\n",
    "le = LabelEncoder()\n",
    "EnLabel = le.fit_transform(allLabel)\n",
    "#print(EnLabel)\n",
    "#print(Label)\n",
    "\n",
    "#data = {'original label': Label, 'Encode label': EnLabel}\n",
    "#toFile = pd.DataFrame(data)\n",
    "#toFile"
   ]
  },
  {
   "cell_type": "code",
   "execution_count": 20,
   "metadata": {},
   "outputs": [
    {
     "name": "stdout",
     "output_type": "stream",
     "text": [
      "1000\n"
     ]
    },
    {
     "data": {
      "text/html": [
       "<div>\n",
       "<style scoped>\n",
       "    .dataframe tbody tr th:only-of-type {\n",
       "        vertical-align: middle;\n",
       "    }\n",
       "\n",
       "    .dataframe tbody tr th {\n",
       "        vertical-align: top;\n",
       "    }\n",
       "\n",
       "    .dataframe thead th {\n",
       "        text-align: right;\n",
       "    }\n",
       "</style>\n",
       "<table border=\"1\" class=\"dataframe\">\n",
       "  <thead>\n",
       "    <tr style=\"text-align: right;\">\n",
       "      <th></th>\n",
       "      <th>Original Sentence</th>\n",
       "      <th>Lower case and remove html tag</th>\n",
       "    </tr>\n",
       "  </thead>\n",
       "  <tbody>\n",
       "    <tr>\n",
       "      <th>0</th>\n",
       "      <td>One of the other reviewers has mentioned that ...</td>\n",
       "      <td>one of the other reviewers has mentioned that ...</td>\n",
       "    </tr>\n",
       "    <tr>\n",
       "      <th>1</th>\n",
       "      <td>A wonderful little production. &lt;br /&gt;&lt;br /&gt;The...</td>\n",
       "      <td>a wonderful little production. the filming tec...</td>\n",
       "    </tr>\n",
       "    <tr>\n",
       "      <th>2</th>\n",
       "      <td>I thought this was a wonderful way to spend ti...</td>\n",
       "      <td>i thought this was a wonderful way to spend ti...</td>\n",
       "    </tr>\n",
       "    <tr>\n",
       "      <th>3</th>\n",
       "      <td>Basically there's a family where a little boy ...</td>\n",
       "      <td>basically there's a family where a little boy ...</td>\n",
       "    </tr>\n",
       "    <tr>\n",
       "      <th>4</th>\n",
       "      <td>Petter Mattei's \"Love in the Time of Money\" is...</td>\n",
       "      <td>petter mattei's \"love in the time of money\" is...</td>\n",
       "    </tr>\n",
       "    <tr>\n",
       "      <th>...</th>\n",
       "      <td>...</td>\n",
       "      <td>...</td>\n",
       "    </tr>\n",
       "    <tr>\n",
       "      <th>995</th>\n",
       "      <td>Nothing is sacred. Just ask Ernie Fosselius. T...</td>\n",
       "      <td>nothing is sacred. just ask ernie fosselius. t...</td>\n",
       "    </tr>\n",
       "    <tr>\n",
       "      <th>996</th>\n",
       "      <td>I hated it. I hate self-aware pretentious inan...</td>\n",
       "      <td>i hated it. i hate self-aware pretentious inan...</td>\n",
       "    </tr>\n",
       "    <tr>\n",
       "      <th>997</th>\n",
       "      <td>I usually try to be professional and construct...</td>\n",
       "      <td>i usually try to be professional and construct...</td>\n",
       "    </tr>\n",
       "    <tr>\n",
       "      <th>998</th>\n",
       "      <td>If you like me is going to see this in a film ...</td>\n",
       "      <td>if you like me is going to see this in a film ...</td>\n",
       "    </tr>\n",
       "    <tr>\n",
       "      <th>999</th>\n",
       "      <td>This is like a zoology textbook, given that it...</td>\n",
       "      <td>this is like a zoology textbook, given that it...</td>\n",
       "    </tr>\n",
       "  </tbody>\n",
       "</table>\n",
       "<p>1000 rows × 2 columns</p>\n",
       "</div>"
      ],
      "text/plain": [
       "                                     Original Sentence  \\\n",
       "0    One of the other reviewers has mentioned that ...   \n",
       "1    A wonderful little production. <br /><br />The...   \n",
       "2    I thought this was a wonderful way to spend ti...   \n",
       "3    Basically there's a family where a little boy ...   \n",
       "4    Petter Mattei's \"Love in the Time of Money\" is...   \n",
       "..                                                 ...   \n",
       "995  Nothing is sacred. Just ask Ernie Fosselius. T...   \n",
       "996  I hated it. I hate self-aware pretentious inan...   \n",
       "997  I usually try to be professional and construct...   \n",
       "998  If you like me is going to see this in a film ...   \n",
       "999  This is like a zoology textbook, given that it...   \n",
       "\n",
       "                        Lower case and remove html tag  \n",
       "0    one of the other reviewers has mentioned that ...  \n",
       "1    a wonderful little production. the filming tec...  \n",
       "2    i thought this was a wonderful way to spend ti...  \n",
       "3    basically there's a family where a little boy ...  \n",
       "4    petter mattei's \"love in the time of money\" is...  \n",
       "..                                                 ...  \n",
       "995  nothing is sacred. just ask ernie fosselius. t...  \n",
       "996  i hated it. i hate self-aware pretentious inan...  \n",
       "997  i usually try to be professional and construct...  \n",
       "998  if you like me is going to see this in a film ...  \n",
       "999  this is like a zoology textbook, given that it...  \n",
       "\n",
       "[1000 rows x 2 columns]"
      ]
     },
     "execution_count": 20,
     "metadata": {},
     "output_type": "execute_result"
    }
   ],
   "source": [
    "reSentence = []\n",
    "for sentence in InFilter:\n",
    "    lower_sentence = sentence.lower()\n",
    "    clean = re.compile('<.*?>')\n",
    "    sentence_no_tag = re.sub(clean, '', lower_sentence)\n",
    "    reSentence.append(sentence_no_tag)\n",
    "print(len(reSentence))\n",
    "#forPrint = {'Original Sentence': InFilter,'Lower case and remove html tag': reSentence}\n",
    "#toFile = pd.DataFrame(forPrint)\n",
    "#toFile"
   ]
  },
  {
   "cell_type": "code",
   "execution_count": 1,
   "metadata": {},
   "outputs": [
    {
     "name": "stdout",
     "output_type": "stream",
     "text": [
      "[[   0    0    0 ...  406 3108  310]\n",
      " [   0    0    0 ... 2704   18  121]\n",
      " [   0    0    0 ...   10    5  332]\n",
      " ...\n",
      " [   0    0    0 ...    4  645  771]\n",
      " [   0    0    0 ...  964  606    1]\n",
      " [   0    0    0 ...   57  101 1004]]\n"
     ]
    },
    {
     "name": "stderr",
     "output_type": "stream",
     "text": [
      "IOPub data rate exceeded.\n",
      "The notebook server will temporarily stop sending output\n",
      "to the client in order to avoid crashing it.\n",
      "To change this limit, set the config variable\n",
      "`--NotebookApp.iopub_data_rate_limit`.\n",
      "\n",
      "Current values:\n",
      "NotebookApp.iopub_data_rate_limit=1000000.0 (bytes/sec)\n",
      "NotebookApp.rate_limit_window=3.0 (secs)\n",
      "\n"
     ]
    }
   ],
   "source": [
    "import pandas as pd\n",
    "from sklearn.feature_extraction.text import CountVectorizer\n",
    "from tensorflow.keras.preprocessing.text import Tokenizer\n",
    "from tensorflow.keras.preprocessing.sequence import pad_sequences\n",
    "from tensorflow.keras.models import Sequential\n",
    "from tensorflow.keras.layers import Dense, Embedding, LSTM, Dropout\n",
    "from sklearn.model_selection import train_test_split\n",
    "import random\n",
    "import re\n",
    "\n",
    "lemma_result = pd.read_csv(\"../Clean/lemma_result.csv\") #Dataset\n",
    "\n",
    "max_fatures = 7000 #จำนวนคำที่ใช้ใน model\n",
    "tokenizer = Tokenizer(num_words=max_fatures, split=' ') \n",
    "tokenizer.fit_on_texts(lemma_result['cleaned_review'].values)\n",
    "X1 = tokenizer.texts_to_sequences(lemma_result['cleaned_review'].values)\n",
    "X1 = pad_sequences(X1, padding='pre') \n",
    "\n",
    "print(X1)\n",
    "app = []\n",
    "\n",
    "for i in X1:\n",
    "    app.append(i)\n",
    "    \n",
    "print(app)\n",
    "\n",
    "#forPrint = {'Token': X1}\n",
    "#toFile = pd.DataFrame(forPrint)\n",
    "#toFile"
   ]
  },
  {
   "cell_type": "code",
   "execution_count": null,
   "metadata": {},
   "outputs": [],
   "source": []
  }
 ],
 "metadata": {
  "kernelspec": {
   "display_name": "Python 3.7 (tensorflow)",
   "language": "python",
   "name": "tensorflow"
  },
  "language_info": {
   "codemirror_mode": {
    "name": "ipython",
    "version": 3
   },
   "file_extension": ".py",
   "mimetype": "text/x-python",
   "name": "python",
   "nbconvert_exporter": "python",
   "pygments_lexer": "ipython3",
   "version": "3.7.7"
  }
 },
 "nbformat": 4,
 "nbformat_minor": 4
}
