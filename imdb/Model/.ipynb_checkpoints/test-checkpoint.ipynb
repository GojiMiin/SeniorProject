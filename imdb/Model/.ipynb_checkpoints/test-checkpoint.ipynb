{
 "cells": [
  {
   "cell_type": "code",
   "execution_count": 32,
   "metadata": {},
   "outputs": [],
   "source": [
    "import pandas as pd"
   ]
  },
  {
   "cell_type": "code",
   "execution_count": 33,
   "metadata": {},
   "outputs": [],
   "source": [
    "lemma_result = pd.read_csv(\"../Clean/lemma_result.csv\") #Dataset"
   ]
  },
  {
   "cell_type": "code",
   "execution_count": 34,
   "metadata": {},
   "outputs": [
    {
     "name": "stdout",
     "output_type": "stream",
     "text": [
      "                                      cleaned_review  Label\n",
      "0  one reviewers mention watch 1 oz episode hook ...      1\n",
      "1  wonderful little production film technique una...      1\n",
      "2  think wonderful way spend time hot summer week...      1\n",
      "3  basically family little boy jake think zombie ...      0\n",
      "4  petter mattei love time money visually stun fi...      1\n"
     ]
    }
   ],
   "source": [
    "print(lemma_result.head())"
   ]
  },
  {
   "cell_type": "code",
   "execution_count": 35,
   "metadata": {},
   "outputs": [
    {
     "name": "stdout",
     "output_type": "stream",
     "text": [
      "(1000, 2)\n"
     ]
    }
   ],
   "source": [
    "print(lemma_result.shape)"
   ]
  },
  {
   "cell_type": "code",
   "execution_count": 36,
   "metadata": {},
   "outputs": [
    {
     "data": {
      "text/plain": [
       "'wonderful little production film technique unassuming old time bbc fashion give comfort sometimes discomforting sense realism entire piece actors extremely well choose michael sheen get polari voice pat truly see seamless edit guide reference williams diary entries well worth watch terrificly write perform piece masterful production one great master comedy life realism really come home little things fantasy guard rather use traditional dream techniques remain solid disappear play knowledge sense particularly scenes concern orton halliwell set particularly flat halliwell murals decorate every surface terribly well do'"
      ]
     },
     "execution_count": 36,
     "metadata": {},
     "output_type": "execute_result"
    }
   ],
   "source": [
    "from sklearn.feature_extraction.text import TfidfVectorizer\n",
    "tfidf = TfidfVectorizer()\n",
    "X = tfidf.fit_transform(lemma_result['cleaned_review'])\n",
    "\n",
    "lemma_result['cleaned_review'][1]"
   ]
  },
  {
   "cell_type": "code",
   "execution_count": 37,
   "metadata": {},
   "outputs": [],
   "source": [
    "#print([X[1, tfidf.vocabulary_['discomforting']]])"
   ]
  },
  {
   "cell_type": "code",
   "execution_count": 38,
   "metadata": {},
   "outputs": [
    {
     "data": {
      "text/plain": [
       "Label\n",
       "0    499\n",
       "1    501\n",
       "dtype: int64"
      ]
     },
     "execution_count": 38,
     "metadata": {},
     "output_type": "execute_result"
    }
   ],
   "source": [
    "lemma_result.groupby('Label').size()"
   ]
  },
  {
   "cell_type": "code",
   "execution_count": 39,
   "metadata": {},
   "outputs": [],
   "source": [
    "from sklearn.model_selection import train_test_split\n",
    "X = lemma_result.cleaned_review\n",
    "y = lemma_result.Label\n",
    "X_train, X_test, y_train, y_test = train_test_split(X, y, random_state = 0)"
   ]
  },
  {
   "cell_type": "code",
   "execution_count": 40,
   "metadata": {},
   "outputs": [
    {
     "name": "stdout",
     "output_type": "stream",
     "text": [
      "Train set has total 750 entries with 48.27% negative, 51.73% positive\n"
     ]
    }
   ],
   "source": [
    "print(\"Train set has total {0} entries with {1:.2f}% negative, {2:.2f}% positive\".format(len(X_train),\n",
    "                                                                             (len(X_train[y_train == 0]) / (len(X_train)*1.))*100,\n",
    "                                                                            (len(X_train[y_train == 1]) / (len(X_train)*1.))*100))"
   ]
  },
  {
   "cell_type": "code",
   "execution_count": 41,
   "metadata": {},
   "outputs": [],
   "source": [
    "from sklearn.feature_extraction.text import CountVectorizer\n",
    "from tensorflow.keras.preprocessing.text import Tokenizer\n",
    "from tensorflow.keras.preprocessing.sequence import pad_sequences\n",
    "from tensorflow.keras.models import Sequential\n",
    "from tensorflow.keras.layers import Dense, Embedding, LSTM, Dropout\n",
    "from sklearn.model_selection import train_test_split\n",
    "import random\n",
    "import re"
   ]
  },
  {
   "cell_type": "code",
   "execution_count": 42,
   "metadata": {},
   "outputs": [],
   "source": [
    "max_fatures = 3000 #change size to fit vocab\n",
    "tokenizer = Tokenizer(num_words=max_fatures, split=' ')\n",
    "tokenizer.fit_on_texts(lemma_result['cleaned_review'].values)\n",
    "X1 = tokenizer.texts_to_sequences(lemma_result['cleaned_review'].values)\n",
    "X1 = pad_sequences(X1)"
   ]
  },
  {
   "cell_type": "code",
   "execution_count": 43,
   "metadata": {},
   "outputs": [
    {
     "name": "stdout",
     "output_type": "stream",
     "text": [
      "(750, 505) (750, 2)\n",
      "(250, 505) (250, 2)\n"
     ]
    }
   ],
   "source": [
    "Y1 = pd.get_dummies(lemma_result['Label']).values\n",
    "X1_train, X1_test, Y1_train, Y1_test = train_test_split(X1,Y1, random_state = 42)\n",
    "print(X1_train.shape,Y1_train.shape)\n",
    "print(X1_test.shape,Y1_test.shape)"
   ]
  },
  {
   "cell_type": "code",
   "execution_count": 44,
   "metadata": {},
   "outputs": [
    {
     "name": "stdout",
     "output_type": "stream",
     "text": [
      "Model: \"sequential_2\"\n",
      "_________________________________________________________________\n",
      "Layer (type)                 Output Shape              Param #   \n",
      "=================================================================\n",
      "embedding_2 (Embedding)      (None, 505, 150)          450000    \n",
      "_________________________________________________________________\n",
      "dropout_4 (Dropout)          (None, 505, 150)          0         \n",
      "_________________________________________________________________\n",
      "lstm_2 (LSTM)                (None, 200)               280800    \n",
      "_________________________________________________________________\n",
      "dropout_5 (Dropout)          (None, 200)               0         \n",
      "_________________________________________________________________\n",
      "dense_2 (Dense)              (None, 1)                 201       \n",
      "=================================================================\n",
      "Total params: 731,001\n",
      "Trainable params: 731,001\n",
      "Non-trainable params: 0\n",
      "_________________________________________________________________\n",
      "None\n"
     ]
    }
   ],
   "source": [
    "embed_dim = 150\n",
    "lstm_out = 200\n",
    "\n",
    "model = Sequential()\n",
    "model.add(Embedding(max_fatures, embed_dim,input_length = X1.shape[1]))\n",
    "model.add(Dropout(0.2))\n",
    "model.add(LSTM(lstm_out, dropout=0.2, recurrent_dropout=0.2))\n",
    "model.add(Dropout(0.2))\n",
    "model.add(Dense(1,activation='sigmoid'))\n",
    "model.compile(loss = 'binary_crossentropy', optimizer='adam',metrics = ['accuracy'])\n",
    "print(model.summary())"
   ]
  },
  {
   "cell_type": "code",
   "execution_count": 45,
   "metadata": {},
   "outputs": [
    {
     "data": {
      "text/plain": [
       "array([1, 1, 0, 0, 1, 0, 1, 1, 1, 0, 1, 0, 1, 1, 1, 1, 1, 1, 0, 0, 1, 1,\n",
       "       0, 1, 1, 0, 1, 1, 1, 1, 1, 0, 1, 0, 1, 1, 1, 1, 0, 0, 0, 0, 0, 1,\n",
       "       0, 1, 0, 1, 1, 1, 1, 1, 1, 1, 0, 0, 0, 1, 1, 0, 0, 1, 1, 0, 1, 0,\n",
       "       0, 1, 0, 1, 0, 1, 0, 0, 1, 1, 1, 1, 0, 1, 0, 1, 0, 0, 0, 0, 0, 0,\n",
       "       0, 0, 1, 0, 0, 1, 0, 1, 0, 1, 0, 0, 1, 1, 0, 1, 0, 0, 1, 1, 0, 1,\n",
       "       0, 0, 1, 0, 0, 1, 0, 0, 0, 0, 1, 1, 1, 0, 0, 0, 1, 0, 0, 0, 0, 0,\n",
       "       0, 0, 1, 0, 1, 1, 1, 1, 1, 0, 0, 0, 1, 1, 1, 1, 1, 1, 1, 0, 0, 0,\n",
       "       0, 0, 1, 1, 0, 0, 1, 0, 0, 1, 0, 0, 0, 0, 0, 0, 0, 1, 0, 0, 0, 1,\n",
       "       1, 1, 0, 0, 1, 0, 1, 1, 1, 1, 1, 0, 1, 1, 1, 0, 1, 0, 1, 0, 0, 0,\n",
       "       1, 1, 0, 0, 0, 1, 0, 0, 1, 0, 1, 1, 1, 0, 0, 0, 0, 1, 0, 0, 1, 0,\n",
       "       0, 0, 0, 1, 0, 0, 1, 1, 0, 0, 0, 1, 1, 1, 0, 1, 1, 0, 1, 1, 0, 0,\n",
       "       1, 0, 0, 0, 1, 1, 1, 1, 0, 1, 1, 0, 0, 0, 1, 1, 1, 1, 1, 1, 1, 1,\n",
       "       1, 1, 0, 1, 1, 0, 0, 0, 1, 1, 1, 1, 1, 0, 1, 0, 0, 1, 0, 0, 0, 1,\n",
       "       0, 0, 0, 1, 0, 0, 0, 0, 1, 0, 1, 0, 1, 1, 0, 1, 0, 1, 0, 1, 0, 1,\n",
       "       1, 1, 1, 1, 1, 1, 1, 1, 1, 0, 0, 1, 1, 0, 0, 0, 0, 1, 1, 1, 0, 1,\n",
       "       0, 1, 1, 0, 0, 0, 1, 0, 0, 1, 0, 1, 0, 1, 0, 1, 0, 0, 1, 0, 1, 1,\n",
       "       1, 1, 0, 0, 0, 0, 0, 0, 0, 1, 0, 0, 0, 1, 0, 0, 0, 0, 0, 0, 1, 1,\n",
       "       0, 1, 0, 1, 1, 0, 0, 1, 1, 1, 1, 1, 0, 0, 0, 0, 0, 0, 1, 1, 0, 0,\n",
       "       0, 0, 0, 1, 1, 1, 0, 1, 1, 1, 0, 0, 1, 0, 1, 0, 1, 0, 1, 0, 1, 0,\n",
       "       1, 1, 0, 0, 0, 1, 1, 0, 1, 0, 1, 1, 0, 1, 0, 1, 0, 1, 1, 1, 1, 0,\n",
       "       0, 0, 1, 0, 0, 1, 1, 0, 1, 0, 1, 1, 0, 1, 1, 0, 0, 0, 1, 0, 0, 1,\n",
       "       1, 1, 0, 0, 1, 0, 0, 0, 1, 1, 0, 0, 0, 0, 1, 1, 0, 0, 1, 1, 1, 1,\n",
       "       0, 0, 0, 0, 1, 1, 1, 1, 0, 1, 1, 0, 0, 1, 0, 0, 0, 0, 0, 1, 0, 0,\n",
       "       1, 1, 0, 1, 1, 1, 0, 0, 0, 1, 0, 1, 0, 0, 1, 0, 0, 0, 1, 1, 1, 1,\n",
       "       0, 1, 1, 0, 1, 0, 1, 0, 0, 0, 1, 0, 0, 0, 0, 0, 1, 1, 0, 0, 0, 0,\n",
       "       0, 0, 1, 0, 1, 1, 0, 0, 1, 1, 0, 1, 1, 0, 1, 1, 0, 0, 0, 1, 1, 1,\n",
       "       1, 0, 0, 1, 0, 1, 0, 1, 0, 1, 1, 1, 0, 1, 1, 0, 1, 1, 1, 1, 0, 1,\n",
       "       0, 0, 1, 0, 0, 1, 1, 1, 0, 1, 1, 1, 1, 1, 1, 0, 0, 0, 1, 1, 1, 0,\n",
       "       1, 0, 0, 1, 0, 0, 1, 1, 0, 0, 1, 0, 0, 1, 1, 0, 1, 1, 1, 0, 1, 0,\n",
       "       1, 0, 1, 1, 0, 1, 0, 1, 0, 0, 0, 1, 1, 1, 0, 0, 1, 1, 1, 1, 1, 0,\n",
       "       0, 1, 0, 1, 0, 0, 1, 1, 1, 0, 0, 1, 0, 1, 0, 0, 1, 1, 1, 0, 0, 1,\n",
       "       1, 0, 1, 1, 0, 0, 0, 0, 0, 0, 1, 0, 0, 1, 0, 0, 0, 0, 1, 1, 0, 1,\n",
       "       0, 1, 0, 1, 1, 0, 0, 1, 0, 0, 1, 1, 1, 1, 0, 1, 0, 0, 1, 1, 1, 0,\n",
       "       0, 1, 1, 0, 0, 0, 0, 0, 1, 1, 1, 1, 1, 0, 0, 0, 0, 1, 1, 0, 1, 0,\n",
       "       0, 0], dtype=uint8)"
      ]
     },
     "execution_count": 45,
     "metadata": {},
     "output_type": "execute_result"
    }
   ],
   "source": [
    "Y1_train[:,0]"
   ]
  },
  {
   "cell_type": "code",
   "execution_count": 46,
   "metadata": {
    "scrolled": false
   },
   "outputs": [
    {
     "name": "stdout",
     "output_type": "stream",
     "text": [
      "Train on 600 samples, validate on 150 samples\n",
      "Epoch 1/20\n",
      "600/600 - 22s - loss: 0.6914 - accuracy: 0.5150 - val_loss: 0.6854 - val_accuracy: 0.6000\n",
      "Epoch 2/20\n",
      "600/600 - 17s - loss: 0.6096 - accuracy: 0.7850 - val_loss: 0.5426 - val_accuracy: 0.7000\n",
      "Epoch 3/20\n",
      "600/600 - 16s - loss: 0.3541 - accuracy: 0.9017 - val_loss: 0.5739 - val_accuracy: 0.7200\n",
      "Epoch 4/20\n",
      "600/600 - 17s - loss: 0.1343 - accuracy: 0.9617 - val_loss: 0.6418 - val_accuracy: 0.7067\n",
      "Epoch 5/20\n",
      "600/600 - 17s - loss: 0.0636 - accuracy: 0.9900 - val_loss: 0.6693 - val_accuracy: 0.7067\n",
      "Epoch 6/20\n",
      "600/600 - 18s - loss: 0.0403 - accuracy: 0.9933 - val_loss: 0.8503 - val_accuracy: 0.7133\n",
      "Epoch 7/20\n",
      "600/600 - 17s - loss: 0.0153 - accuracy: 0.9983 - val_loss: 0.9222 - val_accuracy: 0.6667\n",
      "Epoch 8/20\n",
      "600/600 - 17s - loss: 0.0148 - accuracy: 1.0000 - val_loss: 0.7766 - val_accuracy: 0.7200\n",
      "Epoch 9/20\n",
      "600/600 - 16s - loss: 0.0088 - accuracy: 1.0000 - val_loss: 1.0642 - val_accuracy: 0.7000\n",
      "Epoch 10/20\n",
      "600/600 - 17s - loss: 0.0065 - accuracy: 1.0000 - val_loss: 1.0244 - val_accuracy: 0.7133\n",
      "Epoch 11/20\n",
      "600/600 - 17s - loss: 0.0019 - accuracy: 1.0000 - val_loss: 1.1687 - val_accuracy: 0.7267\n",
      "Epoch 12/20\n",
      "600/600 - 16s - loss: 0.0116 - accuracy: 0.9950 - val_loss: 1.1348 - val_accuracy: 0.6667\n",
      "Epoch 13/20\n",
      "600/600 - 16s - loss: 0.0163 - accuracy: 0.9967 - val_loss: 0.8972 - val_accuracy: 0.7200\n",
      "Epoch 14/20\n",
      "600/600 - 17s - loss: 0.0042 - accuracy: 1.0000 - val_loss: 1.0462 - val_accuracy: 0.7267\n",
      "Epoch 15/20\n",
      "600/600 - 16s - loss: 0.0145 - accuracy: 0.9983 - val_loss: 1.0997 - val_accuracy: 0.7000\n",
      "Epoch 16/20\n",
      "600/600 - 16s - loss: 0.0116 - accuracy: 0.9983 - val_loss: 0.8978 - val_accuracy: 0.6933\n",
      "Epoch 17/20\n",
      "600/600 - 16s - loss: 0.0261 - accuracy: 0.9950 - val_loss: 0.9987 - val_accuracy: 0.7400\n",
      "Epoch 18/20\n",
      "600/600 - 16s - loss: 0.0083 - accuracy: 0.9983 - val_loss: 1.1629 - val_accuracy: 0.7400\n",
      "Epoch 19/20\n",
      "600/600 - 17s - loss: 0.0031 - accuracy: 1.0000 - val_loss: 1.2855 - val_accuracy: 0.6933\n",
      "Epoch 20/20\n",
      "600/600 - 16s - loss: 0.0017 - accuracy: 1.0000 - val_loss: 1.2343 - val_accuracy: 0.7400\n"
     ]
    }
   ],
   "source": [
    "batch_size = 32\n",
    "random.seed(10)\n",
    "history = model.fit(X1_train, Y1_train[:,0],validation_split=0.2, epochs = 20, batch_size=batch_size, verbose = 2)"
   ]
  },
  {
   "cell_type": "code",
   "execution_count": 47,
   "metadata": {},
   "outputs": [
    {
     "name": "stdout",
     "output_type": "stream",
     "text": [
      "250/250 - 1s - loss: 1.1563 - accuracy: 0.6920\n",
      "score: 1.16\n",
      "acc: 0.69\n"
     ]
    }
   ],
   "source": [
    "score,acc = model.evaluate(X1_test, Y1_test[:,0], verbose = 2, batch_size = batch_size)\n",
    "print(\"score: %.2f\" % (score))\n",
    "print(\"acc: %.2f\" % (acc))"
   ]
  },
  {
   "cell_type": "code",
   "execution_count": 48,
   "metadata": {},
   "outputs": [
    {
     "data": {
      "text/plain": [
       "array([[8.14136744e-01],\n",
       "       [9.94408131e-01],\n",
       "       [9.93678272e-01],\n",
       "       [9.99915481e-01],\n",
       "       [9.55830574e-01],\n",
       "       [9.41501130e-05],\n",
       "       [7.35214055e-01],\n",
       "       [9.99822557e-01],\n",
       "       [9.97875571e-01],\n",
       "       [4.93110240e-01],\n",
       "       [5.98928798e-03],\n",
       "       [4.06102017e-02],\n",
       "       [9.98216093e-01],\n",
       "       [2.41826162e-01],\n",
       "       [9.36780512e-01],\n",
       "       [9.72591102e-01],\n",
       "       [9.18236503e-04],\n",
       "       [9.43460763e-01],\n",
       "       [3.51795405e-01],\n",
       "       [1.06711627e-03],\n",
       "       [1.09411803e-05],\n",
       "       [9.96780753e-01],\n",
       "       [9.99504328e-01],\n",
       "       [4.51053120e-03],\n",
       "       [9.99409080e-01],\n",
       "       [8.78319383e-01],\n",
       "       [6.19332016e-01],\n",
       "       [1.38356161e-04],\n",
       "       [4.91073847e-01],\n",
       "       [7.23733800e-04],\n",
       "       [9.99265492e-01],\n",
       "       [9.99673009e-01],\n",
       "       [9.14934993e-01],\n",
       "       [7.54867911e-01],\n",
       "       [9.99445736e-01],\n",
       "       [5.88424392e-02],\n",
       "       [6.33938968e-01],\n",
       "       [8.44697595e-01],\n",
       "       [9.97650206e-01],\n",
       "       [4.93189960e-04],\n",
       "       [5.47132862e-04],\n",
       "       [1.53474975e-02],\n",
       "       [9.98078585e-01],\n",
       "       [9.95920897e-01],\n",
       "       [1.55513454e-03],\n",
       "       [4.04574821e-04],\n",
       "       [1.06095433e-01],\n",
       "       [3.55310855e-03],\n",
       "       [7.23149240e-01],\n",
       "       [1.96068038e-04],\n",
       "       [5.24177194e-01],\n",
       "       [9.99759018e-01],\n",
       "       [9.96885478e-01],\n",
       "       [9.98479187e-01],\n",
       "       [9.96117592e-01],\n",
       "       [3.34030425e-04],\n",
       "       [9.99860525e-01],\n",
       "       [9.36067384e-03],\n",
       "       [9.96018231e-01],\n",
       "       [9.97590303e-01],\n",
       "       [9.98822629e-01],\n",
       "       [3.34202847e-03],\n",
       "       [9.99030232e-01],\n",
       "       [9.71765339e-01],\n",
       "       [9.84461725e-01],\n",
       "       [1.59645423e-01],\n",
       "       [3.07678938e-01],\n",
       "       [3.94841935e-03],\n",
       "       [9.96919632e-01],\n",
       "       [9.88323271e-01],\n",
       "       [9.99898553e-01],\n",
       "       [2.81770481e-03],\n",
       "       [3.11008990e-02],\n",
       "       [9.98966336e-01],\n",
       "       [5.85640192e-01],\n",
       "       [9.34734762e-01],\n",
       "       [9.98942912e-01],\n",
       "       [9.98452902e-01],\n",
       "       [9.99332607e-01],\n",
       "       [2.58524150e-01],\n",
       "       [7.59459615e-01],\n",
       "       [3.40524944e-03],\n",
       "       [9.36531246e-01],\n",
       "       [8.09706211e-01],\n",
       "       [6.66890082e-06],\n",
       "       [2.81313527e-02],\n",
       "       [9.99914289e-01],\n",
       "       [1.65827200e-01],\n",
       "       [7.37488329e-01],\n",
       "       [9.99582469e-01],\n",
       "       [7.25155115e-01],\n",
       "       [3.54861207e-02],\n",
       "       [9.86325324e-01],\n",
       "       [5.64182661e-02],\n",
       "       [3.88488531e-01],\n",
       "       [2.22398899e-03],\n",
       "       [9.97465014e-01],\n",
       "       [9.93703902e-01],\n",
       "       [9.99331892e-01],\n",
       "       [9.02075693e-03],\n",
       "       [9.87302065e-01],\n",
       "       [1.28952277e-04],\n",
       "       [9.99201000e-01],\n",
       "       [8.86179149e-01],\n",
       "       [9.98618960e-01],\n",
       "       [9.98328507e-01],\n",
       "       [7.25121200e-02],\n",
       "       [9.99577343e-01],\n",
       "       [9.99841809e-01],\n",
       "       [1.52707353e-01],\n",
       "       [3.12435860e-03],\n",
       "       [1.97846806e-04],\n",
       "       [6.95547998e-01],\n",
       "       [1.85656045e-02],\n",
       "       [4.02644798e-02],\n",
       "       [1.00379735e-02],\n",
       "       [1.66469663e-01],\n",
       "       [1.58347713e-04],\n",
       "       [9.99315977e-01],\n",
       "       [3.60645920e-01],\n",
       "       [3.08143237e-04],\n",
       "       [8.18286184e-03],\n",
       "       [3.90246749e-01],\n",
       "       [5.23022413e-01],\n",
       "       [9.99678016e-01],\n",
       "       [9.26860869e-01],\n",
       "       [9.78556037e-01],\n",
       "       [9.98851418e-01],\n",
       "       [1.17004476e-01],\n",
       "       [5.07835865e-01],\n",
       "       [9.94457126e-01],\n",
       "       [9.05861816e-05],\n",
       "       [6.92484617e-01],\n",
       "       [6.14432275e-01],\n",
       "       [8.32341552e-01],\n",
       "       [1.19318552e-01],\n",
       "       [5.99302575e-02],\n",
       "       [4.01309917e-05],\n",
       "       [1.61543593e-03],\n",
       "       [8.80164564e-01],\n",
       "       [3.29825853e-04],\n",
       "       [9.79129970e-01],\n",
       "       [9.98321950e-01],\n",
       "       [9.88781631e-01],\n",
       "       [9.88681555e-01],\n",
       "       [9.87277746e-01],\n",
       "       [5.74498713e-01],\n",
       "       [3.44171107e-01],\n",
       "       [2.06022640e-03],\n",
       "       [5.01050527e-05],\n",
       "       [3.16105812e-04],\n",
       "       [9.87501621e-01],\n",
       "       [4.90278155e-01],\n",
       "       [2.90606194e-03],\n",
       "       [9.88967478e-01],\n",
       "       [9.87558246e-01],\n",
       "       [3.08994483e-02],\n",
       "       [1.21781930e-01],\n",
       "       [9.87152874e-01],\n",
       "       [3.94760747e-04],\n",
       "       [4.31391358e-01],\n",
       "       [1.30087743e-03],\n",
       "       [8.88156891e-01],\n",
       "       [1.94592765e-04],\n",
       "       [9.93743002e-01],\n",
       "       [9.87307191e-01],\n",
       "       [9.06813681e-01],\n",
       "       [1.17304847e-02],\n",
       "       [9.81584787e-01],\n",
       "       [2.20728125e-05],\n",
       "       [9.99908566e-01],\n",
       "       [2.48915538e-01],\n",
       "       [9.93342340e-01],\n",
       "       [9.99920487e-01],\n",
       "       [9.54124272e-01],\n",
       "       [5.48378855e-04],\n",
       "       [6.14448898e-02],\n",
       "       [9.81583416e-01],\n",
       "       [9.74662364e-01],\n",
       "       [1.26246642e-03],\n",
       "       [1.58549403e-04],\n",
       "       [9.59841669e-01],\n",
       "       [6.26709824e-03],\n",
       "       [9.97349977e-01],\n",
       "       [5.02918987e-03],\n",
       "       [9.94910300e-01],\n",
       "       [9.49592471e-01],\n",
       "       [5.87367220e-04],\n",
       "       [3.75511944e-02],\n",
       "       [2.02903282e-02],\n",
       "       [1.45311385e-01],\n",
       "       [8.63885581e-02],\n",
       "       [9.79502965e-03],\n",
       "       [9.91544724e-01],\n",
       "       [1.27294715e-02],\n",
       "       [9.99355733e-01],\n",
       "       [1.77069509e-04],\n",
       "       [1.78933993e-01],\n",
       "       [9.99902844e-01],\n",
       "       [9.96584296e-01],\n",
       "       [1.19429771e-02],\n",
       "       [7.38427520e-01],\n",
       "       [9.99522328e-01],\n",
       "       [8.97630870e-01],\n",
       "       [8.36382359e-02],\n",
       "       [9.66082931e-01],\n",
       "       [9.69552755e-01],\n",
       "       [9.99099851e-01],\n",
       "       [9.99366701e-01],\n",
       "       [9.99898434e-01],\n",
       "       [1.25123269e-03],\n",
       "       [7.19913006e-01],\n",
       "       [3.70429363e-03],\n",
       "       [9.99788582e-01],\n",
       "       [9.28110600e-01],\n",
       "       [1.40562244e-02],\n",
       "       [4.80105013e-01],\n",
       "       [9.79540884e-01],\n",
       "       [8.95530820e-01],\n",
       "       [9.99564111e-01],\n",
       "       [4.11088020e-01],\n",
       "       [1.05722593e-02],\n",
       "       [9.98494506e-01],\n",
       "       [2.51331389e-01],\n",
       "       [5.54989159e-01],\n",
       "       [1.28559157e-04],\n",
       "       [1.60822701e-02],\n",
       "       [9.86311138e-01],\n",
       "       [9.96946633e-01],\n",
       "       [9.99422193e-01],\n",
       "       [2.80306535e-03],\n",
       "       [9.85230803e-01],\n",
       "       [2.71964818e-02],\n",
       "       [9.19165313e-01],\n",
       "       [6.36421246e-05],\n",
       "       [4.73003462e-03],\n",
       "       [2.06063763e-04],\n",
       "       [6.48286426e-04],\n",
       "       [9.88041162e-01],\n",
       "       [5.34424325e-05],\n",
       "       [9.97088730e-01],\n",
       "       [9.96671915e-01],\n",
       "       [9.99600351e-01],\n",
       "       [8.94719735e-04],\n",
       "       [8.23560879e-02],\n",
       "       [2.58993834e-01],\n",
       "       [9.84270096e-01],\n",
       "       [9.91037488e-01],\n",
       "       [9.95685101e-01],\n",
       "       [9.76419449e-01]], dtype=float32)"
      ]
     },
     "execution_count": 48,
     "metadata": {},
     "output_type": "execute_result"
    }
   ],
   "source": [
    "lstm_output= model.predict(X1_test)\n",
    "\n",
    "lstm_output"
   ]
  },
  {
   "cell_type": "code",
   "execution_count": 63,
   "metadata": {},
   "outputs": [
    {
     "name": "stdout",
     "output_type": "stream",
     "text": [
      "993    tim robbins john cusack two actors appreciate ...\n",
      "859    stereotype plot young fighter try enter compet...\n",
      "298    go see seven pound clearly sure think preview ...\n",
      "553    movie pretty much suck army soldier depict mov...\n",
      "672    see carlo lizzani documentary luchino visconti...\n",
      "                             ...                        \n",
      "462    frustrate movie small southern town overflow p...\n",
      "356    watch last night bowl heartfelt story line exc...\n",
      "2      think wonderful way spend time hot summer week...\n",
      "478    really really really enjoy movies feature ants...\n",
      "695    okay stupid say make another nightmare film la...\n",
      "Name: cleaned_review, Length: 250, dtype: object\n"
     ]
    }
   ],
   "source": [
    "print(X_test)"
   ]
  },
  {
   "cell_type": "code",
   "execution_count": 49,
   "metadata": {},
   "outputs": [
    {
     "data": {
      "text/plain": [
       "<tf.Tensor: shape=(2, 2), dtype=int32, numpy=\n",
       "array([[78, 43],\n",
       "       [34, 95]])>"
      ]
     },
     "execution_count": 49,
     "metadata": {},
     "output_type": "execute_result"
    }
   ],
   "source": [
    "import tensorflow as tf\n",
    "confusion = tf.math.confusion_matrix(labels=Y1_test[:,0], predictions=lstm_output>0.5)\n",
    "\n",
    "confusion"
   ]
  },
  {
   "cell_type": "code",
   "execution_count": 51,
   "metadata": {},
   "outputs": [
    {
     "name": "stdout",
     "output_type": "stream",
     "text": [
      "                                      0                                     1\n",
      "0  tf.Tensor(78, shape=(), dtype=int32)  tf.Tensor(43, shape=(), dtype=int32)\n",
      "1  tf.Tensor(34, shape=(), dtype=int32)  tf.Tensor(95, shape=(), dtype=int32)\n"
     ]
    }
   ],
   "source": [
    "pf = pd.DataFrame(confusion)\n",
    "\n",
    "print(pf)"
   ]
  },
  {
   "cell_type": "code",
   "execution_count": 60,
   "metadata": {},
   "outputs": [
    {
     "data": {
      "image/png": "[encoded data removed]",
      "text/plain": [
       "<Figure size 432x288 with 2 Axes>"
      ]
     },
     "metadata": {
      "needs_background": "light"
     },
     "output_type": "display_data"
    }
   ],
   "source": [
    "from sklearn.metrics import confusion_matrix\n",
    "import pylab as plt\n",
    "labels = ['negative','positive']\n",
    "cm = confusion_matrix(Y1_test[:,0], lstm_output>0.5)\n",
    "fig = plt.figure()\n",
    "ax = fig.add_subplot(111)\n",
    "cax = ax.matshow(cm)\n",
    "plt.title('Confusion matrix of the classifier')\n",
    "fig.colorbar(cax)\n",
    "ax.set_xticklabels(['']+labels)\n",
    "ax.set_yticklabels(['']+labels)\n",
    "plt.xlabel('Predicted')\n",
    "plt.ylabel('True')\n",
    "plt.show()"
   ]
  },
  {
   "cell_type": "code",
   "execution_count": 65,
   "metadata": {
    "scrolled": true
   },
   "outputs": [
    {
     "name": "stdout",
     "output_type": "stream",
     "text": [
      "[   0    0    0    0    0    0    0    0    0    0    0    0    0    0\n",
      "    0    0    0    0    0    0    0    0    0    0    0    0    0    0\n",
      "    0    0    0    0    0    0    0    0    0    0    0    0    0    0\n",
      "    0    0    0    0    0    0    0    0    0    0    0    0    0    0\n",
      "    0    0    0    0    0    0    0    0    0    0    0    0    0    0\n",
      "    0    0    0    0    0    0    0    0    0    0    0    0    0    0\n",
      "    0    0    0    0    0    0    0    0    0    0    0    0    0    0\n",
      "    0    0    0    0    0    0    0    0    0    0    0    0    0    0\n",
      "    0    0    0    0    0    0    0    0    0    0    0    0    0    0\n",
      "    0    0    0    0    0    0    0    0    0    0    0    0    0    0\n",
      "    0    0    0    0    0    0    0    0    0    0    0    0    0    0\n",
      "    0    0    0    0    0    0    0    0    0    0    0    0    0    0\n",
      "    0    0    0    0    0    0    0    0    0    0    0    0    0    0\n",
      "    0    0    0    0    0    0    0    0    0    0    0    0    0    0\n",
      "    0    0    0    0    0    0    0    0    0    0    0    0    0    0\n",
      "    0    0    0    0    0    0    0    0    0    0    0    0    0    0\n",
      "    0    0    0    0    0    0    0    0    0    0    0    0    0    0\n",
      "    0    0    0    0    0    0    0    0    0    0    0    0    0    0\n",
      "    0    0    0    0    0    0    0    0    0    0    0    0    0    0\n",
      "    0    0    0    0    0    0    0    0    0    0    0    0    0    0\n",
      "    0    0    0    0    0    0    0    0    0    0    0    0    0    0\n",
      "    0    0    0    0    0    0    0    0    0    0    0    0    0    0\n",
      "    0    0    0    0    0    0    0    0    0    0    0    0    0    0\n",
      "    0    0    0    0    0    0    0    0    0    0    0    0    0    0\n",
      "    0    0    0    0    0    0    0    0    0    0    0    0    0    0\n",
      "    0    0    0    0    0    0    0    0    0    0    0    0    0    0\n",
      "    0    0    0    0    0    0    0    0    0    0    0    0    0    0\n",
      "    0    0    0    0    0    0    0    0    0    0    0    0    0    0\n",
      "    0    0    0    0    0    0    0    0    0    0    0    0    0    0\n",
      "    0    0    0    0    0    0    0    0    0    0    0    0    0    0\n",
      "    0    0    0    0    0    0    0    0    0    0    0    0    0    0\n",
      "  280   45  307    1 1426   65    8 1943  677   25  599  202 1273  346\n",
      "  229   71  340   18  532  478    7  372 2703  287    5  533 1656 1045\n",
      " 1427   18  176    9   83  737  229  307    3   31 1274  119   48 1273\n",
      "   17   35  196   45  103  875 1087  148   57 1657  488 1769  489  678\n",
      " 1944   32 1275  202  520   54  876   78  520 1203   85 1770 2704   18\n",
      "  121]\n"
     ]
    }
   ],
   "source": [
    "print(X1[1])\n"
   ]
  },
  {
   "cell_type": "code",
   "execution_count": 87,
   "metadata": {},
   "outputs": [
    {
     "data": {
      "text/plain": [
       "['one',\n",
       " 'reviewers',\n",
       " 'mention',\n",
       " 'watch',\n",
       " '1',\n",
       " 'oz',\n",
       " 'episode',\n",
       " 'hook',\n",
       " 'right',\n",
       " 'exactly',\n",
       " 'happen',\n",
       " 'first',\n",
       " 'thing',\n",
       " 'strike',\n",
       " 'oz',\n",
       " 'scenes',\n",
       " 'violence',\n",
       " 'set',\n",
       " 'right',\n",
       " 'word',\n",
       " 'go',\n",
       " 'trust',\n",
       " 'show',\n",
       " 'hearted',\n",
       " 'show',\n",
       " 'pull',\n",
       " 'punch',\n",
       " 'regard',\n",
       " 'drug',\n",
       " 'sex',\n",
       " 'violence',\n",
       " 'classic',\n",
       " 'use',\n",
       " 'word',\n",
       " 'call',\n",
       " 'oz',\n",
       " 'give',\n",
       " 'maximum',\n",
       " 'security',\n",
       " 'state',\n",
       " 'focus',\n",
       " 'mainly',\n",
       " 'city',\n",
       " 'prison',\n",
       " 'cells',\n",
       " 'glass',\n",
       " 'front',\n",
       " 'face',\n",
       " 'high',\n",
       " 'em',\n",
       " 'city',\n",
       " 'home',\n",
       " 'many',\n",
       " 'death',\n",
       " 'star',\n",
       " 'deal',\n",
       " 'never',\n",
       " 'far',\n",
       " 'away',\n",
       " 'would',\n",
       " 'say',\n",
       " 'main',\n",
       " 'appeal',\n",
       " 'show',\n",
       " 'due',\n",
       " 'fact',\n",
       " 'go',\n",
       " 'show',\n",
       " 'dare',\n",
       " 'forget',\n",
       " 'pretty',\n",
       " 'picture',\n",
       " 'paint',\n",
       " 'mainstream',\n",
       " 'audiences',\n",
       " 'forget',\n",
       " 'charm',\n",
       " 'forget',\n",
       " 'romance',\n",
       " 'oz',\n",
       " 'mess',\n",
       " 'around',\n",
       " 'first',\n",
       " 'episode',\n",
       " 'ever',\n",
       " 'saw',\n",
       " 'strike',\n",
       " 'nasty',\n",
       " 'surreal',\n",
       " 'say',\n",
       " 'ready',\n",
       " 'watch',\n",
       " 'develop',\n",
       " 'taste',\n",
       " 'oz',\n",
       " 'get',\n",
       " 'high',\n",
       " 'level',\n",
       " 'graphic',\n",
       " 'violence',\n",
       " 'violence',\n",
       " 'crook',\n",
       " 'guard',\n",
       " 'sell',\n",
       " 'kill',\n",
       " 'order',\n",
       " 'get',\n",
       " 'away',\n",
       " 'well',\n",
       " 'middle',\n",
       " 'class',\n",
       " 'turn',\n",
       " 'prison',\n",
       " 'due',\n",
       " 'lack',\n",
       " 'street',\n",
       " 'skills',\n",
       " 'prison',\n",
       " 'experience',\n",
       " 'watch',\n",
       " 'oz',\n",
       " 'may',\n",
       " 'become',\n",
       " 'comfortable',\n",
       " 'view',\n",
       " 'thats',\n",
       " 'get',\n",
       " 'touch',\n",
       " 'side']"
      ]
     },
     "execution_count": 87,
     "metadata": {},
     "output_type": "execute_result"
    }
   ],
   "source": [
    "test = tokenizer.texts_to_sequences(lemma_result['cleaned_review'].values[0])\n",
    "def sequence_to_text(list_of_indices):\n",
    "    # Looking up words in dictionary\n",
    "    words = [reverse_word_map.get(letter) for letter in list_of_indices]\n",
    "    return(words)\n",
    "#print(test[1])\n",
    "my_texts = list(map(sequence_to_text, test))\n",
    "my_texts[0]"
   ]
  },
  {
   "cell_type": "code",
   "execution_count": 89,
   "metadata": {},
   "outputs": [
    {
     "name": "stdout",
     "output_type": "stream",
     "text": [
      "[3, 2170, 223, 9, 252, 2171, 305, 1343, 141, 576, 143, 26, 76, 873, 2171, 54, 357, 78, 141, 181, 10, 1421, 21, 1654, 21, 548, 1422, 633, 286, 295, 357, 306, 57, 181, 179, 2171, 25, 2172, 2700, 577, 634, 1272, 387, 787, 2701, 1423, 635, 207, 256, 1766, 387, 196, 42, 268, 68, 388, 43, 153, 157, 15, 34, 217, 712, 21, 487, 139, 10, 21, 951, 454, 79, 210, 764, 1767, 1424, 454, 636, 454, 531, 2171, 765, 95, 26, 305, 52, 144, 873, 952, 1655, 34, 874, 9, 617, 953, 2171, 7, 256, 448, 1425, 357, 357, 2429, 1087, 766, 90, 418, 7, 157, 18, 437, 438, 84, 787, 487, 274, 736, 2702, 787, 275, 9, 2171, 111, 98, 1768, 171, 1144, 7, 406, 310]\n"
     ]
    }
   ],
   "source": [
    "print(test[0])"
   ]
  },
  {
   "cell_type": "code",
   "execution_count": 97,
   "metadata": {},
   "outputs": [
    {
     "ename": "ValueError",
     "evalue": "Error when checking input: expected embedding_2_input to have shape (505,) but got array with shape (129,)",
     "output_type": "error",
     "traceback": [
      "\u001b[1;31m---------------------------------------------------------------------------\u001b[0m",
      "\u001b[1;31mValueError\u001b[0m                                Traceback (most recent call last)",
      "\u001b[1;32m<ipython-input-97-29f3f96be4d8>\u001b[0m in \u001b[0;36m<module>\u001b[1;34m\u001b[0m\n\u001b[0;32m      2\u001b[0m \u001b[0mtestList\u001b[0m\u001b[1;33m.\u001b[0m\u001b[0mappend\u001b[0m\u001b[1;33m(\u001b[0m\u001b[0mtest\u001b[0m\u001b[1;33m[\u001b[0m\u001b[1;36m0\u001b[0m\u001b[1;33m]\u001b[0m\u001b[1;33m)\u001b[0m\u001b[1;33m\u001b[0m\u001b[1;33m\u001b[0m\u001b[0m\n\u001b[0;32m      3\u001b[0m \u001b[0mtestpad\u001b[0m \u001b[1;33m=\u001b[0m \u001b[0mpad_sequences\u001b[0m\u001b[1;33m(\u001b[0m\u001b[0mtestList\u001b[0m\u001b[1;33m)\u001b[0m\u001b[1;33m\u001b[0m\u001b[1;33m\u001b[0m\u001b[0m\n\u001b[1;32m----> 4\u001b[1;33m \u001b[0mcxx\u001b[0m \u001b[1;33m=\u001b[0m \u001b[0mmodel\u001b[0m\u001b[1;33m.\u001b[0m\u001b[0mpredict\u001b[0m\u001b[1;33m(\u001b[0m\u001b[0mtestpad\u001b[0m\u001b[1;33m)\u001b[0m\u001b[1;33m\u001b[0m\u001b[1;33m\u001b[0m\u001b[0m\n\u001b[0m\u001b[0;32m      5\u001b[0m \u001b[0mcxx\u001b[0m\u001b[1;33m\u001b[0m\u001b[1;33m\u001b[0m\u001b[0m\n",
      "\u001b[1;32m~\\miniconda3\\envs\\tensorflow\\lib\\site-packages\\tensorflow_core\\python\\keras\\engine\\training.py\u001b[0m in \u001b[0;36mpredict\u001b[1;34m(self, x, batch_size, verbose, steps, callbacks, max_queue_size, workers, use_multiprocessing)\u001b[0m\n\u001b[0;32m   1011\u001b[0m         \u001b[0mmax_queue_size\u001b[0m\u001b[1;33m=\u001b[0m\u001b[0mmax_queue_size\u001b[0m\u001b[1;33m,\u001b[0m\u001b[1;33m\u001b[0m\u001b[1;33m\u001b[0m\u001b[0m\n\u001b[0;32m   1012\u001b[0m         \u001b[0mworkers\u001b[0m\u001b[1;33m=\u001b[0m\u001b[0mworkers\u001b[0m\u001b[1;33m,\u001b[0m\u001b[1;33m\u001b[0m\u001b[1;33m\u001b[0m\u001b[0m\n\u001b[1;32m-> 1013\u001b[1;33m         use_multiprocessing=use_multiprocessing)\n\u001b[0m\u001b[0;32m   1014\u001b[0m \u001b[1;33m\u001b[0m\u001b[0m\n\u001b[0;32m   1015\u001b[0m   \u001b[1;32mdef\u001b[0m \u001b[0mreset_metrics\u001b[0m\u001b[1;33m(\u001b[0m\u001b[0mself\u001b[0m\u001b[1;33m)\u001b[0m\u001b[1;33m:\u001b[0m\u001b[1;33m\u001b[0m\u001b[1;33m\u001b[0m\u001b[0m\n",
      "\u001b[1;32m~\\miniconda3\\envs\\tensorflow\\lib\\site-packages\\tensorflow_core\\python\\keras\\engine\\training_v2.py\u001b[0m in \u001b[0;36mpredict\u001b[1;34m(self, model, x, batch_size, verbose, steps, callbacks, max_queue_size, workers, use_multiprocessing, **kwargs)\u001b[0m\n\u001b[0;32m    496\u001b[0m         \u001b[0mmodel\u001b[0m\u001b[1;33m,\u001b[0m \u001b[0mModeKeys\u001b[0m\u001b[1;33m.\u001b[0m\u001b[0mPREDICT\u001b[0m\u001b[1;33m,\u001b[0m \u001b[0mx\u001b[0m\u001b[1;33m=\u001b[0m\u001b[0mx\u001b[0m\u001b[1;33m,\u001b[0m \u001b[0mbatch_size\u001b[0m\u001b[1;33m=\u001b[0m\u001b[0mbatch_size\u001b[0m\u001b[1;33m,\u001b[0m \u001b[0mverbose\u001b[0m\u001b[1;33m=\u001b[0m\u001b[0mverbose\u001b[0m\u001b[1;33m,\u001b[0m\u001b[1;33m\u001b[0m\u001b[1;33m\u001b[0m\u001b[0m\n\u001b[0;32m    497\u001b[0m         \u001b[0msteps\u001b[0m\u001b[1;33m=\u001b[0m\u001b[0msteps\u001b[0m\u001b[1;33m,\u001b[0m \u001b[0mcallbacks\u001b[0m\u001b[1;33m=\u001b[0m\u001b[0mcallbacks\u001b[0m\u001b[1;33m,\u001b[0m \u001b[0mmax_queue_size\u001b[0m\u001b[1;33m=\u001b[0m\u001b[0mmax_queue_size\u001b[0m\u001b[1;33m,\u001b[0m\u001b[1;33m\u001b[0m\u001b[1;33m\u001b[0m\u001b[0m\n\u001b[1;32m--> 498\u001b[1;33m         workers=workers, use_multiprocessing=use_multiprocessing, **kwargs)\n\u001b[0m\u001b[0;32m    499\u001b[0m \u001b[1;33m\u001b[0m\u001b[0m\n\u001b[0;32m    500\u001b[0m \u001b[1;33m\u001b[0m\u001b[0m\n",
      "\u001b[1;32m~\\miniconda3\\envs\\tensorflow\\lib\\site-packages\\tensorflow_core\\python\\keras\\engine\\training_v2.py\u001b[0m in \u001b[0;36m_model_iteration\u001b[1;34m(self, model, mode, x, y, batch_size, verbose, sample_weight, steps, callbacks, max_queue_size, workers, use_multiprocessing, **kwargs)\u001b[0m\n\u001b[0;32m    424\u001b[0m           \u001b[0mmax_queue_size\u001b[0m\u001b[1;33m=\u001b[0m\u001b[0mmax_queue_size\u001b[0m\u001b[1;33m,\u001b[0m\u001b[1;33m\u001b[0m\u001b[1;33m\u001b[0m\u001b[0m\n\u001b[0;32m    425\u001b[0m           \u001b[0mworkers\u001b[0m\u001b[1;33m=\u001b[0m\u001b[0mworkers\u001b[0m\u001b[1;33m,\u001b[0m\u001b[1;33m\u001b[0m\u001b[1;33m\u001b[0m\u001b[0m\n\u001b[1;32m--> 426\u001b[1;33m           use_multiprocessing=use_multiprocessing)\n\u001b[0m\u001b[0;32m    427\u001b[0m       \u001b[0mtotal_samples\u001b[0m \u001b[1;33m=\u001b[0m \u001b[0m_get_total_number_of_samples\u001b[0m\u001b[1;33m(\u001b[0m\u001b[0madapter\u001b[0m\u001b[1;33m)\u001b[0m\u001b[1;33m\u001b[0m\u001b[1;33m\u001b[0m\u001b[0m\n\u001b[0;32m    428\u001b[0m       \u001b[0muse_sample\u001b[0m \u001b[1;33m=\u001b[0m \u001b[0mtotal_samples\u001b[0m \u001b[1;32mis\u001b[0m \u001b[1;32mnot\u001b[0m \u001b[1;32mNone\u001b[0m\u001b[1;33m\u001b[0m\u001b[1;33m\u001b[0m\u001b[0m\n",
      "\u001b[1;32m~\\miniconda3\\envs\\tensorflow\\lib\\site-packages\\tensorflow_core\\python\\keras\\engine\\training_v2.py\u001b[0m in \u001b[0;36m_process_inputs\u001b[1;34m(model, mode, x, y, batch_size, epochs, sample_weights, class_weights, shuffle, steps, distribution_strategy, max_queue_size, workers, use_multiprocessing)\u001b[0m\n\u001b[0;32m    644\u001b[0m     \u001b[0mstandardize_function\u001b[0m \u001b[1;33m=\u001b[0m \u001b[1;32mNone\u001b[0m\u001b[1;33m\u001b[0m\u001b[1;33m\u001b[0m\u001b[0m\n\u001b[0;32m    645\u001b[0m     x, y, sample_weights = standardize(\n\u001b[1;32m--> 646\u001b[1;33m         x, y, sample_weight=sample_weights)\n\u001b[0m\u001b[0;32m    647\u001b[0m   \u001b[1;32melif\u001b[0m \u001b[0madapter_cls\u001b[0m \u001b[1;32mis\u001b[0m \u001b[0mdata_adapter\u001b[0m\u001b[1;33m.\u001b[0m\u001b[0mListsOfScalarsDataAdapter\u001b[0m\u001b[1;33m:\u001b[0m\u001b[1;33m\u001b[0m\u001b[1;33m\u001b[0m\u001b[0m\n\u001b[0;32m    648\u001b[0m     \u001b[0mstandardize_function\u001b[0m \u001b[1;33m=\u001b[0m \u001b[0mstandardize\u001b[0m\u001b[1;33m\u001b[0m\u001b[1;33m\u001b[0m\u001b[0m\n",
      "\u001b[1;32m~\\miniconda3\\envs\\tensorflow\\lib\\site-packages\\tensorflow_core\\python\\keras\\engine\\training.py\u001b[0m in \u001b[0;36m_standardize_user_data\u001b[1;34m(self, x, y, sample_weight, class_weight, batch_size, check_steps, steps_name, steps, validation_split, shuffle, extract_tensors_from_dataset)\u001b[0m\n\u001b[0;32m   2381\u001b[0m         \u001b[0mis_dataset\u001b[0m\u001b[1;33m=\u001b[0m\u001b[0mis_dataset\u001b[0m\u001b[1;33m,\u001b[0m\u001b[1;33m\u001b[0m\u001b[1;33m\u001b[0m\u001b[0m\n\u001b[0;32m   2382\u001b[0m         \u001b[0mclass_weight\u001b[0m\u001b[1;33m=\u001b[0m\u001b[0mclass_weight\u001b[0m\u001b[1;33m,\u001b[0m\u001b[1;33m\u001b[0m\u001b[1;33m\u001b[0m\u001b[0m\n\u001b[1;32m-> 2383\u001b[1;33m         batch_size=batch_size)\n\u001b[0m\u001b[0;32m   2384\u001b[0m \u001b[1;33m\u001b[0m\u001b[0m\n\u001b[0;32m   2385\u001b[0m   def _standardize_tensors(self, x, y, sample_weight, run_eagerly, dict_inputs,\n",
      "\u001b[1;32m~\\miniconda3\\envs\\tensorflow\\lib\\site-packages\\tensorflow_core\\python\\keras\\engine\\training.py\u001b[0m in \u001b[0;36m_standardize_tensors\u001b[1;34m(self, x, y, sample_weight, run_eagerly, dict_inputs, is_dataset, class_weight, batch_size)\u001b[0m\n\u001b[0;32m   2408\u001b[0m           \u001b[0mfeed_input_shapes\u001b[0m\u001b[1;33m,\u001b[0m\u001b[1;33m\u001b[0m\u001b[1;33m\u001b[0m\u001b[0m\n\u001b[0;32m   2409\u001b[0m           \u001b[0mcheck_batch_axis\u001b[0m\u001b[1;33m=\u001b[0m\u001b[1;32mFalse\u001b[0m\u001b[1;33m,\u001b[0m  \u001b[1;31m# Don't enforce the batch size.\u001b[0m\u001b[1;33m\u001b[0m\u001b[1;33m\u001b[0m\u001b[0m\n\u001b[1;32m-> 2410\u001b[1;33m           exception_prefix='input')\n\u001b[0m\u001b[0;32m   2411\u001b[0m \u001b[1;33m\u001b[0m\u001b[0m\n\u001b[0;32m   2412\u001b[0m     \u001b[1;31m# Get typespecs for the input data and sanitize it if necessary.\u001b[0m\u001b[1;33m\u001b[0m\u001b[1;33m\u001b[0m\u001b[1;33m\u001b[0m\u001b[0m\n",
      "\u001b[1;32m~\\miniconda3\\envs\\tensorflow\\lib\\site-packages\\tensorflow_core\\python\\keras\\engine\\training_utils.py\u001b[0m in \u001b[0;36mstandardize_input_data\u001b[1;34m(data, names, shapes, check_batch_axis, exception_prefix)\u001b[0m\n\u001b[0;32m    580\u001b[0m                              \u001b[1;34m': expected '\u001b[0m \u001b[1;33m+\u001b[0m \u001b[0mnames\u001b[0m\u001b[1;33m[\u001b[0m\u001b[0mi\u001b[0m\u001b[1;33m]\u001b[0m \u001b[1;33m+\u001b[0m \u001b[1;34m' to have shape '\u001b[0m \u001b[1;33m+\u001b[0m\u001b[1;33m\u001b[0m\u001b[1;33m\u001b[0m\u001b[0m\n\u001b[0;32m    581\u001b[0m                              \u001b[0mstr\u001b[0m\u001b[1;33m(\u001b[0m\u001b[0mshape\u001b[0m\u001b[1;33m)\u001b[0m \u001b[1;33m+\u001b[0m \u001b[1;34m' but got array with shape '\u001b[0m \u001b[1;33m+\u001b[0m\u001b[1;33m\u001b[0m\u001b[1;33m\u001b[0m\u001b[0m\n\u001b[1;32m--> 582\u001b[1;33m                              str(data_shape))\n\u001b[0m\u001b[0;32m    583\u001b[0m   \u001b[1;32mreturn\u001b[0m \u001b[0mdata\u001b[0m\u001b[1;33m\u001b[0m\u001b[1;33m\u001b[0m\u001b[0m\n\u001b[0;32m    584\u001b[0m \u001b[1;33m\u001b[0m\u001b[0m\n",
      "\u001b[1;31mValueError\u001b[0m: Error when checking input: expected embedding_2_input to have shape (505,) but got array with shape (129,)"
     ]
    }
   ],
   "source": [
    "testpad = pad_sequences(test)\n",
    "cxx = model.predict(testpad)\n",
    "cxx"
   ]
  },
  {
   "cell_type": "code",
   "execution_count": null,
   "metadata": {},
   "outputs": [],
   "source": []
  }
 ],
 "metadata": {
  "kernelspec": {
   "display_name": "Python 3.6(tensorflow)",
   "language": "python",
   "name": "tensorflow"
  },
  "language_info": {
   "codemirror_mode": {
    "name": "ipython",
    "version": 3
   },
   "file_extension": ".py",
   "mimetype": "text/x-python",
   "name": "python",
   "nbconvert_exporter": "python",
   "pygments_lexer": "ipython3",
   "version": "3.7.7"
  }
 },
 "nbformat": 4,
 "nbformat_minor": 4
}
