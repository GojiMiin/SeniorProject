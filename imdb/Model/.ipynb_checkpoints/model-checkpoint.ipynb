{
 "cells": [
  {
   "cell_type": "code",
   "execution_count": 59,
   "metadata": {},
   "outputs": [
    {
     "name": "stdout",
     "output_type": "stream",
     "text": [
      "[[0. 0. 0. ... 0. 0. 0.]\n",
      " [0. 0. 0. ... 0. 0. 0.]\n",
      " [0. 0. 0. ... 0. 0. 0.]\n",
      " ...\n",
      " [0. 0. 0. ... 0. 0. 0.]\n",
      " [0. 0. 0. ... 0. 0. 0.]\n",
      " [0. 0. 0. ... 0. 0. 0.]]\n"
     ]
    }
   ],
   "source": [
    "import pandas as pd\n",
    "from sklearn.feature_extraction.text import TfidfVectorizer\n",
    "from sklearn.preprocessing import LabelEncoder\n",
    "from sklearn.model_selection import train_test_split\n",
    "\n",
    "tfidf_word_value = []\n",
    "X = []\n",
    "\n",
    "readIn = pd.read_csv(\"../Clean/lemma_result.csv\")\n",
    "\n",
    "X_temp = readIn.iloc[:500, :-1].values\n",
    "Y = readIn.iloc[:500, -1].values\n",
    "\n",
    "for sentence in X_temp:\n",
    "    X.append(sentence[0])\n",
    "\n",
    "#split data\n",
    "X_train, X_test, Y_train, Y_test = train_test_split(X, Y, test_size = 0.2, random_state = 1)\n",
    "\n",
    "# TF-IDF\n",
    "vectorizer = TfidfVectorizer()\n",
    "df_train = vectorizer.fit_transform(X_train).toarray()\n",
    "df_test = vectorizer.transform(X_test).toarray()\n",
    "print(df_train)"
   ]
  },
  {
   "cell_type": "code",
   "execution_count": null,
   "metadata": {},
   "outputs": [],
   "source": []
  },
  {
   "cell_type": "code",
   "execution_count": 7,
   "metadata": {},
   "outputs": [
    {
     "name": "stdout",
     "output_type": "stream",
     "text": [
      "477\n"
     ]
    }
   ],
   "source": [
    "print(len(vectorizer.vocabulary_))"
   ]
  },
  {
   "cell_type": "code",
   "execution_count": 44,
   "metadata": {},
   "outputs": [
    {
     "name": "stdout",
     "output_type": "stream",
     "text": [
      "Model: \"sequential_4\"\n",
      "_________________________________________________________________\n",
      "Layer (type)                 Output Shape              Param #   \n",
      "=================================================================\n",
      "embedding_3 (Embedding)      (None, 9218, 32)          294976    \n",
      "_________________________________________________________________\n",
      "spatial_dropout1d_3 (Spatial (None, 9218, 32)          0         \n",
      "_________________________________________________________________\n",
      "lstm_3 (LSTM)                (None, 50)                16600     \n",
      "_________________________________________________________________\n",
      "dropout_3 (Dropout)          (None, 50)                0         \n",
      "_________________________________________________________________\n",
      "dense_3 (Dense)              (None, 1)                 51        \n",
      "=================================================================\n",
      "Total params: 311,627\n",
      "Trainable params: 311,627\n",
      "Non-trainable params: 0\n",
      "_________________________________________________________________\n",
      "None\n"
     ]
    }
   ],
   "source": [
    "# Build the model\n",
    "from tensorflow.keras.models import Sequential\n",
    "from tensorflow.keras.layers import LSTM,Dense,Dropout\n",
    "from tensorflow.keras.layers import SpatialDropout1D\n",
    "from tensorflow.keras.layers import Embedding\n",
    "embedding_vector_length = 32\n",
    "vocab_size = len(vectorizer.vocabulary_)\n",
    "model = Sequential()\n",
    "model.add(Embedding(vocab_size, embedding_vector_length,     \n",
    "                                     input_length=vocab_size) )\n",
    "model.add(SpatialDropout1D(0.25))\n",
    "model.add(LSTM(50, dropout=0.5, recurrent_dropout=0.5))\n",
    "model.add(Dropout(0.2))\n",
    "model.add(Dense(1, activation='sigmoid'))\n",
    "model.compile(loss='binary_crossentropy',optimizer='adam', \n",
    "                           metrics=['accuracy'])\n",
    "print(model.summary())"
   ]
  },
  {
   "cell_type": "code",
   "execution_count": 45,
   "metadata": {},
   "outputs": [
    {
     "name": "stdout",
     "output_type": "stream",
     "text": [
      "Train on 320 samples, validate on 80 samples\n",
      "Epoch 1/5\n",
      "320/320 [==============================] - 224s 700ms/sample - loss: 0.6944 - accuracy: 0.4781 - val_loss: 0.6922 - val_accuracy: 0.5500\n",
      "Epoch 2/5\n",
      "320/320 [==============================] - 241s 754ms/sample - loss: 0.6948 - accuracy: 0.4781 - val_loss: 0.6918 - val_accuracy: 0.5500\n",
      "Epoch 3/5\n",
      "320/320 [==============================] - 224s 701ms/sample - loss: 0.6931 - accuracy: 0.5000 - val_loss: 0.6916 - val_accuracy: 0.5500\n",
      "Epoch 4/5\n",
      "320/320 [==============================] - 228s 712ms/sample - loss: 0.6934 - accuracy: 0.4938 - val_loss: 0.6912 - val_accuracy: 0.5500\n",
      "Epoch 5/5\n",
      "320/320 [==============================] - 227s 711ms/sample - loss: 0.6927 - accuracy: 0.5000 - val_loss: 0.6914 - val_accuracy: 0.5500\n"
     ]
    }
   ],
   "source": [
    "history = model.fit(df_train,Y_train,\n",
    "                  validation_split=0.2, epochs=5, batch_size=32)"
   ]
  },
  {
   "cell_type": "code",
   "execution_count": 61,
   "metadata": {},
   "outputs": [
    {
     "name": "stdout",
     "output_type": "stream",
     "text": [
      "Saved model to disk\n"
     ]
    }
   ],
   "source": [
    "from tensorflow.keras.models import model_from_yaml\n",
    "\n",
    "# serialize model to YAML\n",
    "model_yaml = model.to_yaml()\n",
    "with open(\"model.yaml\", \"w\") as yaml_file:\n",
    "    yaml_file.write(model_yaml)\n",
    "# serialize weights to HDF5\n",
    "model.save_weights(\"model.h5\")\n",
    "print(\"Saved model to disk\")"
   ]
  },
  {
   "cell_type": "code",
   "execution_count": null,
   "metadata": {},
   "outputs": [],
   "source": []
  }
 ],
 "metadata": {
  "kernelspec": {
   "display_name": "Python 3.6(tensorflow)",
   "language": "python",
   "name": "tensorflow"
  },
  "language_info": {
   "codemirror_mode": {
    "name": "ipython",
    "version": 3
   },
   "file_extension": ".py",
   "mimetype": "text/x-python",
   "name": "python",
   "nbconvert_exporter": "python",
   "pygments_lexer": "ipython3",
   "version": "3.7.7"
  }
 },
 "nbformat": 4,
 "nbformat_minor": 4
}
