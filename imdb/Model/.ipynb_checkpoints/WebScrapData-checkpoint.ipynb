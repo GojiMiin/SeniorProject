{
 "cells": [
  {
   "cell_type": "code",
   "execution_count": 14,
   "metadata": {},
   "outputs": [],
   "source": [
    "import pandas as pd\n",
    "import numpy as np\n",
    "import string, re\n",
    "import itertools\n",
    "import nltk\n",
    "import plotly.offline as py\n",
    "import plotly.graph_objs as go\n",
    "import matplotlib.pyplot as plt\n",
    "import seaborn as sns\n",
    "from sklearn.model_selection import train_test_split\n",
    "from sklearn.metrics import confusion_matrix\n",
    "from sklearn.feature_extraction.text import TfidfVectorizer\n",
    "from sklearn.naive_bayes import MultinomialNB\n",
    "from sklearn.metrics import accuracy_score\n",
    "from tensorflow.keras.preprocessing.text import Tokenizer\n",
    "from tensorflow.keras.preprocessing.sequence import pad_sequences\n",
    "from tensorflow.keras.models import Sequential\n",
    "from tensorflow.keras.layers import Dense, Embedding, LSTM\n",
    "from tensorflow.keras.callbacks import EarlyStopping\n",
    "from sklearn.preprocessing import LabelEncoder\n",
    "from nltk.tokenize import RegexpTokenizer\n",
    "from nltk.corpus import stopwords\n",
    "from nltk.stem import WordNetLemmatizer\n",
    "from nltk.stem import WordNetLemmatizer\n",
    "from tensorflow.keras.models import model_from_yaml"
   ]
  },
  {
   "cell_type": "code",
   "execution_count": 4,
   "metadata": {},
   "outputs": [],
   "source": [
    "def loadModel(yamlPathName, h5PathName):\n",
    "    with open(yamlPathName+'.yaml', 'r') as yaml_file:\n",
    "        print(yamlPathName)\n",
    "        loaded_model_yaml = yaml_file.read()\n",
    "        loaded_model = model_from_yaml(loaded_model_yaml)\n",
    "        loaded_model.load_weights(h5PathName+'.h5')\n",
    "    loaded_model.compile(loss = 'binary_crossentropy', optimizer='adam',metrics = ['accuracy'])\n",
    "    return loaded_model"
   ]
  },
  {
   "cell_type": "code",
   "execution_count": 5,
   "metadata": {
    "scrolled": false
   },
   "outputs": [
    {
     "data": {
      "text/html": [
       "<div>\n",
       "<style scoped>\n",
       "    .dataframe tbody tr th:only-of-type {\n",
       "        vertical-align: middle;\n",
       "    }\n",
       "\n",
       "    .dataframe tbody tr th {\n",
       "        vertical-align: top;\n",
       "    }\n",
       "\n",
       "    .dataframe thead th {\n",
       "        text-align: right;\n",
       "    }\n",
       "</style>\n",
       "<table border=\"1\" class=\"dataframe\">\n",
       "  <thead>\n",
       "    <tr style=\"text-align: right;\">\n",
       "      <th></th>\n",
       "      <th>Full Review</th>\n",
       "    </tr>\n",
       "  </thead>\n",
       "  <tbody>\n",
       "    <tr>\n",
       "      <th>0</th>\n",
       "      <td>Brilliant cinematography, real planes flying, ...</td>\n",
       "    </tr>\n",
       "    <tr>\n",
       "      <th>1</th>\n",
       "      <td>Dunkirk is, in my opinion, yet another masterp...</td>\n",
       "    </tr>\n",
       "    <tr>\n",
       "      <th>2</th>\n",
       "      <td>This film shows that Christopher Nolan does no...</td>\n",
       "    </tr>\n",
       "    <tr>\n",
       "      <th>3</th>\n",
       "      <td>Might as well get right to it, then. At the ri...</td>\n",
       "    </tr>\n",
       "    <tr>\n",
       "      <th>4</th>\n",
       "      <td>This movie is so paper thin I really can't wri...</td>\n",
       "    </tr>\n",
       "    <tr>\n",
       "      <th>5</th>\n",
       "      <td>Saw an early screening tonight in Denver.\\n\\nI...</td>\n",
       "    </tr>\n",
       "    <tr>\n",
       "      <th>6</th>\n",
       "      <td>If you read through the swarm of negative revi...</td>\n",
       "    </tr>\n",
       "  </tbody>\n",
       "</table>\n",
       "</div>"
      ],
      "text/plain": [
       "                                         Full Review\n",
       "0  Brilliant cinematography, real planes flying, ...\n",
       "1  Dunkirk is, in my opinion, yet another masterp...\n",
       "2  This film shows that Christopher Nolan does no...\n",
       "3  Might as well get right to it, then. At the ri...\n",
       "4  This movie is so paper thin I really can't wri...\n",
       "5  Saw an early screening tonight in Denver.\\n\\nI...\n",
       "6  If you read through the swarm of negative revi..."
      ]
     },
     "execution_count": 5,
     "metadata": {},
     "output_type": "execute_result"
    }
   ],
   "source": [
    "imdb = pd.read_csv('../Clean/oneMovieReview.csv',\n",
    "                   encoding = \"ISO-8859-1\")\n",
    "\n",
    "imdb"
   ]
  },
  {
   "cell_type": "code",
   "execution_count": 6,
   "metadata": {},
   "outputs": [
    {
     "data": {
      "text/plain": [
       "0    Brilliant cinematography, real planes flying, ...\n",
       "1    Dunkirk is, in my opinion, yet another masterp...\n",
       "2    This film shows that Christopher Nolan does no...\n",
       "3    Might as well get right to it, then. At the ri...\n",
       "4    This movie is so paper thin I really can't wri...\n",
       "5    Saw an early screening tonight in Denver.\\n\\nI...\n",
       "6    If you read through the swarm of negative revi...\n",
       "Name: Full Review, dtype: object"
      ]
     },
     "execution_count": 6,
     "metadata": {},
     "output_type": "execute_result"
    }
   ],
   "source": [
    "review = imdb.iloc[:,-1]\n",
    "\n",
    "review"
   ]
  },
  {
   "cell_type": "markdown",
   "metadata": {},
   "source": [
    "Clean Data"
   ]
  },
  {
   "cell_type": "code",
   "execution_count": 7,
   "metadata": {},
   "outputs": [],
   "source": [
    "reSentence = []\n",
    "wordnet_lemmatizer = WordNetLemmatizer()"
   ]
  },
  {
   "cell_type": "code",
   "execution_count": 8,
   "metadata": {},
   "outputs": [],
   "source": [
    "# lowercase & remove html tag -----------\n",
    "for sentence in review:\n",
    "    lower_sentence = sentence.lower()\n",
    "    clean = re.compile('<.*?>')\n",
    "    sentence_no_tag = re.sub(clean, '', lower_sentence)\n",
    "\n",
    "# tokenization and clean word -----------\n",
    "    cleaned = []\n",
    "    tokenizer = RegexpTokenizer(r'\\w+')\n",
    "    token_sentence = tokenizer.tokenize(sentence_no_tag)\n",
    "    for w in token_sentence:\n",
    "        if not w in stopwords.words('English'):  # delete stopwords\n",
    "            cleaned.append(w)\n",
    "\n",
    "# lemma ---------------\n",
    "    lemma_word_cleaned = []\n",
    "    for word in cleaned:\n",
    "        lemma_word_cleaned.append(wordnet_lemmatizer.lemmatize(word, pos=\"v\"))\n",
    "\n",
    "    lemma_sentence_cleaned = \" \".join(lemma_word_cleaned)\n",
    "    reSentence.append(lemma_sentence_cleaned)\n"
   ]
  },
  {
   "cell_type": "code",
   "execution_count": 9,
   "metadata": {},
   "outputs": [
    {
     "data": {
      "text/plain": [
       "{'cleaned_review': ['brilliant cinematography real plan fly real destruction plan real possible always great film one nolan best quality director want real things happen camera course hans zimmer original score also brilliant non linear narrative intelligent mole sequence fell longer good way character spend 1 week sea sequence little bite faster character spend 1 day air sequence even faster character spend 1hour 3 get together climax least non linear storytelling get little messy sequence third act put best way whole movie extremely well make technical stand point write full suspense amaze original score hans zimmer lot people realize care negative point like say scenes fit well non linear agitation film especially last half hour non linear movie bad like say qualities film go ruin experience watch film also make remember act necessarily bad thing people also say character kinda weak actually true sure strong like character save private ryan example strong film focus much film interest happen dunkirk particular time world war ii say mark rylance really good movie best line cillian murphy also good',\n",
       "  'dunkirk opinion yet another masterpiece mastermind christopher nolan since everything brilliant film already say briefly write think film also touch topic people criticize movie fantastically direct film tell 3 perspectives non chronologically superbly tackle narrative non linear story pull away intensity events happen screen stop 00 00 last scene hans zimmer likely give one fit score war film ever sometimes one note play follow heartbeat sound tick clock time massive orchestra interpret go screen movie brilliantly project feel every soldier beach audience confusion turmoil fear cinematography breathtaking felt anxious throughout run time lead film really say anyone stick give brilliant performance need explain biggest criticisms dunkirk hear far character lack depth give anything invest feel like nolan try successfully make audience care every one men beach need form main character story see events unfold direct perspective soldier usually war film use save private ryan example plot revolve around certain soldier like cpt miller ryan war things war still war much opinion dunkirk tell story dunkirk harry style character tom hardy character dunkirk main character felt every soldier felt nolan resort film make techniques tell story rather dialogue people might problem lack character depth realistically type terrible event place someone develop character rather event men want survival nolan show perfectly top review dunkirk imdb say lack emotion film believe completely incorrect statement maybe refer lack brotherhood amongst men feel moral something epic like long save private ryan format war film reviewer fail see realistically emotion beach besides fear confusion safely say nolan zimmer dp successfully give us feel 9 5 10',\n",
       "  'film show christopher nolan depend crazy action crazy plot twist show 3 separate stories come together tell us good story',\n",
       "  'might well get right risk sound like contrarian love film love elements yes 5 star masterpiece unfortunately cinematography least masterful director christopher nolan without doubt reach pinnacle screen spectacle feats practical effect film breathtaking cast nearly 6 000 extras authentic wwii vehicles shoot location dunkirk france contribute great sense scale ongoing trend action film recent years rely cgi thankfully nolan buck trend similar war planet ape much film play without much dialogue lean score sound design scenes almost go without say hans zimmer deliver another incredible score sound design also extremely well craft pair nolan great work behind camera truly transport battle dunkirk wail plan pass drone gunfire roar explosions contribute complete immersion world character trap result immersive wartime action scenes since save private ryan film continue compare world war ii classic save private ryan film beautifully film wwii period piece cast deliver great performances similarities end whereas save private ryan engross narrative due character depth arc dunkirk instead lean subject matter spectacle subject matter dunkirk fascinate film lack emotional firepower due absence strongly write protagonist strangely uncharacteristic director nolan caliber especially recall complex character work acclaim film dark knight memento prestige instead focus single character single group character focus spread across three protagonists completely different situations show dunkirk evacuation three different perspectives beach sea air interest proposition paper narrative due write choice spread far thin character get enough screen time develop even mildest emotional connection character film write even remotely compel great work cast overlook harry style know member english boy band one direction surprisingly excellent act debut mark rylance kenneth branagh fionn whitehead also give standout performances despite limit screen time give love film historical drama wwii set favorite director christopher nolan amaze cinematography superb performances ensemble cast elements make sure would love go dunkirk lack emotional connection severely detract awe inspire scope technical prowess display review base visuals alone slam dunk walk home run 5 star film focus grandeur situation character depth emotion may work obviously work 98 critics rotten tomatoes work critic without doubt cinematic achievement without emotional core impossible film feel cold empty despite technical masterpiece christopher nolan disappoint film yet',\n",
       "  'movie paper thin really write much many miss opportunities film one spectacular complex battle wwii see nolan try kind british thin red line even wind grass lol kid fail spectacularly memorable character find one wonder even actual character one one semblance character arc one see nolan try convey impersonality war insignificance individual heavy clumsy hand provide us counterpoint drive point home basic screen write stuff really expect ineptitude first year film student suppose master craft anyways could forgivable film event fail watch film give believe battle dunkirk fight three spitfires 100 lose beeches alone 1 german heinkel couple stukas 2 destroyers dozen boat oh yes maybe hundred men stand quietly beach nothing except desperately try look morose deject faintly passive aggressive way ridiculous talk total absolute chaos happen hundreds thousands rifle alone discard beach mention gun artillery truck burn sink ship size across horizon part beach inaccessible rot corpses wash tide actually way bigger day land term men equipment stuff small patch land half million desperate men stuff small town bombard incessantly constant attack bombers people defecate eat ffs want know really least would give much need humanity call character nolan keep yank around like much puppets many miss opportunities nolan want tight little film isolation desperation loose side war plenty place battle choose ask around simply insist dunkirk see total chaos around protagonists background least would serve really powerful desperately need counterpoint individual suffer heroism bring final point movie one tone monotone repetition sight emotions see experience one crack joke one really break one embarrass moment up down morose faceless robots perform obvious action lead towards bleedingly obvious goal one single emotional narrative tone begin end entire emotional narrative content movie would fit snugly 20 minute short pretty much long take start yawn best thing say movie individual scenes well direct worth experience real problem film construct series impressive experience rather cohesive piece drama particular historical event almost uniquely stuff dramatic opportunities almost golden age hollywood writers write script actual event word dunkirk theme park rather movie take rid even become repetitive',\n",
       "  'saw early screen tonight denver know begin start weakest link act still great passable actor could give major roles do great job know almost battle dunkirk see film exactly wwii historian truth tell learn know battle dunkirk movie poster weaken film hell film survival open scene tell set stage get first glimpse young soldier need stay alive creative attempt actor may even consider main character film word write far review speak clue actor role humorous tom hardy look like bane film role pilot wear oxygen mask throughout kenneth branagh officer line film give idea pov experience enlist man try find way stay alive chaotic harrow battle though believe dunkirk win every single technical oscar would surprise act nominations nolan elevate film similar nature think say best describe dunkirk thriller war film pull superbly ship start take water numerous bullets penetrate hull want jump seat cover hole film three separate stories title mole sea air know moles live way narratives three stories unfold tie together make film masterpiece much say nolan use imax film cameras film enrich know doubt saw actual film project screen every frame look terrific though superlative aspect film gotta soundtrack hans zimmer win oscar without doubt brilliant soundtrack would buy store play stereo soundtrack weave throughout three narratives seamlessly create phenomenal sense tension time two three minute tense orchestral passage play continuously story shift grind sea air music draw three stories together zimmer soundtrack remind way bernard hermann work vitally important build suspense hitchcock film though description almost sell zimmer short soundtrack good think film retain even half strength home theater folks film cough overprice imax ticket rationalize know experience dunkirk fashion cut',\n",
       "  'read swarm negative review might notice common theme bore dull lack character incredibly disappoint seem miss entire point film film heroic soldier triumph odds blow nazis transformer esque explosions movie scenes character every scene memorable bomb torpedo aerial dogfight co worker obsess ww2 plan note incredibly perfect get british supermarine spitfire roar roll royce engine rattle components cabin accuracy intensity dogfight capture perfectly well mimic aerial maneuver firepower damage realistic dramatic fashion torpedo notice moments impact slow monotonous movement send chill realization spine even begin film way nazi leaflets present give glimpse panic anxiety felt soldier felt lack character realistic serve film well war larger life personalities specialize weapons bad asses nameless faceless soldier face existential crisis possibility randomize death either respond despair hope want character root happy end bad guy vanquish plenty movies want small glimpse despair anxiety hope courage british ww2 fighters better film ever make one']}"
      ]
     },
     "execution_count": 9,
     "metadata": {},
     "output_type": "execute_result"
    }
   ],
   "source": [
    "data = {'cleaned_review': reSentence}\n",
    "data"
   ]
  },
  {
   "cell_type": "code",
   "execution_count": 10,
   "metadata": {},
   "outputs": [],
   "source": [
    "toFile = pd.DataFrame(data)\n",
    "toFile.to_csv(\"./lemmaOneMovieReview.csv\", index=False)"
   ]
  },
  {
   "cell_type": "markdown",
   "metadata": {},
   "source": [
    "Pass review to model"
   ]
  },
  {
   "cell_type": "code",
   "execution_count": 11,
   "metadata": {},
   "outputs": [],
   "source": [
    "# Keras\n",
    "from tensorflow.keras.preprocessing.text import Tokenizer\n",
    "from tensorflow.keras.preprocessing.sequence import pad_sequences\n",
    "from tensorflow.keras.models import Sequential\n",
    "from tensorflow.keras.layers import Dense, Flatten, LSTM, Conv1D, MaxPooling1D, Dropout, Activation, Embedding, GRU\n",
    "\n",
    "# Other\n",
    "import re\n",
    "import string\n",
    "import numpy as np\n",
    "import pandas as pd\n"
   ]
  },
  {
   "cell_type": "code",
   "execution_count": 12,
   "metadata": {},
   "outputs": [],
   "source": [
    "vocabulary_size = 10000\n",
    "\n",
    "tokenizer = Tokenizer(num_words= vocabulary_size)\n",
    "tokenizer.fit_on_texts(data['cleaned_review'])\n",
    "\n",
    "sequences = tokenizer.texts_to_sequences(data['cleaned_review'])\n",
    "padReview = pad_sequences(sequences, maxlen=853)"
   ]
  },
  {
   "cell_type": "code",
   "execution_count": 15,
   "metadata": {},
   "outputs": [
    {
     "name": "stdout",
     "output_type": "stream",
     "text": [
      "./glove_GRU/Summary\n"
     ]
    },
    {
     "name": "stderr",
     "output_type": "stream",
     "text": [
      "C:\\Users\\gotj\\miniconda3\\envs\\tensorflow\\lib\\site-packages\\tensorflow_core\\python\\keras\\saving\\model_config.py:76: YAMLLoadWarning:\n",
      "\n",
      "calling yaml.load() without Loader=... is deprecated, as the default Loader is unsafe. Please read https://msg.pyyaml.org/load for full details.\n",
      "\n"
     ]
    }
   ],
   "source": [
    "model = loadModel('./glove_GRU/Summary','./glove_GRU/Weights')"
   ]
  },
  {
   "cell_type": "code",
   "execution_count": 16,
   "metadata": {},
   "outputs": [],
   "source": [
    "result = model.predict(padReview)"
   ]
  },
  {
   "cell_type": "code",
   "execution_count": 17,
   "metadata": {},
   "outputs": [
    {
     "data": {
      "text/plain": [
       "array([[0.99768853],\n",
       "       [0.44742322],\n",
       "       [0.9965148 ],\n",
       "       [0.9866477 ],\n",
       "       [0.9573974 ],\n",
       "       [0.44680855],\n",
       "       [0.79142964]], dtype=float32)"
      ]
     },
     "execution_count": 17,
     "metadata": {},
     "output_type": "execute_result"
    }
   ],
   "source": [
    "result"
   ]
  },
  {
   "cell_type": "code",
   "execution_count": null,
   "metadata": {},
   "outputs": [],
   "source": []
  }
 ],
 "metadata": {
  "kernelspec": {
   "display_name": "Python 3.7 (tensorflow)",
   "language": "python",
   "name": "tensorflow"
  },
  "language_info": {
   "codemirror_mode": {
    "name": "ipython",
    "version": 3
   },
   "file_extension": ".py",
   "mimetype": "text/x-python",
   "name": "python",
   "nbconvert_exporter": "python",
   "pygments_lexer": "ipython3",
   "version": "3.7.9"
  }
 },
 "nbformat": 4,
 "nbformat_minor": 4
}
