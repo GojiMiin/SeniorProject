{
 "cells": [
  {
   "cell_type": "code",
   "execution_count": 1,
   "metadata": {},
   "outputs": [],
   "source": [
    "import pandas as pd\n",
    "import numpy as np\n",
    "import tensorflow as tf\n",
    "import tensorflow_hub as hub\n",
    "from tensorflow.keras.layers import Dense, Embedding, LSTM, GRU, SimpleRNN, Dropout\n",
    "from sklearn.model_selection import train_test_split"
   ]
  },
  {
   "cell_type": "code",
   "execution_count": 2,
   "metadata": {},
   "outputs": [],
   "source": [
    "pretrained_model = \"https://tfhub.dev/google/tf2-preview/gnews-swivel-20dim/1\"\n",
    "hub_layer = hub.KerasLayer(pretrained_model, input_shape=[], dtype=tf.string, trainable=True)"
   ]
  },
  {
   "cell_type": "code",
   "execution_count": 3,
   "metadata": {},
   "outputs": [
    {
     "data": {
      "text/plain": [
       "<tf.Tensor: shape=(1, 20), dtype=float32, numpy=\n",
       "array([[ 1.2917835 ,  0.6960632 ,  0.04837722,  0.7461801 , -0.20820257,\n",
       "        -0.12027001, -0.7988958 ,  0.84001   , -0.02885479, -0.83123875,\n",
       "        -1.4375954 ,  1.1317196 , -0.5531615 , -0.45697683, -0.9780804 ,\n",
       "         1.0363967 , -0.2558647 ,  0.24833947, -1.6134161 , -0.55305725]],\n",
       "      dtype=float32)>"
      ]
     },
     "execution_count": 3,
     "metadata": {},
     "output_type": "execute_result"
    }
   ],
   "source": [
    "embed = hub.load(\"https://tfhub.dev/google/tf2-preview/gnews-swivel-20dim/1\")\n",
    "embeddings = embed([\"cat is on the mat dog is in the fog\"])\n",
    "\n",
    "embeddings"
   ]
  },
  {
   "cell_type": "code",
   "execution_count": 4,
   "metadata": {},
   "outputs": [],
   "source": [
    "path = \"../Clean/lemma_allresult.csv\"\n",
    "dataset = pd.read_csv(path)"
   ]
  },
  {
   "cell_type": "code",
   "execution_count": 5,
   "metadata": {},
   "outputs": [],
   "source": [
    "feat = dataset.iloc[:,0]\n",
    "target = dataset.iloc[:,1]"
   ]
  },
  {
   "cell_type": "code",
   "execution_count": 6,
   "metadata": {},
   "outputs": [],
   "source": [
    "X_train, X_test, Y_train, Y_test = train_test_split(feat,target, test_size = 0.2, train_size = 0.8, random_state = 42)"
   ]
  },
  {
   "cell_type": "code",
   "execution_count": 7,
   "metadata": {
    "scrolled": true
   },
   "outputs": [
    {
     "name": "stdout",
     "output_type": "stream",
     "text": [
      "Model: \"sequential\"\n",
      "_________________________________________________________________\n",
      "Layer (type)                 Output Shape              Param #   \n",
      "=================================================================\n",
      "keras_layer (KerasLayer)     (None, 20)                400020    \n",
      "_________________________________________________________________\n",
      "reshape (Reshape)            (None, 20, 1)             0         \n",
      "_________________________________________________________________\n",
      "simple_rnn (SimpleRNN)       (None, 32)                1088      \n",
      "_________________________________________________________________\n",
      "dense (Dense)                (None, 16)                528       \n",
      "_________________________________________________________________\n",
      "dropout (Dropout)            (None, 16)                0         \n",
      "_________________________________________________________________\n",
      "dense_1 (Dense)              (None, 1)                 17        \n",
      "=================================================================\n",
      "Total params: 401,653\n",
      "Trainable params: 401,653\n",
      "Non-trainable params: 0\n",
      "_________________________________________________________________\n"
     ]
    }
   ],
   "source": [
    "model = tf.keras.Sequential()\n",
    "model.add(hub_layer)\n",
    "model.add(tf.keras.layers.Reshape((20, 1), input_shape=(20,)))\n",
    "model.add(tf.keras.layers.SimpleRNN(32))\n",
    "model.add(tf.keras.layers.Dense(16,activation=\"relu\"))\n",
    "model.add(Dropout(0.5))\n",
    "model.add(tf.keras.layers.Dense(1,activation=\"sigmoid\"))\n",
    "model.summary()"
   ]
  },
  {
   "cell_type": "code",
   "execution_count": 8,
   "metadata": {},
   "outputs": [],
   "source": [
    "model.compile(optimizer='adam',\n",
    "              loss='binary_crossentropy',\n",
    "              metrics=['accuracy'])"
   ]
  },
  {
   "cell_type": "code",
   "execution_count": 9,
   "metadata": {},
   "outputs": [
    {
     "name": "stdout",
     "output_type": "stream",
     "text": [
      "Train on 6400 samples, validate on 1600 samples\n",
      "Epoch 1/10\n",
      "6400/6400 [==============================] - 6s 963us/sample - loss: 0.6230 - accuracy: 0.6491 - val_loss: 0.5431 - val_accuracy: 0.7269\n",
      "Epoch 2/10\n",
      "6400/6400 [==============================] - 4s 633us/sample - loss: 0.5130 - accuracy: 0.7539 - val_loss: 0.4565 - val_accuracy: 0.7881\n",
      "Epoch 3/10\n",
      "6400/6400 [==============================] - 4s 621us/sample - loss: 0.4188 - accuracy: 0.8233 - val_loss: 0.4215 - val_accuracy: 0.7994\n",
      "Epoch 4/10\n",
      "6400/6400 [==============================] - 4s 630us/sample - loss: 0.3311 - accuracy: 0.8736 - val_loss: 0.3915 - val_accuracy: 0.8256\n",
      "Epoch 5/10\n",
      "6400/6400 [==============================] - 4s 634us/sample - loss: 0.2637 - accuracy: 0.9073 - val_loss: 0.3612 - val_accuracy: 0.8450\n",
      "Epoch 6/10\n",
      "6400/6400 [==============================] - 4s 618us/sample - loss: 0.2174 - accuracy: 0.9294 - val_loss: 0.3929 - val_accuracy: 0.8444\n",
      "Epoch 7/10\n",
      "6400/6400 [==============================] - 4s 614us/sample - loss: 0.1790 - accuracy: 0.9500 - val_loss: 0.4287 - val_accuracy: 0.8506\n",
      "Epoch 8/10\n",
      "6400/6400 [==============================] - 4s 614us/sample - loss: 0.1454 - accuracy: 0.9608 - val_loss: 0.4556 - val_accuracy: 0.8456\n",
      "Epoch 9/10\n",
      "6400/6400 [==============================] - 4s 613us/sample - loss: 0.1190 - accuracy: 0.9706 - val_loss: 0.5062 - val_accuracy: 0.8425\n",
      "Epoch 10/10\n",
      "6400/6400 [==============================] - 4s 621us/sample - loss: 0.1048 - accuracy: 0.9752 - val_loss: 0.5313 - val_accuracy: 0.8450\n"
     ]
    },
    {
     "data": {
      "text/plain": [
       "<tensorflow.python.keras.callbacks.History at 0x16478acf488>"
      ]
     },
     "execution_count": 9,
     "metadata": {},
     "output_type": "execute_result"
    }
   ],
   "source": [
    "model.fit(X_train,\n",
    "          Y_train,\n",
    "         epochs=10,\n",
    "         validation_split=0.2,\n",
    "         verbose=1)"
   ]
  },
  {
   "cell_type": "code",
   "execution_count": 10,
   "metadata": {},
   "outputs": [
    {
     "name": "stdout",
     "output_type": "stream",
     "text": [
      "2000/2000 [==============================] - 1s 374us/sample - loss: 0.5492 - accuracy: 0.8430\n"
     ]
    }
   ],
   "source": [
    "score,acc = model.evaluate(X_test, Y_test, verbose = 1, batch_size = 32)"
   ]
  },
  {
   "cell_type": "code",
   "execution_count": 11,
   "metadata": {},
   "outputs": [
    {
     "data": {
      "text/plain": [
       "array([[0.00210623],\n",
       "       [0.01230465],\n",
       "       [0.00066478],\n",
       "       ...,\n",
       "       [0.99908733],\n",
       "       [0.00082071],\n",
       "       [0.8957933 ]], dtype=float32)"
      ]
     },
     "execution_count": 11,
     "metadata": {},
     "output_type": "execute_result"
    }
   ],
   "source": [
    "np.set_printoptions(suppress=True)\n",
    "result = model.predict(X_test)\n",
    "\n",
    "result"
   ]
  },
  {
   "cell_type": "code",
   "execution_count": 12,
   "metadata": {},
   "outputs": [
    {
     "data": {
      "text/plain": [
       "array([[837, 159],\n",
       "       [155, 849]], dtype=int64)"
      ]
     },
     "execution_count": 12,
     "metadata": {},
     "output_type": "execute_result"
    }
   ],
   "source": [
    "from sklearn.metrics import confusion_matrix\n",
    "cm = confusion_matrix(y_true=Y_test , y_pred=result>0.5)\n",
    "\n",
    "cm"
   ]
  },
  {
   "cell_type": "code",
   "execution_count": null,
   "metadata": {},
   "outputs": [],
   "source": []
  }
 ],
 "metadata": {
  "kernelspec": {
   "display_name": "Python 3.6(tensorflow)",
   "language": "python",
   "name": "tensorflow"
  },
  "language_info": {
   "codemirror_mode": {
    "name": "ipython",
    "version": 3
   },
   "file_extension": ".py",
   "mimetype": "text/x-python",
   "name": "python",
   "nbconvert_exporter": "python",
   "pygments_lexer": "ipython3",
   "version": "3.7.7"
  }
 },
 "nbformat": 4,
 "nbformat_minor": 4
}
