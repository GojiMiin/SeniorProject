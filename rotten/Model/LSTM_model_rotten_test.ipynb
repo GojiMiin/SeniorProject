{
 "cells": [
  {
   "cell_type": "code",
   "execution_count": 1,
   "metadata": {},
   "outputs": [],
   "source": [
    "import pandas as pd\n",
    "import yaml\n",
    "import random\n",
    "import re\n",
    "import matplotlib.pyplot as plt\n",
    "import numpy as np\n",
    "from sklearn.feature_extraction.text import CountVectorizer\n",
    "from tensorflow.keras.layers import LayerNormalization,BatchNormalization\n",
    "from tensorflow.keras.preprocessing.text import Tokenizer\n",
    "from tensorflow.keras.preprocessing.sequence import pad_sequences\n",
    "from tensorflow.keras.models import Sequential\n",
    "from tensorflow.keras.layers import Dense, Embedding, LSTM, GRU, Dropout, Conv1D, MaxPooling1D\n",
    "from tensorflow.keras.models import model_from_yaml\n",
    "from sklearn.model_selection import train_test_split\n",
    "from sklearn.metrics import confusion_matrix\n",
    "from tensorflow.keras.callbacks import EarlyStopping\n",
    "\n",
    "np.set_printoptions(suppress=True)"
   ]
  },
  {
   "cell_type": "code",
   "execution_count": 2,
   "metadata": {},
   "outputs": [],
   "source": [
    "def readFile(filePath):\n",
    "    lemma_result = pd.read_csv(filePath)\n",
    "    print(lemma_result.shape)\n",
    "    return lemma_result"
   ]
  },
  {
   "cell_type": "code",
   "execution_count": 3,
   "metadata": {},
   "outputs": [],
   "source": [
    "def checkLength(max_feat, file):\n",
    "    leng = 0\n",
    "    sentence = []\n",
    "    allData = file['cleaned_review']\n",
    "\n",
    "    max_fatures = max_feat\n",
    "    tokenizer = Tokenizer(num_words=max_fatures, split=' ') \n",
    "    tokenizer.fit_on_texts(allData.values)\n",
    "    X1 = tokenizer.texts_to_sequences(allData.values)\n",
    "    \n",
    "    for i in X1:\n",
    "        if len(i)>leng:\n",
    "            leng = len(i)\n",
    "            sentence = i\n",
    "    print(leng)\n",
    "    print(sentence)\n",
    "    return leng"
   ]
  },
  {
   "cell_type": "code",
   "execution_count": 4,
   "metadata": {},
   "outputs": [],
   "source": [
    "def beforeCreateModel(max_feat,dataset,max_length):\n",
    "    max_fatures = max_feat #จำนวนคำที่ใช้ใน model\n",
    "    tokenizer = Tokenizer(num_words=max_fatures, split=' ') \n",
    "    tokenizer.fit_on_texts(dataset['cleaned_review'].values)\n",
    "    X1 = tokenizer.texts_to_sequences(dataset['cleaned_review'].values)\n",
    "    print(len(tokenizer.word_index))\n",
    "    feat = pad_sequences(X1, padding='pre',maxlen=max_length) # 505 = max_length in sentence\n",
    "    target = dataset['Label'].values\n",
    "\n",
    "    return feat,target,tokenizer"
   ]
  },
  {
   "cell_type": "code",
   "execution_count": 5,
   "metadata": {},
   "outputs": [],
   "source": [
    "def createModelLSTM(embed_dim,lstm_out,max_feat,input_length):\n",
    "    embed_dim = embed_dim\n",
    "    lstm_out = lstm_out\n",
    "    model = Sequential() #Create Model\n",
    "    model.add(Embedding(input_dim = max_feat ,output_dim = embed_dim ,input_length = input_length)) #Input Layer\n",
    "    model.add(LSTM(lstm_out, dropout=0.5)) #1st hidden Layer\n",
    "    model.add(Dropout(0.5))\n",
    "    model.add(Dense(10,activation='sigmoid'))\n",
    "    model.add(Dense(1,activation='sigmoid')) # Output Layer\n",
    "    model.compile(loss = 'binary_crossentropy', optimizer='adam',metrics = ['accuracy'])\n",
    "    print(model.summary())\n",
    "    return model"
   ]
  },
  {
   "cell_type": "code",
   "execution_count": 6,
   "metadata": {},
   "outputs": [],
   "source": [
    "def trainModel(model,feat,target,validation_split,epochs,batch_size):\n",
    "    random.seed(10)\n",
    "    history = model.fit(feat, target,validation_split=validation_split, epochs = epochs, batch_size=batch_size)\n",
    "    return history"
   ]
  },
  {
   "cell_type": "code",
   "execution_count": 7,
   "metadata": {},
   "outputs": [],
   "source": [
    "def evaluateModel(model,feat,target,batch_size):\n",
    "    score,acc = model.evaluate(feat, target, verbose = 2, batch_size = batch_size)\n",
    "    print(\"score: %.2f\" % (score))\n",
    "    print(\"acc: %.2f\" % (acc))"
   ]
  },
  {
   "cell_type": "code",
   "execution_count": 8,
   "metadata": {},
   "outputs": [],
   "source": [
    "def plotLoss(history):\n",
    "    loss_values = history.history['loss']\n",
    "    val_loss_values = history.history['val_loss']\n",
    "    epochs = range(1, len(loss_values)+1)\n",
    "\n",
    "    plt.plot(epochs, loss_values, label='Training Loss')\n",
    "    plt.plot(epochs, val_loss_values, label='Validation Loss')\n",
    "    plt.xlabel('Epochs')\n",
    "    plt.ylabel('Loss')\n",
    "    plt.legend()\n",
    "    plt.show()"
   ]
  },
  {
   "cell_type": "code",
   "execution_count": 9,
   "metadata": {},
   "outputs": [],
   "source": [
    "def saveModel(model):\n",
    "    # serialize model to YAML\n",
    "    model_yaml = model.to_yaml()\n",
    "    with open(\"Summary.yaml\", \"w\") as yaml_file:\n",
    "        yaml_file.write(model_yaml)\n",
    "    # serialize weights to HDF5\n",
    "    model.save_weights(\"Weights.h5\")\n",
    "    print(\"Saved model to disk\")"
   ]
  },
  {
   "cell_type": "code",
   "execution_count": 10,
   "metadata": {},
   "outputs": [],
   "source": [
    "def loadModel(yamlPathName, h5PathName):\n",
    "    with open(yamlPathName+'.yaml', 'r') as yaml_file:\n",
    "        print(yamlPathName)\n",
    "        loaded_model_yaml = yaml_file.read()\n",
    "        loaded_model = model_from_yaml(loaded_model_yaml)\n",
    "        loaded_model.load_weights(h5PathName+'.h5')\n",
    "    loaded_model.compile(loss = 'binary_crossentropy', optimizer='adam',metrics = ['accuracy'])\n",
    "    return loaded_model"
   ]
  },
  {
   "cell_type": "code",
   "execution_count": 11,
   "metadata": {},
   "outputs": [],
   "source": [
    "def filterAndShow(filter1, filter2, modelOutput, labelTest):\n",
    "    print(modelOutput)\n",
    "    test = []\n",
    "    test_y = []\n",
    "\n",
    "    for i in range(len(modelOutput)):\n",
    "        if(modelOutput[i] <filter1 or modelOutput[i]>filter2):\n",
    "            test.append(modelOutput[i])\n",
    "            test_y.append(labelTest[i])\n",
    "\n",
    "    test1 = np.array(test)\n",
    "    testy1 = np.array(test_y)\n",
    "    print(testy1)\n",
    "    print(test1.shape)\n",
    "    print(testy1.shape)\n",
    "    showConfusionMatrix(testy1, test1)"
   ]
  },
  {
   "cell_type": "code",
   "execution_count": 12,
   "metadata": {},
   "outputs": [],
   "source": [
    "def showConfusionMatrix(trueLabel,resultToShow):\n",
    "    labels = ['positive','negative']\n",
    "    cm = confusion_matrix(y_true=trueLabel , y_pred=resultToShow>0.5)\n",
    "    print(cm)"
   ]
  },
  {
   "cell_type": "code",
   "execution_count": 13,
   "metadata": {},
   "outputs": [],
   "source": [
    "def showWordWithCode(dataToMap, tokenizer): #dataToMap = list of sentiment\n",
    "    reverse_word_map = dict(map(reversed, tokenizer.word_index.items())) # map id to all word in dic\n",
    "    print(reverse_word_map)\n",
    "    \n",
    "    def sequence_to_text(list_of_indices):\n",
    "        # Looking up words in dictionary\n",
    "        words = [reverse_word_map.get(letter) for letter in list_of_indices]\n",
    "        return(words)\n",
    "    \n",
    "    my_texts = list(map(sequence_to_text, dataToMap))\n",
    "    #my_texts\n",
    "    return reverse_word_map"
   ]
  },
  {
   "cell_type": "code",
   "execution_count": 14,
   "metadata": {},
   "outputs": [],
   "source": [
    "def saveSentimentAndResult(sentenceToSave, resultToSave):\n",
    "    sen_temp = \"\"\n",
    "    SentimentSave = []\n",
    "    for one_sentence in sentenceToSave:\n",
    "        for word in one_sentence:\n",
    "            if isinstance(word, str):\n",
    "                sen_temp = sen_temp + \" \" + word\n",
    "            \n",
    "        SentimentSave.append(sen_temp)\n",
    "        sen_temp = \"\"\n",
    "            \n",
    "    #make 1 Dim predict result\n",
    "    resultSave = []\n",
    "    for arr_result in resultToSave:\n",
    "        for result in arr_result:\n",
    "            #print(result)\n",
    "            resultSave.append(result)\n",
    "            \n",
    "    data = {'lemma_review': SentimentSave, 'predict score': resultSave}\n",
    "    toFile = pd.DataFrame(data)\n",
    "    toFile.to_csv(\"./for_compare.csv\", index=False)"
   ]
  },
  {
   "cell_type": "markdown",
   "metadata": {},
   "source": [
    "Test"
   ]
  },
  {
   "cell_type": "code",
   "execution_count": 15,
   "metadata": {},
   "outputs": [],
   "source": [
    "MAX_FEATURE = 3800"
   ]
  },
  {
   "cell_type": "code",
   "execution_count": 16,
   "metadata": {},
   "outputs": [
    {
     "name": "stdout",
     "output_type": "stream",
     "text": [
      "(10000, 2)\n"
     ]
    }
   ],
   "source": [
    "path = \"../Clean/lemma_result_rotten_data_text_len_more_12.csv\"\n",
    "x = readFile(path)"
   ]
  },
  {
   "cell_type": "code",
   "execution_count": 17,
   "metadata": {},
   "outputs": [
    {
     "name": "stdout",
     "output_type": "stream",
     "text": [
      "28\n",
      "[1891, 365, 1931, 576, 557, 146, 174, 521, 66, 148, 724, 81, 1261, 197, 3218, 28, 337, 7, 11, 619, 268, 2083, 296, 2321, 829, 1422, 4, 170]\n"
     ]
    }
   ],
   "source": [
    "max_length = checkLength(MAX_FEATURE,x)"
   ]
  },
  {
   "cell_type": "code",
   "execution_count": 18,
   "metadata": {
    "scrolled": false
   },
   "outputs": [
    {
     "name": "stdout",
     "output_type": "stream",
     "text": [
      "20240\n"
     ]
    },
    {
     "data": {
      "text/plain": [
       "(array([[   0,    0,    0, ..., 1900,  107, 1786],\n",
       "        [   0,    0,    0, ..., 2723,  843,   59],\n",
       "        [   0,    0,    0, ...,  989, 3293,  548],\n",
       "        ...,\n",
       "        [   0,    0,    0, ..., 1496,  200,  261],\n",
       "        [   0,    0,    0, ...,   29,   62,   85],\n",
       "        [   0,    0,    0, ...,  155,  691, 1789]]),\n",
       " array([1, 0, 1, ..., 1, 0, 1], dtype=int64))"
      ]
     },
     "execution_count": 18,
     "metadata": {},
     "output_type": "execute_result"
    }
   ],
   "source": [
    "feat,target,tokenizer = beforeCreateModel(max_feat=MAX_FEATURE,dataset=x,max_length=max_length)\n",
    "\n",
    "feat,target"
   ]
  },
  {
   "cell_type": "code",
   "execution_count": 19,
   "metadata": {},
   "outputs": [],
   "source": [
    "X_train, X_test, Y_train, Y_test = train_test_split(feat,target, test_size = 0.2, train_size = 0.8, random_state = 10)"
   ]
  },
  {
   "cell_type": "markdown",
   "metadata": {},
   "source": [
    "LSTM"
   ]
  },
  {
   "cell_type": "code",
   "execution_count": 20,
   "metadata": {
    "scrolled": true
   },
   "outputs": [
    {
     "name": "stdout",
     "output_type": "stream",
     "text": [
      "Model: \"sequential\"\n",
      "_________________________________________________________________\n",
      "Layer (type)                 Output Shape              Param #   \n",
      "=================================================================\n",
      "embedding (Embedding)        (None, 28, 128)           486400    \n",
      "_________________________________________________________________\n",
      "lstm (LSTM)                  (None, 15)                8640      \n",
      "_________________________________________________________________\n",
      "dropout (Dropout)            (None, 15)                0         \n",
      "_________________________________________________________________\n",
      "dense (Dense)                (None, 10)                160       \n",
      "_________________________________________________________________\n",
      "dense_1 (Dense)              (None, 1)                 11        \n",
      "=================================================================\n",
      "Total params: 495,211\n",
      "Trainable params: 495,211\n",
      "Non-trainable params: 0\n",
      "_________________________________________________________________\n",
      "None\n",
      "Input Shape is 28\n"
     ]
    }
   ],
   "source": [
    "embed_dim=128\n",
    "lstm_out=15\n",
    "\n",
    "model = createModelLSTM(embed_dim=embed_dim,lstm_out=lstm_out,max_feat=MAX_FEATURE,input_length=feat.shape[1])\n",
    "print(\"Input Shape is \" + str(feat.shape[1]))"
   ]
  },
  {
   "cell_type": "code",
   "execution_count": 21,
   "metadata": {
    "scrolled": false
   },
   "outputs": [
    {
     "name": "stdout",
     "output_type": "stream",
     "text": [
      "Train on 8000 samples, validate on 2000 samples\n",
      "Epoch 1/10\n",
      "8000/8000 [==============================] - 5s 657us/sample - loss: 0.6722 - accuracy: 0.5846 - val_loss: 0.6057 - val_accuracy: 0.6920\n",
      "Epoch 2/10\n",
      "8000/8000 [==============================] - 3s 398us/sample - loss: 0.5260 - accuracy: 0.7580 - val_loss: 0.5791 - val_accuracy: 0.7015\n",
      "Epoch 3/10\n",
      "8000/8000 [==============================] - 3s 418us/sample - loss: 0.4275 - accuracy: 0.8251 - val_loss: 0.6128 - val_accuracy: 0.6950\n",
      "Epoch 4/10\n",
      "8000/8000 [==============================] - 3s 405us/sample - loss: 0.3681 - accuracy: 0.8589 - val_loss: 0.6443 - val_accuracy: 0.6965\n",
      "Epoch 5/10\n",
      "8000/8000 [==============================] - 3s 392us/sample - loss: 0.3118 - accuracy: 0.8890 - val_loss: 0.7239 - val_accuracy: 0.6910\n",
      "Epoch 6/10\n",
      "8000/8000 [==============================] - 3s 395us/sample - loss: 0.2712 - accuracy: 0.9079 - val_loss: 0.7526 - val_accuracy: 0.6930\n",
      "Epoch 7/10\n",
      "8000/8000 [==============================] - 3s 402us/sample - loss: 0.2373 - accuracy: 0.9179 - val_loss: 0.7979 - val_accuracy: 0.6935\n",
      "Epoch 8/10\n",
      "8000/8000 [==============================] - 3s 431us/sample - loss: 0.2053 - accuracy: 0.9359 - val_loss: 0.8772 - val_accuracy: 0.6935\n",
      "Epoch 9/10\n",
      "8000/8000 [==============================] - 3s 411us/sample - loss: 0.1844 - accuracy: 0.9434 - val_loss: 0.8889 - val_accuracy: 0.6900\n",
      "Epoch 10/10\n",
      "8000/8000 [==============================] - 3s 407us/sample - loss: 0.1634 - accuracy: 0.9504 - val_loss: 0.9959 - val_accuracy: 0.6820\n"
     ]
    }
   ],
   "source": [
    "#history = trainModel(model,feat=X_train,target=Y_train,validation_split=0.2,epochs=15,batch_size=32)\n",
    "random.seed(10)\n",
    "history = model.fit(X_train, \n",
    "                    Y_train,\n",
    "                    validation_data=(X_test, Y_test), \n",
    "                    epochs = 10, \n",
    "                    batch_size=32)"
   ]
  },
  {
   "cell_type": "code",
   "execution_count": 22,
   "metadata": {
    "scrolled": false
   },
   "outputs": [
    {
     "name": "stdout",
     "output_type": "stream",
     "text": [
      "2000/2000 - 0s - loss: 0.9959 - accuracy: 0.6820\n",
      "score: 1.00\n",
      "acc: 0.68\n"
     ]
    }
   ],
   "source": [
    "evaluateModel(model,feat=X_test,target=Y_test,batch_size=32)"
   ]
  },
  {
   "cell_type": "code",
   "execution_count": 23,
   "metadata": {},
   "outputs": [
    {
     "data": {
      "image/png": "[encoded data removed]",
      "text/plain": [
       "<Figure size 432x288 with 1 Axes>"
      ]
     },
     "metadata": {
      "needs_background": "light"
     },
     "output_type": "display_data"
    }
   ],
   "source": [
    "plotLoss(history=history)"
   ]
  },
  {
   "cell_type": "code",
   "execution_count": 24,
   "metadata": {},
   "outputs": [],
   "source": [
    "result=model.predict(X_test)"
   ]
  },
  {
   "cell_type": "code",
   "execution_count": 25,
   "metadata": {},
   "outputs": [
    {
     "name": "stdout",
     "output_type": "stream",
     "text": [
      "[[682 279]\n",
      " [378 661]]\n"
     ]
    }
   ],
   "source": [
    "showConfusionMatrix(trueLabel=Y_test,resultToShow=result)"
   ]
  },
  {
   "cell_type": "markdown",
   "metadata": {},
   "source": [
    "Web Test"
   ]
  },
  {
   "cell_type": "code",
   "execution_count": 24,
   "metadata": {},
   "outputs": [],
   "source": [
    "def beforeCreateModelTest(max_feat,dataset,max_length):\n",
    "    max_fatures = max_feat\n",
    "    X1 = tokenizer.texts_to_sequences(dataset['cleaned_review'].values)\n",
    "    print(len(tokenizer.word_index))\n",
    "    feat = pad_sequences(X1, padding='pre',maxlen=max_length) # 505 = max_length in sentence\n",
    "    target = dataset['Label'].values\n",
    "\n",
    "    return feat,target"
   ]
  },
  {
   "cell_type": "code",
   "execution_count": 25,
   "metadata": {},
   "outputs": [
    {
     "name": "stdout",
     "output_type": "stream",
     "text": [
      "(10, 2)\n"
     ]
    }
   ],
   "source": [
    "path = \"../Clean/test_data.csv\"\n",
    "test = readFile(path)"
   ]
  },
  {
   "cell_type": "code",
   "execution_count": 26,
   "metadata": {},
   "outputs": [],
   "source": [
    "max_length = 28"
   ]
  },
  {
   "cell_type": "code",
   "execution_count": 27,
   "metadata": {},
   "outputs": [
    {
     "name": "stdout",
     "output_type": "stream",
     "text": [
      "17902\n"
     ]
    }
   ],
   "source": [
    "feat_test,target_test = beforeCreateModelTest(max_feat=MAX_FEATURE,dataset=test,max_length=max_length)"
   ]
  },
  {
   "cell_type": "code",
   "execution_count": 28,
   "metadata": {},
   "outputs": [],
   "source": [
    "t_result = model.predict(feat_test)"
   ]
  },
  {
   "cell_type": "code",
   "execution_count": 29,
   "metadata": {},
   "outputs": [
    {
     "name": "stdout",
     "output_type": "stream",
     "text": [
      "[[1 2]\n",
      " [1 6]]\n"
     ]
    }
   ],
   "source": [
    "showConfusionMatrix(trueLabel=target_test,resultToShow=t_result)"
   ]
  },
  {
   "cell_type": "code",
   "execution_count": 30,
   "metadata": {},
   "outputs": [
    {
     "name": "stdout",
     "output_type": "stream",
     "text": [
      "Saved model to disk\n"
     ]
    }
   ],
   "source": [
    "saveModel(model)"
   ]
  },
  {
   "cell_type": "code",
   "execution_count": 34,
   "metadata": {
    "scrolled": false
   },
   "outputs": [
    {
     "name": "stdout",
     "output_type": "stream",
     "text": [
      "./main_1_GRU/Summary\n"
     ]
    },
    {
     "name": "stderr",
     "output_type": "stream",
     "text": [
      "C:\\Users\\gotj\\miniconda3\\envs\\tensorflow\\lib\\site-packages\\tensorflow_core\\python\\keras\\saving\\model_config.py:76: YAMLLoadWarning: calling yaml.load() without Loader=... is deprecated, as the default Loader is unsafe. Please read https://msg.pyyaml.org/load for full details.\n",
      "  config = yaml.load(yaml_string)\n"
     ]
    }
   ],
   "source": [
    "test = loadModel('./main_1_GRU/Summary','./main_1_GRU/Weights')"
   ]
  },
  {
   "cell_type": "code",
   "execution_count": 35,
   "metadata": {},
   "outputs": [],
   "source": [
    "result = test.predict(X_test)"
   ]
  },
  {
   "cell_type": "code",
   "execution_count": 37,
   "metadata": {},
   "outputs": [
    {
     "name": "stdout",
     "output_type": "stream",
     "text": [
      "[[1 2]\n",
      " [1 6]]\n"
     ]
    }
   ],
   "source": [
    "showConfusionMatrix(trueLabel=Y_test,resultToShow=target_test) #LSTM no filter"
   ]
  },
  {
   "cell_type": "code",
   "execution_count": null,
   "metadata": {},
   "outputs": [],
   "source": []
  }
 ],
 "metadata": {
  "kernelspec": {
   "display_name": "Python 3.7 (tensorflow)",
   "language": "python",
   "name": "tensorflow"
  },
  "language_info": {
   "codemirror_mode": {
    "name": "ipython",
    "version": 3
   },
   "file_extension": ".py",
   "mimetype": "text/x-python",
   "name": "python",
   "nbconvert_exporter": "python",
   "pygments_lexer": "ipython3",
   "version": "3.7.9"
  }
 },
 "nbformat": 4,
 "nbformat_minor": 4
}
